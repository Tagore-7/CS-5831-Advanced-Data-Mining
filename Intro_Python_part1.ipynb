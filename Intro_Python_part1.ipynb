{
  "nbformat": 4,
  "nbformat_minor": 0,
  "metadata": {
    "colab": {
      "name": "Intro-Python-part1.ipynb",
      "provenance": [],
      "collapsed_sections": [],
      "toc_visible": true
    },
    "kernelspec": {
      "name": "python3",
      "display_name": "Python 3"
    }
  },
  "cells": [
    {
      "cell_type": "markdown",
      "metadata": {
        "id": "NiGXNueIKIOU"
      },
      "source": [
        "# Introduction to Python \n",
        "\n",
        "Materials adapted from _[How to Think Like a Computer Scientist](https://runestone.academy/runestone/static/thinkcspy/index.html)_\n",
        "\n",
        "\n",
        "This colab notebook is paired with the page on Canvas: **1-Learning Python with your first notebook**"
      ]
    },
    {
      "cell_type": "markdown",
      "metadata": {
        "id": "j4bVT0AkOO1t"
      },
      "source": [
        "## Example 1 - A typical first program \n",
        "\n",
        "Traditionally, the first program written in a new language is called *Hello, World!* because all it does is display the words, Hello, World!  In Python, the source code looks like this."
      ]
    },
    {
      "cell_type": "code",
      "metadata": {
        "id": "w8JtZ8mhKEQI"
      },
      "source": [
        "print(\"Hello, World!\")"
      ],
      "execution_count": null,
      "outputs": []
    },
    {
      "cell_type": "markdown",
      "metadata": {
        "id": "bGDfRXaiOaxg"
      },
      "source": [
        "This is an example of using the `print` function, which doesn't actually print anything on paper. It displays a value on the screen. "
      ]
    },
    {
      "cell_type": "markdown",
      "metadata": {
        "id": "RPKDGsKSPYws"
      },
      "source": [
        "## Example 2 - Add Comments\n",
        "\n",
        "A **comment** in a computer program is text that is intended only for the human reader - it is completely ignored by the interpreter. In Python, the `#` token starts a comment.  The rest of the line is ignored. Here is a new version of *Hello, World!*."
      ]
    },
    {
      "cell_type": "code",
      "metadata": {
        "id": "OfDNWqiwOg9H"
      },
      "source": [
        "#---------------------------------------------------\n",
        "# This demo program shows off how elegant Python is!\n",
        "# Written by Jane Doe, September 2020.\n",
        "# Anyone may freely copy or modify this program.\n",
        "#---------------------------------------------------\n",
        "\n",
        "print(\"Hello, World!\")     # Isn't this easy!"
      ],
      "execution_count": null,
      "outputs": []
    },
    {
      "cell_type": "markdown",
      "metadata": {
        "id": "1XKbxAvsP9Tx"
      },
      "source": [
        "# Python Terminology and Code\n",
        "\n",
        "In order to get started learning any programming language there are a number of concepts and ideas that are necessary. The goal of this section is to introduce you to the basic vocabulary of programming and some of the fundamental building blocks of Python."
      ]
    },
    {
      "cell_type": "markdown",
      "metadata": {
        "id": "3k56Zn7yQ2SP"
      },
      "source": [
        "## Values and Data Types \n",
        "\n",
        "A **value** is one of the fundamental things --- like a word or a number --- that a program manipulates. The values we have seen so far are ``5`` (the result when we added ``2 + 3``), and ``\"Hello, World!\"``.  We often refer to these values as **objects** and we will use the words value and object interchangeably.\n",
        "\n",
        "\n",
        "These objects are classified into different **classes**, or **data types**: ``4`` is an *integer*, and ``\"Hello, World!\"`` is a *string*, so-called because it contains a string or sequence of letters. You (and the interpreter) can identify strings because they are enclosed in quotation marks.\n",
        "\n",
        "If you are not sure what class a value falls into, Python has a function called **type** which can tell you.\n"
      ]
    },
    {
      "cell_type": "markdown",
      "metadata": {
        "id": "6mjkAFU-R5zX"
      },
      "source": [
        "### Example 3 - Data Types"
      ]
    },
    {
      "cell_type": "code",
      "metadata": {
        "id": "H2rmblJSPlHw"
      },
      "source": [
        "print(type(\"Hello, World!\"))\n",
        "print(type(17))\n",
        "print(\"Hello, World\")"
      ],
      "execution_count": null,
      "outputs": []
    },
    {
      "cell_type": "code",
      "metadata": {
        "id": "Qv7k3hwBSCJx"
      },
      "source": [
        "print(type(3.2))"
      ],
      "execution_count": null,
      "outputs": []
    },
    {
      "cell_type": "markdown",
      "metadata": {
        "id": "8dWD7NxuR9CX"
      },
      "source": [
        "### Example 4 - Data Types\n",
        "\n",
        "What about values like \"17\" and \"3.2\"? They look like numbers, but they are in quotation marks like strings.\n"
      ]
    },
    {
      "cell_type": "code",
      "metadata": {
        "id": "rnGVieAtRAZJ"
      },
      "source": [
        "print(type(\"17\"))\n",
        "print(type(\"3.2\"))"
      ],
      "execution_count": null,
      "outputs": []
    },
    {
      "cell_type": "markdown",
      "metadata": {
        "id": "dDC_GKMYSReP"
      },
      "source": [
        "They're strings!\n",
        "\n",
        "Strings in Python can be enclosed in either single quotes (``'``) or double quotes (``\"`` - the double quote character), or three of the same separate quote characters (``'''`` or ``\"\"\"``) - this last case is usually reserved for strings that span multiple lines.\n"
      ]
    },
    {
      "cell_type": "markdown",
      "metadata": {
        "id": "xqcH-2r4Sgo8"
      },
      "source": [
        "### Example 5 - Strings\n",
        "\n",
        "Double quoted strings can contain single quotes inside them, as in \"Bruce's beard\", and single quoted strings can have double quotes inside them, as in 'The knights who say \"Ni!\"'. Strings enclosed with three occurrences of either quote symbol are called triple quoted strings. They can contain either single or double quotes:\n"
      ]
    },
    {
      "cell_type": "code",
      "metadata": {
        "id": "h0bDpN7cSKpk"
      },
      "source": [
        "print('''\"Oh no\", she exclaimed, \"Ben's bike is broken!\"''')"
      ],
      "execution_count": null,
      "outputs": []
    },
    {
      "cell_type": "markdown",
      "metadata": {
        "id": "cVqdUjnwS_YH"
      },
      "source": [
        "Triple quoted strings can even span multiple lines:"
      ]
    },
    {
      "cell_type": "code",
      "metadata": {
        "id": "lhrkIEykS91t"
      },
      "source": [
        "print(\"\"\"This message will span\n",
        "several lines\n",
        "of the text.\"\"\")"
      ],
      "execution_count": null,
      "outputs": []
    },
    {
      "cell_type": "markdown",
      "metadata": {
        "id": "8Jl8xMeoTEwI"
      },
      "source": [
        "### Example 6 - Printing\n",
        "\n",
        "When you type a large integer, you might be tempted to use commas between\n",
        "groups of three digits, as in `42,000`. This is not a legal integer in\n",
        "Python, but it does mean something else, which is legal:"
      ]
    },
    {
      "cell_type": "code",
      "metadata": {
        "id": "EWgZTZrITCcf"
      },
      "source": [
        "print(42000)\n",
        "print(42,000)"
      ],
      "execution_count": null,
      "outputs": []
    },
    {
      "cell_type": "markdown",
      "metadata": {
        "id": "rErEnn3aTR8y"
      },
      "source": [
        "Well, that's not what we expected at all! Because of the comma, Python chose to treat this as a *pair* of values. In fact, the print function can print any number of values as long as you separate them by commas.  Notice that the values are separated by spaces when they are displayed."
      ]
    },
    {
      "cell_type": "code",
      "metadata": {
        "id": "nutYqH5KTlA3"
      },
      "source": [
        "print(42, 17, 56, 34, 11, 3.14, 32)\n",
        "print(3.14, \"hello\", 42)"
      ],
      "execution_count": null,
      "outputs": []
    },
    {
      "cell_type": "markdown",
      "metadata": {
        "id": "eEziP09qUW-t"
      },
      "source": [
        "## Type conversion functions \n",
        "\n",
        "Sometimes it is necessary to convert values from one type to another.  Python provides a few simple functions that will allow us to do that.  The functions ``int``, ``float`` and ``str`` will (attempt to) convert their arguments into types `int`, `float` and `str` respectively.  We call these **type conversion** functions.\n"
      ]
    },
    {
      "cell_type": "markdown",
      "metadata": {
        "id": "DnKh6txdUzTg"
      },
      "source": [
        "### Example 7 - Convert to int\n",
        "\n",
        "The ``int`` function can take a floating point number or a string, and turn it into an int. For floating point numbers, it *discards* the decimal portion of the number - a process we call *truncation towards zero* on the number line. Let us see this in action:"
      ]
    },
    {
      "cell_type": "code",
      "metadata": {
        "id": "tMGwR1gaTmuo"
      },
      "source": [
        "print(3.14, int(3.14))\n",
        "print(3.9999, int(3.9999))       # This doesn't round to the closest int!\n",
        "print(3.0, int(3.0))\n",
        "print(-3.999, int(-3.999))        # Note that the result is closer to zero\n",
        "\n",
        "print(\"2345\", int(\"2345\"))        # parse a string to produce an int\n",
        "print(17, int(17))                # int even works on integers\n",
        "print(int(\"23bottles\"))"
      ],
      "execution_count": null,
      "outputs": []
    },
    {
      "cell_type": "markdown",
      "metadata": {
        "id": "_N-V7kNIU7sF"
      },
      "source": [
        "The last case shows that a string has to be a syntactically legal number, otherwise you'll get one of those pesky runtime errors.  Modify the example by deleting the ``bottles`` and rerun the program.  You should see the integer ``23``."
      ]
    },
    {
      "cell_type": "markdown",
      "metadata": {
        "id": "Z0i3S0XhVMbq"
      },
      "source": [
        "### Example 8 - Convert to float \n",
        "\n",
        "The type converter float can turn an integer, a float, or a syntactically legal string into a float."
      ]
    },
    {
      "cell_type": "code",
      "metadata": {
        "id": "2iP7ljpzUpzu"
      },
      "source": [
        "print(float(\"123.45\"))\n",
        "print(type(float(\"123.45\")))"
      ],
      "execution_count": null,
      "outputs": []
    },
    {
      "cell_type": "markdown",
      "metadata": {
        "id": "gpi-KL31VsGK"
      },
      "source": [
        "### Example 9 - Convert to str \n",
        "\n",
        "The type converter ``str`` turns its argument into a string.  Remember that when we print a string, the quotes are removed.  However, if we print the type, we can see that it is definitely `str`."
      ]
    },
    {
      "cell_type": "code",
      "metadata": {
        "id": "ClLMys0gVxVi"
      },
      "source": [
        "print(str(17))\n",
        "print(str(123.45))\n",
        "print(type(str(123.45)))"
      ],
      "execution_count": null,
      "outputs": []
    },
    {
      "cell_type": "markdown",
      "metadata": {
        "id": "qCG0m3fuXcXP"
      },
      "source": [
        "## Variables \n",
        "\n",
        "One of the most powerful features of a programming language is the ability to manipulate **variables**. A variable is a name that refers to a value.\n",
        "\n",
        "**Assignment statements** create new variables and also give them values to refer to."
      ]
    },
    {
      "cell_type": "markdown",
      "metadata": {
        "id": "-3qqhM3EXnq6"
      },
      "source": [
        "### Example 10 - Variables"
      ]
    },
    {
      "cell_type": "code",
      "metadata": {
        "id": "mtfkiPd8XrYS"
      },
      "source": [
        "message = \"What's up, Doc?\"\n",
        "n = 17\n",
        "pi = 3.14159"
      ],
      "execution_count": null,
      "outputs": []
    },
    {
      "cell_type": "markdown",
      "metadata": {
        "id": "8jUtBKmoXudL"
      },
      "source": [
        "This example makes three assignments. The first assigns the string value `\"What's up, Doc?\"` to a new variable named `message`. The second gives the integer `17` to `n`, and the third assigns the floating-point number `3.14159` to a variable called `pi`.\n",
        "\n",
        "The **assignment token**, ``=``, should not be confused with *equality* (we will see later that equality uses the ``==`` token).  The assignment statement links a *name*, on the left hand side of the operator, with a *value*, on the right hand side.  This is why you will get an error if you enter:\n",
        "\n",
        "```{python}\n",
        "17 = n\n",
        "```"
      ]
    },
    {
      "cell_type": "markdown",
      "metadata": {
        "id": "5h6Aj9COYgSB"
      },
      "source": [
        "**Tip** When reading or writing code, say to yourself \"n is assigned 17\" or \"n gets the value 17\" or \"n is a reference to the object 17\" or \"n refers to the object 17\".  Don't say \"n equals 17\".\n",
        "\n",
        "A common way to represent variables on paper is to write the name with an arrow pointing to the variable's value. This kind of figure, known as a reference diagram, is often called a state snapshot because it shows what state each of the variables is in at a particular instant in time. (Think of it as the variable's state of mind). This diagram shows the result of executing the assignment statements shown above.\n",
        "\n",
        "<img src=\"https://pages.mtu.edu/~lebrown/CADeT/Intro2Python/refdiagram1.png\">\n",
        "\n",
        "If you ask Python to evaluate a variable, it will produce the value that is currently linked to the variable.  In other words, evaluating a variable will give you the value that is referred to by the variable."
      ]
    },
    {
      "cell_type": "code",
      "metadata": {
        "id": "jHALGIpKaLM4"
      },
      "source": [
        "message = \"What's up, Doc?\"\n",
        "n = 17\n",
        "pi = 3.14159\n",
        "\n",
        "print(message)\n",
        "print(n)\n",
        "print(pi)"
      ],
      "execution_count": null,
      "outputs": []
    },
    {
      "cell_type": "markdown",
      "metadata": {
        "id": "B0ZYraQGaUsq"
      },
      "source": [
        "### Example 11 - Variable Types \n",
        "\n",
        "Variables also have types; again, we can ask the interpreter what they are.\n"
      ]
    },
    {
      "cell_type": "code",
      "metadata": {
        "id": "Mlq-W3X-aX9-"
      },
      "source": [
        "print(type(message))\n",
        "print(type(n))\n",
        "print(type(pi))"
      ],
      "execution_count": null,
      "outputs": []
    },
    {
      "cell_type": "markdown",
      "metadata": {
        "id": "8LEbjHE2bGQv"
      },
      "source": [
        "The type of a variable is the type of the object it currently refers to.\n",
        "\n",
        "We use variables in a program to \"remember\" things, like the current score at the football game.  But variables are *variable*. This means they can change over time, just like the scoreboard at a football game.  You can assign a value to a variable, and later assign a different value to the same variable.\n",
        "\n",
        "**Note**  \n",
        "This is different from math. In math, if you give `x` the value 3, it cannot change to refer to a different value half-way through your calculations!"
      ]
    },
    {
      "cell_type": "markdown",
      "metadata": {
        "id": "TpgVPb5dbKKy"
      },
      "source": [
        "### Example 12 - Variables \n",
        "\n",
        "To see this, read and then run the following program. You'll notice we change the value of `day` three times, and on the third assignment we even give it a value that is of a different type."
      ]
    },
    {
      "cell_type": "code",
      "metadata": {
        "id": "tSLly3sHbN6g"
      },
      "source": [
        "day = \"Thursday\"\n",
        "print(day)\n",
        "day = \"Friday\"\n",
        "print(day)\n",
        "day = 21\n",
        "print(day)"
      ],
      "execution_count": null,
      "outputs": []
    },
    {
      "cell_type": "markdown",
      "metadata": {
        "id": "Pyhe9ZhZbV-V"
      },
      "source": [
        "A great deal of programming is about having the computer remember things. For example, we might want to keep track of the number of missed calls on your phone. Each time another call is missed, we will arrange to update or change the variable so that it will always reflect the correct value."
      ]
    },
    {
      "cell_type": "markdown",
      "metadata": {
        "id": "rrzLULiPbfPx"
      },
      "source": [
        "## Variable Names and Keywords \n",
        "\n",
        "**Variable names** can be arbitrarily long. They can contain both letters and digits, but they have to begin with a letter or an underscore. Although it is legal to use uppercase letters, by convention we don't. If you do, remember that case matters. ``Bruce`` and ``bruce`` are different variables. [Python naming conventions](https://www.python.org/dev/peps/pep-0008/#naming-conventions) typically has variables using lower case letters and underscores.\n",
        "\n",
        "**Caution**:  \n",
        "Variable names can never contain spaces. \n",
        "\n",
        "The underscore character ( ``_``) can also appear in a name. It is often used in names with multiple words, such as ``my_name`` or ``price_of_tea_in_china``. There are some situations in which names beginning with an underscore have special meaning, so a safe rule for beginners is to start all names with a letter. "
      ]
    },
    {
      "cell_type": "markdown",
      "metadata": {
        "id": "tLxoYFYodFp3"
      },
      "source": [
        "### Example 13 - Variable Names \n",
        "\n",
        "If you give a variable an illegal name, you get a syntax error.  In the example below, each of the variable names is illegal."
      ]
    },
    {
      "cell_type": "code",
      "metadata": {
        "id": "gk6nVF6odJvZ"
      },
      "source": [
        "76trombones = \"big parade\"\n",
        "more$ = 1000000\n",
        "class = \"Computer Science 101\""
      ],
      "execution_count": null,
      "outputs": []
    },
    {
      "cell_type": "markdown",
      "metadata": {
        "id": "1m3mr1ZSdNEM"
      },
      "source": [
        "``76trombones`` is illegal because it does not begin with a letter.  ``more$`` is illegal because it contains an illegal character, the dollar sign. But what's wrong with ``class``?\n",
        "\n",
        "It turns out that ``class`` is one of the Python **keywords**. Keywords define the language's syntax rules and structure, and they cannot be used as variable names. Python has thirty-something keywords (and every now and again improvements to Python introduce or eliminate one or two):\n",
        "\n",
        "| Python  |  Keywords      |        |         |         |        |\n",
        "|---------|--------|--------|---------|---------|--------|\n",
        "| and     | as     | assert | break   | class   | continue |\n",
        "| def     | del    | elif   | else    | except  | exec  |\n",
        "| finally | for    | from   | global  | if      | import |\n",
        "| in      | is     | lambda | nonlocal | not    |  or |\n",
        "| pass    | raise  | return | try     | while   | with |\n",
        "| yield   | True   | False  | None    |         |       |\n",
        "\n",
        "You might want to keep this list handy. If the interpreter complains about one of your variable names and you don't know why, see if it is on this list.\n",
        "\n",
        "Programmers generally choose names for their variables that are meaningful to the human readers of the program --- they help the programmer document, or remember, what the variable is used for."
      ]
    },
    {
      "cell_type": "markdown",
      "metadata": {
        "id": "rlI34l3_fhZk"
      },
      "source": [
        "## Statements and Expressions \n",
        "\n",
        "A **statement** is an instruction that the Python interpreter can execute. We have only seen the assignment statement so far.  Some other kinds of statements that we'll see shortly are ``while`` statements, ``for`` statements, ``if`` statements,  and ``import`` statements.  (There are other kinds too!)\n",
        "\n",
        "An **expression** is a combination of values, variables, operators, and calls to functions. Expressions need to be evaluated.  If you ask Python to ``print`` an expression, the interpreter **evaluates** the expression and displays the result."
      ]
    },
    {
      "cell_type": "markdown",
      "metadata": {
        "id": "YuWRzgWPflIj"
      },
      "source": [
        "### Example 14 - Expressions \n"
      ]
    },
    {
      "cell_type": "code",
      "metadata": {
        "id": "0XdaP6MGfuff"
      },
      "source": [
        "print(1 + 1)\n",
        "print(len(\"hello\"))"
      ],
      "execution_count": null,
      "outputs": []
    },
    {
      "cell_type": "markdown",
      "metadata": {
        "id": "XLZcTH9wfw-5"
      },
      "source": [
        "In this example ``len`` is a built-in Python function that returns the number of characters in a string.  We've previously seen the ``print`` and the ``type`` functions, so this is our third example of a function!\n",
        "\n"
      ]
    },
    {
      "cell_type": "markdown",
      "metadata": {
        "id": "epjipvTlgLms"
      },
      "source": [
        "### Example 15 - Evaluating Expressions \n",
        "\n",
        "The *evaluation of an expression* produces a value, which is why expressions can appear on the right hand side of assignment statements. A value all by itself is a simple expression, and so is a variable.  Evaluating a variable gives the value that the variable refers to."
      ]
    },
    {
      "cell_type": "code",
      "metadata": {
        "id": "uz7ucl-rgO5a"
      },
      "source": [
        "y = 3.14\n",
        "x = len(\"hello\")\n",
        "print(x)\n",
        "print(y)"
      ],
      "execution_count": null,
      "outputs": []
    },
    {
      "cell_type": "markdown",
      "metadata": {
        "id": "avLZcbDcgm0I"
      },
      "source": [
        "If we take a look at this same example in the Python shell, we will see one of the distinct differences between statements and expressions.\n",
        "\n",
        "```{python}\n",
        ">>> y = 3.14\n",
        ">>> x = len(\"hello\")\n",
        ">>> print(x)\n",
        "5\n",
        ">>> print(y)\n",
        "3.14\n",
        ">>> y\n",
        "3.14\n",
        ">>>\n",
        "```\n",
        "\n",
        "Note that when we enter the assignment statement, ``y = 3.14``, only the prompt is returned.  There is no value.  This is due to the fact that statements, such as the assignment statement, do not return a value.  They are simply executed.\n",
        "\n",
        "On the other hand, the result of executing the assignment statement is the creation of a reference from a variable, ``y``, to a value, ``3.14``.  When we execute the print function working on ``y``, we see the value that y is referring to.  In fact, evaluating ``y`` by itself results in the same response."
      ]
    },
    {
      "cell_type": "markdown",
      "metadata": {
        "id": "tV2UnxEThDPc"
      },
      "source": [
        "## Operations and Operands \n",
        "\n",
        "**Operators** are special tokens that represent computations like addition, multiplication and division. The values the operator works on are called **operands**.\n",
        "\n",
        "The following are all legal Python expressions whose meaning is more or less\n",
        "clear::\n",
        "\n",
        "    20 + 32\n",
        "    hour - 1\n",
        "    hour * 60 + minute\n",
        "    minute / 60\n",
        "    5 ** 2\n",
        "    (5 + 9) * (15 - 7)\n",
        "\n",
        "The tokens ``+``, ``-``, and ``*``, and the use of parenthesis for grouping, mean in Python what they mean in mathematics. The asterisk (``*``) is the token for multiplication, and ``**`` is the token for exponentiation. Addition, subtraction, multiplication, and exponentiation all do what you expect."
      ]
    },
    {
      "cell_type": "markdown",
      "metadata": {
        "id": "DLV34n7MhHzG"
      },
      "source": [
        "### Example 16 - Operations \n",
        "\n"
      ]
    },
    {
      "cell_type": "code",
      "metadata": {
        "id": "mAp5Y4ZxhKh2"
      },
      "source": [
        "print(2 + 3)\n",
        "print(2 - 3)\n",
        "print(2 * 3)\n",
        "print(2 ** 3)\n",
        "print(3 ** 2)"
      ],
      "execution_count": null,
      "outputs": []
    },
    {
      "cell_type": "markdown",
      "metadata": {
        "id": "OPAFUp5ZhNKs"
      },
      "source": [
        "### Example 17 - Division Operator \n",
        "\n",
        "When a variable name appears in the place of an operand, it is replaced with the value that it refers to before the operation is performed. For example, what if we wanted to convert 645 minutes into hours. In Python 3, division is denoted by the operator token ``/`` which always evaluates to a floating point result."
      ]
    },
    {
      "cell_type": "code",
      "metadata": {
        "id": "AKGl6qBKhqg-"
      },
      "source": [
        "minutes = 645\n",
        "hours = minutes / 60\n",
        "print(hours)"
      ],
      "execution_count": null,
      "outputs": []
    },
    {
      "cell_type": "markdown",
      "metadata": {
        "id": "9q89ift2iBOh"
      },
      "source": [
        "What if, on the other hand, we had wanted to know how many *whole* hours there are and how many minutes remain.  To help answer this question, Python gives us a second flavor of the division operator.  This version, called **integer division**, uses the token ``//``.  It always *truncates* its result down to the next smallest integer (to the left on the number line)."
      ]
    },
    {
      "cell_type": "code",
      "metadata": {
        "id": "stbi638CiDj1"
      },
      "source": [
        "print(7 / 4)\n",
        "print(7 // 4)\n",
        "minutes = 645\n",
        "hours = minutes // 60\n",
        "print(hours)"
      ],
      "execution_count": null,
      "outputs": []
    },
    {
      "cell_type": "markdown",
      "metadata": {
        "id": "RhAIvSapiFxL"
      },
      "source": [
        "Pay particular attention to the first two examples above.  Notice that the result of floating point division is ``1.75`` but the result of the integer division is simply ``1``. Take care that you choose the correct flavor of the division operator.  If you're working with expressions where you need floating point values, use the division operator ``/``.  If you want an integer result, use ``//``."
      ]
    },
    {
      "cell_type": "markdown",
      "metadata": {
        "id": "y0Ts-QXjiI27"
      },
      "source": [
        "### Example 18 - Modulus Operator \n",
        "\n",
        "The **modulus operator**, sometimes also called the **remainder operator** or **integer remainder operator** works on integers (and integer expressions) and yields the remainder when the first operand is divided by the second. In Python, the modulus operator is a percent sign (``%``). The syntax is the same as for other operators."
      ]
    },
    {
      "cell_type": "code",
      "metadata": {
        "id": "ZwzQb3-Jik9y"
      },
      "source": [
        "quotient = 7 // 3     # This is the integer division operator\n",
        "print(quotient)\n",
        "remainder = 7 % 3\n",
        "print(remainder)"
      ],
      "execution_count": null,
      "outputs": []
    },
    {
      "cell_type": "markdown",
      "metadata": {
        "id": "2VLavryzVfqw"
      },
      "source": [
        ""
      ]
    },
    {
      "cell_type": "markdown",
      "metadata": {
        "id": "snStegHtinNl"
      },
      "source": [
        "In the above example, 7 divided by 3 is 2 when we use integer division and there is a remainder of 1 when we use the modulus operator.\n",
        "\n",
        "The modulus operator turns out to be surprisingly useful. For example, you can check whether one number is divisible by another---if ``x % y`` is zero, then ``x`` is divisible by ``y``. Also, you can extract the right-most digit or digits from a number.  For example, ``x % 10`` yields the right-most digit of ``x`` (in base 10). Similarly ``x % 100`` yields the last two digits.\n",
        "\n",
        "Finally, let's look at an example with time, the remainder operator is extremely useful for doing conversions, say from seconds, to hours, minutes and seconds. If we start with a number of seconds, say 7684, the following program uses integer division and remainder to convert to an easier form.  Step through it to be sure you understand how the division and remainder operators are being used to compute the correct values.\n"
      ]
    },
    {
      "cell_type": "code",
      "metadata": {
        "id": "a9iTT9Knipve"
      },
      "source": [
        "total_secs = 7684\n",
        "hours = total_secs // 3600 \n",
        "secs_still_remaining = total_secs % 3600 \n",
        "minutes = secs_still_remaining // 60 \n",
        "secs = secs_still_remaining % 60 \n",
        "print(hours, minutes, secs)"
      ],
      "execution_count": null,
      "outputs": []
    },
    {
      "cell_type": "markdown",
      "metadata": {
        "id": "CAHRRf0qjkGG"
      },
      "source": [
        "## Input \n",
        "\n",
        "The program in the previous section works fine but is very limited in that it only works with one value for ``total_secs``.  What if we wanted to rewrite the program so that it was more general.  One thing we could do is allow the user to enter any value they wish for the number of seconds.  The program could then print the proper result for that starting value.\n",
        "\n",
        "In order to do this, we need a way to get **input** from the user.  Luckily, in Python there is a built-in function to accomplish this task.  As you might expect, it is called ``input``.\n",
        "\n",
        "    n = input(\"Please enter your name: \")\n",
        "\n",
        "The input function allows the user to provide a **prompt string**.  When the function is evaluated, the prompt is shown. The user of the program can enter the name and press `return`. When this happens the text that has been entered is returned from the `input` function, and in this case assigned to the variable `n`.  Make sure you run this example a number of times and try some different names in the input box that appears."
      ]
    },
    {
      "cell_type": "markdown",
      "metadata": {
        "id": "GlpcDUoLj5HT"
      },
      "source": [
        "### Example 19 - Input "
      ]
    },
    {
      "cell_type": "code",
      "metadata": {
        "id": "7owI-KzMjR4X"
      },
      "source": [
        "n = input(\"Please enter your name: \")\n",
        "print(\"Hello\", n)"
      ],
      "execution_count": null,
      "outputs": []
    },
    {
      "cell_type": "markdown",
      "metadata": {
        "id": "McJ1YbJ7kNaD"
      },
      "source": [
        "It is very important to note that the ``input`` function returns a string value.  Even if you asked the user to enter their age, you would get back a string like ``\"17\"``.  It would be your job, as the programmer, to convert that string into an int or a float, using the ``int`` or ``float`` converter functions we saw earlier.\n"
      ]
    },
    {
      "cell_type": "markdown",
      "metadata": {
        "id": "WTzGBvdjkXKo"
      },
      "source": [
        "### Example 20 - Input Number \n",
        "\n",
        "To modify our previous program, we will add an input statement to allow the user to enter the number of seconds.  Then we will convert that string to an integer.  From there the process is the same as before.  To complete the example, we will print some appropriate output.\n",
        "\n"
      ]
    },
    {
      "cell_type": "code",
      "metadata": {
        "id": "bTUShDL3kDeV"
      },
      "source": [
        "str_seconds = input(\"Please enter the number of seconds you wish to convert\")\n",
        "total_secs = int(str_seconds)\n",
        "\n",
        "hours = total_secs // 3600\n",
        "secs_still_remaining = total_secs % 3600\n",
        "minutes =  secs_still_remaining // 60\n",
        "secs_finally_remaining = secs_still_remaining  % 60\n",
        "\n",
        "print(\"Hrs=\", hours, \"mins=\", minutes, \"secs=\", secs_finally_remaining)"
      ],
      "execution_count": null,
      "outputs": []
    },
    {
      "cell_type": "markdown",
      "metadata": {
        "id": "SopmyRNhkoP7"
      },
      "source": [
        "The variable ``str_seconds`` will refer to the string that is entered by the user. As we said above, even though this string may be ``7684``, it is still a string and not a number.  To convert it to an integer, we use the ``int`` function. The result is referred to by ``total_secs``.  Now, each time you run the program, you can enter a new value for the number of seconds to be converted.\n"
      ]
    },
    {
      "cell_type": "markdown",
      "metadata": {
        "id": "lTOrJcCtlBmr"
      },
      "source": [
        "## Order of Operations \n",
        "\n",
        "When more than one operator appears in an expression, the order of evaluation depends on the **rules of precedence**. Python follows the same precedence rules for its mathematical operators that mathematics does.\n",
        "\n",
        "\n",
        "1. Parentheses have the highest precedence and can be used to force an expression to evaluate in the order you want. Since expressions in parentheses are evaluated first, ``2 * (3-1)`` is 4, and ``(1+1)**(5-2)`` is 8. You can also use parentheses to make an expression easier to read, as in ``(minute * 100) / 60``, even though it doesn't change the result.\n",
        "2. Exponentiation has the next highest precedence, so ``2**1+1`` is 3 and not 4, and ``3*1**3`` is 3 and not 27.  Can you explain why?\n",
        "3. Multiplication and both division operators have the same precedence, which is higher than addition and subtraction, which also have the same precedence. So ``2*3-1`` yields 5 rather than 4, and ``5-2*2`` is 1, not 6.\n",
        "4. Operators with the *same* precedence (except for ``**``) are evaluated from left-to-right. In algebra we say they are *left-associative*. So in the expression ``6-3+2``, the subtraction happens first, yielding 3. We then add 2 to get the result 5. If the operations had been evaluated from right to left, the result would have been ``6-(3+2)``, which is 1.\n",
        "\n",
        "**Note**  \n",
        "An exception to the left-to-right left-associative rule is the exponentiation operator `**`. A useful hint is to always use parentheses to force exactly the order you want when exponentiation is involved:"
      ]
    },
    {
      "cell_type": "markdown",
      "metadata": {
        "id": "uKXHT3LZlmup"
      },
      "source": [
        "### Example 21 - Exponentiation \n",
        "\n"
      ]
    },
    {
      "cell_type": "code",
      "metadata": {
        "id": "5m65PMYckkIX"
      },
      "source": [
        "print(2 ** 3 ** 2)     # the right-most ** operator gets done first!\n",
        "print((2 ** 3) ** 2)   # use parentheses to force the order you want!\n",
        "\n"
      ],
      "execution_count": null,
      "outputs": []
    },
    {
      "cell_type": "markdown",
      "metadata": {
        "id": "Zk_CD0_7niQ8"
      },
      "source": [
        "### Operator precedence table\n",
        "\n",
        "See Operation Table for *all* the operators introduced in this book. You will also see many upcoming non-mathematical Python operators.\n",
        "\n",
        "The following table summarizes the operator precedence of Python operators *in this book*, from  highest precedence (most binding) to lowest precedence (least binding).  Operators in the same box have the same precedence.  Unless syntax is explicitly given, operators are binary.  Operators in the same box group left to right (except for exponentiation, which groups from right to left).  This is many of the entries from the complete Python table at [https://docs.python.org/3/reference/expressions.html#operator-precedence](https://docs.python.org/3/reference/expressions.html#operator-precedence).\n",
        "\n",
        "In the row for comparisons, membership tests, and identity tests, all have the same precedence and have a left-to-right chaining feature; for example ``3 < x <= y != z``.\n",
        "\n",
        "<img src=\"https://pages.mtu.edu/~lebrown/CADeT/Intro2Python/operatorPrecTable.png\">"
      ]
    },
    {
      "cell_type": "markdown",
      "metadata": {
        "id": "XjM2WURmoThT"
      },
      "source": [
        "## Reassignment \n",
        "\n",
        "As we have mentioned previously, it is legal to make more than one assignment to the same variable. A new assignment makes an existing variable refer to a new value (and stop referring to the old value)."
      ]
    },
    {
      "cell_type": "markdown",
      "metadata": {
        "id": "48cafNOpoWj8"
      },
      "source": [
        "### Example 22 - Reassignment \n",
        "\n"
      ]
    },
    {
      "cell_type": "code",
      "metadata": {
        "id": "Vbxi8UrxlrAD"
      },
      "source": [
        "bruce = 5\n",
        "print(bruce)\n",
        "bruce = 7\n",
        "print(bruce)"
      ],
      "execution_count": null,
      "outputs": []
    },
    {
      "cell_type": "markdown",
      "metadata": {
        "id": "f-T3w9Bjow7C"
      },
      "source": [
        "The first time ``bruce`` is printed, its value is 5, and the second time, its value is 7.  The assignment statement changes the value (the object) that ``bruce`` refers to.\n",
        "\n",
        "Here is what **reassignment** looks like in a reference diagram:\n",
        "\n",
        "<img src=\"https://pages.mtu.edu/~lebrown/CADeT/Intro2Python/reassign1.png\">"
      ]
    },
    {
      "cell_type": "markdown",
      "metadata": {
        "id": "czhh2rBJo7Uu"
      },
      "source": [
        "### Example 23 - Reassignment \n",
        "\n",
        "It is important to note that in mathematics, a statement of equality is always true.  If ``a is equal to b`` now, then ``a will always equal to b``. In Python, an assignment statement can make two variables refer to the same object and therefore have the same value.  They appear to be equal.  However, because of the possibility of reassignment, they don't have to stay that way:"
      ]
    },
    {
      "cell_type": "code",
      "metadata": {
        "id": "pt1SYdzeoacT"
      },
      "source": [
        "a = 5\n",
        "b = a    # after executing this line, a and b are now equal\n",
        "print(a, b)\n",
        "a = 3    # after executing this line, a and b are no longer equal\n",
        "print(a, b)"
      ],
      "execution_count": null,
      "outputs": []
    },
    {
      "cell_type": "markdown",
      "metadata": {
        "id": "W872ymPrpM2P"
      },
      "source": [
        "Line 4 changes the value of ``a`` but does not change the value of ``b``, so they are no longer equal. We will have much more to say about equality in a later chapter.\n",
        "\n",
        "**Note**  \n",
        "In some programming languages, a different symbol is used for assignment, such as ``<-`` or ``:=``.  The intent is that this will help to avoid confusion.  Python chose to use the tokens ``=`` for assignment, and ``==`` for equality.  This is a popular choice also found in languages like C, C++, Java, and C#."
      ]
    },
    {
      "cell_type": "markdown",
      "metadata": {
        "id": "Zp1IWgHtp_u_"
      },
      "source": [
        "## Updating Variables \n",
        "\n",
        "One of the most common forms of reassignment is an **update** where the new value of the variable depends on the old.  For example,\n",
        "\n",
        "    x = x + 1\n",
        "\n",
        "This means get the current value of x, add one, and then update x with the new value.  The new value of x is the old value of x plus 1.  Although this assignment statement may look a bit strange, remember that executing assignment is a two-step process.  First, evaluate the right-hand side expression.  Second, let the variable name on the left-hand side refer to this new resulting object.  The fact that ``x`` appears on both sides does not matter.  The semantics of the assignment statement makes sure that there is no confusion as to the result.  "
      ]
    },
    {
      "cell_type": "markdown",
      "metadata": {
        "id": "1GaCVflUqDAG"
      },
      "source": [
        "### Example 24 - Updating Variables \n",
        "\n"
      ]
    },
    {
      "cell_type": "code",
      "metadata": {
        "id": "byxMhHDSpL3h"
      },
      "source": [
        "x = 6        # initialize x\n",
        "print(x)\n",
        "x = x + 1    # update x\n",
        "print(x)"
      ],
      "execution_count": null,
      "outputs": []
    },
    {
      "cell_type": "markdown",
      "metadata": {
        "id": "Lq6Zk1QQqRrR"
      },
      "source": [
        "If you try to update a variable that doesn't exist, you get an error because Python evaluates the expression on the right side of the assignment operator before it assigns the resulting value to the name on the left. Before you can update a variable, you have to **initialize** it, usually with a simple assignment.  In the above example, ``x`` was initialized to 6.\n",
        "\n",
        "Updating a variable by adding 1 is called an **increment**; subtracting 1 is called a **decrement**.  Sometimes programmers also talk about **bumping** a variable, which means the same as incrementing it by 1.\n",
        "\n",
        "\n",
        "\n",
        "---\n",
        "\n",
        "\n",
        "\n",
        "---\n",
        "\n"
      ]
    },
    {
      "cell_type": "markdown",
      "metadata": {
        "id": "P3j6z9NjqmjD"
      },
      "source": [
        "# Exercises \n",
        "\n",
        "Here are few exercises to check your understanding. \n"
      ]
    },
    {
      "cell_type": "markdown",
      "metadata": {
        "id": "1kTA1OgEreHR"
      },
      "source": [
        "## Exercise 1 - Operators\n",
        "\n",
        "Evaluate the following numerical expressions in your head, then use the active code window to check your results:\n",
        "\n",
        "1. ``5 ** 2``\n",
        "2. ``9 * 5``\n",
        "3. ``15 / 12``\n",
        "4. ``12 / 15``\n",
        "5. ``15 // 12``\n",
        "6. ``12 // 15``\n",
        "7. ``5 % 2``\n",
        "8. ``9 % 5``\n",
        "9. ``15 % 12``\n",
        "10. ``12 % 15``\n",
        "11. ``6 % 6``\n",
        "12. ``0 % 7``"
      ]
    },
    {
      "cell_type": "code",
      "metadata": {
        "id": "uXZ22ps3qIT_"
      },
      "source": [
        "print(5 ** 2)"
      ],
      "execution_count": null,
      "outputs": []
    },
    {
      "cell_type": "markdown",
      "metadata": {
        "id": "dMMYK2PDsBvB"
      },
      "source": [
        "After working on the problem you can check your [answers here](#ans1). "
      ]
    },
    {
      "cell_type": "markdown",
      "metadata": {
        "id": "BpKjChubs94c"
      },
      "source": [
        "## Exercise 2 - Order of Operations \n",
        "\n",
        "What is the order of the arithmetic operations in the following expression.  Evaluate the expression by hand and then check your work.\n",
        "\n",
        "    2 + (3 - 1) * 10 / 5 * (2 + 3)\n",
        "\n",
        "[exercise 2 answers](#ans2)"
      ]
    },
    {
      "cell_type": "code",
      "metadata": {
        "id": "aj6kuExtt96o"
      },
      "source": [
        ""
      ],
      "execution_count": null,
      "outputs": []
    },
    {
      "cell_type": "markdown",
      "metadata": {
        "id": "n7du8jeQtl7h"
      },
      "source": [
        "## Exercise 3 - Order of Operations \n",
        "\n",
        "Add parenthesis to the expression ``6 * 1 - 2`` to change its value from 4 to -6."
      ]
    },
    {
      "cell_type": "code",
      "metadata": {
        "id": "hM-9qr78t-yz"
      },
      "source": [
        ""
      ],
      "execution_count": null,
      "outputs": []
    },
    {
      "cell_type": "markdown",
      "metadata": {
        "id": "DkD4uAaSuAQw"
      },
      "source": [
        "[exercise 3 answers](#ans3)"
      ]
    },
    {
      "cell_type": "markdown",
      "metadata": {
        "id": "qsKrMY4fueIf"
      },
      "source": [
        "## Exercise 4 - Compute Compound Interest \n",
        "\n",
        "The formula for computing the final amount if one is earning compound interest is given on Wikipedia as\n",
        "\n",
        "<img src=\"https://pages.mtu.edu/~lebrown/CADeT/Intro2Python/compoundInterest.png\">\n",
        "\n",
        "Write a Python program that assigns the principal amount of 10000 to variable `P`, assign to `n` the value 12, and assign to `r` the interest rate of 8% (0.08).  Then have the program prompt the user for the number of years, `t`, that the money will be compounded for.  Calculate and print the final amount after `t` years. "
      ]
    },
    {
      "cell_type": "code",
      "metadata": {
        "id": "6W6e8yVOvDSx"
      },
      "source": [
        "P = 10000\n",
        "n = 12\n",
        "r = 0.08\n",
        "\n",
        "t = int(input(\"Compound for how many years? \"))\n",
        "\n",
        "final =    # Fill in calculation \n",
        "\n",
        "print (\"The final amount after\", t, \"years is\", final)"
      ],
      "execution_count": null,
      "outputs": []
    },
    {
      "cell_type": "markdown",
      "metadata": {
        "id": "gQddAUcSvTVs"
      },
      "source": [
        "[exercise 4 answers](#ans4)"
      ]
    },
    {
      "cell_type": "markdown",
      "metadata": {
        "id": "F009YYD4rUR-"
      },
      "source": [
        "\n",
        "\n",
        "---\n",
        "\n",
        "\n",
        "\n",
        "---\n",
        "\n"
      ]
    },
    {
      "cell_type": "markdown",
      "metadata": {
        "id": "9P5nbffGrLW6"
      },
      "source": [
        "\n",
        "# Answers to Exercises \n",
        "\n"
      ]
    },
    {
      "cell_type": "markdown",
      "metadata": {
        "id": "Iv4toEklsPnV"
      },
      "source": [
        "## <a name=\"ans1\"></a>Exercise 1 Answer\n",
        "\n",
        "1. ``5 ** 2  = 25``\n",
        "2. ``9 * 5 = 45``\n",
        "3. ``15 / 12 = 1.25``\n",
        "4. ``12 / 15 = 0.8``\n",
        "5. ``15 // 12 = 1``\n",
        "6. ``12 // 15 = 0``\n",
        "7. ``5 % 2 = 1``\n",
        "8. ``9 % 5 = 4``\n",
        "9. ``15 % 12 = 3``\n",
        "10. ``12 % 15 = 12``\n",
        "11. ``6 % 6 = 0``\n",
        "12. ``0 % 7 = 0``"
      ]
    },
    {
      "cell_type": "code",
      "metadata": {
        "id": "8YQA-s96rTsp"
      },
      "source": [
        "print(5 ** 2)\n",
        "print(9 * 5) \n",
        "print(15 / 12)\n",
        "print(12 / 15) \n",
        "print(15 // 12) \n",
        "print(12 // 15)\n",
        "print(5 % 2) \n",
        "print(9 % 5) \n",
        "print(15 % 12)\n",
        "print(12 % 15) \n",
        "print(6 % 6) \n",
        "print(0 % 7)"
      ],
      "execution_count": null,
      "outputs": []
    },
    {
      "cell_type": "markdown",
      "metadata": {
        "id": "ZNpHIaIdtR2N"
      },
      "source": [
        "## <a name=\"ans2\"></a> Exercise 2 Answer \n",
        "\n"
      ]
    },
    {
      "cell_type": "code",
      "metadata": {
        "id": "XMJeZ788szrX"
      },
      "source": [
        "2 + (3 - 1) * 10 / 5 * (2 + 3)"
      ],
      "execution_count": null,
      "outputs": []
    },
    {
      "cell_type": "markdown",
      "metadata": {
        "id": "HuapsrlKuF-i"
      },
      "source": [
        "## <a name=\"ans3\"></a> Exercise 3 Answer \n",
        "\n",
        "Add parenthesis to the expression ``6 * 1 - 2`` to change its value from 4 to -6."
      ]
    },
    {
      "cell_type": "code",
      "metadata": {
        "id": "sjCwXN1-tasi"
      },
      "source": [
        "print(6 * 1 - 2)\n",
        "print(6 * (1- 2))"
      ],
      "execution_count": null,
      "outputs": []
    },
    {
      "cell_type": "markdown",
      "metadata": {
        "id": "ZsaedFfsvZgt"
      },
      "source": [
        "## <a name=\"ans4\"></a> Exercise 4 Answer \n",
        "\n",
        "Write a Python program that assigns the principal amount of 10000 to variable `P`, assign to `n` the value 12, and assign to `r` the interest rate of 8% (0.08).  Then have the program prompt the user for the number of years, `t`, that the money will be compounded for.  Calculate and print the final amount after `t` years. "
      ]
    },
    {
      "cell_type": "code",
      "metadata": {
        "id": "q7R3OMw4uXtW"
      },
      "source": [
        "P = 10000\n",
        "n = 12\n",
        "r = 0.08\n",
        "\n",
        "t = int(input(\"Compound for how many years? \"))\n",
        "\n",
        "final = P * ( ((1 + (r/n)) ** (n * t)) )  # Fill in calculation \n",
        "\n",
        "print (\"The final amount after\", t, \"years is\", final)"
      ],
      "execution_count": null,
      "outputs": []
    },
    {
      "cell_type": "code",
      "metadata": {
        "id": "oN9udscqvpCr"
      },
      "source": [
        ""
      ],
      "execution_count": null,
      "outputs": []
    }
  ]
}