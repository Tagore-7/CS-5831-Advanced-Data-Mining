{
  "nbformat": 4,
  "nbformat_minor": 0,
  "metadata": {
    "colab": {
      "name": "Intro-Python-part4.ipynb",
      "provenance": [],
      "collapsed_sections": [],
      "toc_visible": true
    },
    "kernelspec": {
      "name": "python3",
      "display_name": "Python 3"
    }
  },
  "cells": [
    {
      "cell_type": "markdown",
      "metadata": {
        "id": "jhXbhbGkwMSa"
      },
      "source": [
        "# Functions \n",
        "\n",
        "Materials adapted from *[How to Think Like a Computer Scientist](https://runestone.academy/runestone/static/thinkcspy/index.html)* and [Data 8 - Inferential Thinking](https://www.inferentialthinking.com/)\n",
        "\n",
        "This colab notebook is paired with the page on Canvas: 4-Functions\n",
        "\n",
        "In Python, a **function** is a named sequence of statements that belong together.  Their primary purpose is to help us organize programs into chunks that match how we think about the solution to the problem.\n",
        "\n",
        "The syntax for a **function definition** is:\n",
        "\n",
        "```python\n",
        "def name( parameters ):\n",
        "    statements\n",
        "```\n",
        "\n",
        "You can make up any names you want for the functions you create, except that you can't use a name that is a Python keyword, and the names must follow the rules for legal identifiers that were given previously. The parameters specify what information, if any, you have to provide in order to use the new function.  Another way to say this is that the parameters specify what the function needs to do its work.\n",
        "\n",
        "There can be any number of statements inside the function, but they have to be indented from the ``def``. In the examples in this book, we will use the standard indentation of four spaces. Function definitions are the second of several **compound statements** we will see, all of which have the same pattern:\n",
        "\n",
        "1. A header line which begins with a keyword and ends with a colon.\n",
        "2. A **body** consisting of one or more Python statements, each indented the same amount -- *4 spaces is the Python standard* -- from the header line.\n",
        "\n",
        "In a function definition, the keyword in the header is ``def``, which is followed by the name of the function and some *parameters* enclosed in parentheses. The parameter list may be empty, or it may contain any number of parameters separated from one another by commas. In either case, the parentheses are required.\n",
        "\n",
        "We need to say a bit more about the parameters.  In the definition, the parameter list is more specifically known as the **formal parameters**.  This list of names describes those things that the function will need to receive from the user of the function.  When you use a function, you provide values to the formal parameters.\n",
        "\n",
        "The figure below shows this relationship.  A function needs certain information to do its work.  These values, often called **arguments** or **actual parameters**, are passed to the function by the user.\n",
        "\n",
        "<img src=\"https://pages.mtu.edu/~lebrown/CADeT/Intro2Python/blackboxproc.png\">\n",
        "\n",
        "This type of diagram is often called a **black-box diagram** because it only states the requirements from the perspective of the user.  The user must know the name of the function and what arguments need to be passed.  The details of how the function works are hidden inside the \"black-box\"."
      ]
    },
    {
      "cell_type": "markdown",
      "metadata": {
        "id": "7h-C2p7j4hzP"
      },
      "source": [
        "## Our First Function \n",
        "\n",
        "The definition of the `print_double` function below simply doubles a number.\n"
      ]
    },
    {
      "cell_type": "code",
      "metadata": {
        "id": "8Wcsc5e7wJGR"
      },
      "source": [
        "# Our first function definition\n",
        "\n",
        "def print_double(x):\n",
        "    \"\"\" Double x \"\"\"\n",
        "    return 2*x"
      ],
      "execution_count": null,
      "outputs": []
    },
    {
      "cell_type": "markdown",
      "metadata": {
        "id": "MxSt2EsR4rYM"
      },
      "source": [
        "We start any function definition by writing `def`. Here is a breakdown of the other parts (the syntax) of this small function:\n",
        "\n",
        "<img src=\"https://pages.mtu.edu/~lebrown/CADeT/Intro2Python/function_definition.jpg\">\n",
        "\n",
        "When we run the cell above, no particular number is doubled, and the code inside the body of `print_double` is not yet evaluated. In this respect, our function is analogous to a *recipe*. Each time we follow the instructions in a recipe, we need to start with ingredients. Each time we want to use our function to double a number, we need to specify a number.\n",
        "\n",
        "\n",
        "Defining a new function does not make the function run. To do that we need a **function call**.  This is also known as a **function invocation**. We've already seen how to call some built-in functions like ``print``, ``range`` and ``int``. Function calls contain the name of the function to be executed followed by a list of values in parentheses, called *arguments*, which are assigned to the parameters in the function definition. \n",
        "\n",
        "Once we've defined a function, we can call it as often as we like and its\n",
        "statements will be executed each time we call it.  We can call `print_double` in exactly the same way we have called other functions. Each time we do that, the code in the body is executed, with the value of the argument given the name `x`."
      ]
    },
    {
      "cell_type": "code",
      "metadata": {
        "id": "3wdnBpMw44H_"
      },
      "source": [
        "print_double(17)"
      ],
      "execution_count": null,
      "outputs": []
    },
    {
      "cell_type": "code",
      "metadata": {
        "id": "-OSA4SRM447y"
      },
      "source": [
        "print_double(-0.6/4)"
      ],
      "execution_count": null,
      "outputs": []
    },
    {
      "cell_type": "markdown",
      "metadata": {
        "id": "svfFZdpH5FH7"
      },
      "source": [
        "**Warning**  \n",
        "Even if a function call needs no arguments, the parentheses ``( )`` after the function name are *required*.  This can lead to a difficult bug:  A function name without the parenthesis is a legal expression *referring* to the function; for example, ``print``, but they do not *call* the associated functions."
      ]
    },
    {
      "cell_type": "markdown",
      "metadata": {
        "id": "ASamX61L608w"
      },
      "source": [
        "## Functions that Return Values \n",
        "\n",
        "Most functions require arguments, values that control how the function does its job. For example, if you want to find the absolute value of a number, you have to indicate what the number is. Python has a built-in function for computing the absolute value:\n"
      ]
    },
    {
      "cell_type": "code",
      "metadata": {
        "id": "ZinJaOzB46PO"
      },
      "source": [
        "print(abs(5))\n",
        "\n",
        "print(abs(-5))"
      ],
      "execution_count": null,
      "outputs": []
    },
    {
      "cell_type": "markdown",
      "metadata": {
        "id": "XSdOPL696_7I"
      },
      "source": [
        "In this example, the arguments to the ``abs`` function are 5 and -5.\n",
        "\n",
        "Some functions take more than one argument. For example the math module contains a function called ``pow`` which takes two arguments, the base and the exponent."
      ]
    },
    {
      "cell_type": "code",
      "metadata": {
        "id": "nMwVZYLS6989"
      },
      "source": [
        "import math\n",
        "print(math.pow(2, 3))\n",
        "\n",
        "print(math.pow(7, 4))"
      ],
      "execution_count": null,
      "outputs": []
    },
    {
      "cell_type": "markdown",
      "metadata": {
        "id": "JCqG5Tiy7Cx5"
      },
      "source": [
        "**Note**  \n",
        "Of course, we have already seen that raising a base to an exponent can be done with the ** operator.\n",
        "\n",
        "Another built-in function that takes more than one argument is ``max``.\n"
      ]
    },
    {
      "cell_type": "code",
      "metadata": {
        "id": "LN5uy2QL7CES"
      },
      "source": [
        "print(max(7, 11))\n",
        "print(max(4, 1, 17, 2, 12))\n",
        "print(max(3 * 11, 5 ** 3, 512 - 9, 1024 ** 0))"
      ],
      "execution_count": null,
      "outputs": []
    },
    {
      "cell_type": "markdown",
      "metadata": {
        "id": "z34rXwKD7HBD"
      },
      "source": [
        "``max`` can be sent any number of arguments, separated by commas, and will return the maximum value sent. The arguments can be either simple values or expressions. In the last example, 503 is returned, since it is larger than 33, 125, and 1.  Note that ``max`` also works on lists of values.\n",
        "\n",
        "Furthermore, functions like ``range``, ``int``, ``abs`` all return values that can be used to build more complex expressions."
      ]
    },
    {
      "cell_type": "markdown",
      "metadata": {
        "id": "mmOXL3gU8bqj"
      },
      "source": [
        "Functions that return values are sometimes called **fruitful functions**. In many other languages, a chunk that doesn't return a value is called a **procedure**, but we will stick here with the Python way of also calling it a function, or if we want to stress it, a *non-fruitful* function.\n",
        "\n",
        "\n",
        "Fruitful functions still allow the user to provide information (arguments).  However there is now an additional piece of data that is returned from the function.\n",
        "\n",
        "<img src=\"https://pages.mtu.edu/~lebrown/CADeT/Intro2Python/blackboxfun.png\">\n",
        "\n",
        "How do we write our own fruitful function?  Let's start by creating a very simple mathematical function that we will call ``square``.  The square function will take one number as a parameter and return the result of squaring that number.  Here is the black-box diagram with the Python code following."
      ]
    },
    {
      "cell_type": "code",
      "metadata": {
        "id": "NJKoqNp37GOP"
      },
      "source": [
        "def square(x):\n",
        "    y = x * x\n",
        "    return y\n",
        "\n",
        "toSquare = 10\n",
        "result = square(toSquare)\n",
        "print(\"The result of\", toSquare, \"squared is\", result)"
      ],
      "execution_count": null,
      "outputs": []
    },
    {
      "cell_type": "markdown",
      "metadata": {
        "id": "vpZhT-xf9sDd"
      },
      "source": [
        "The **return** statement is followed by an expression which is evaluated.  Its result is returned to the caller as the \"fruit\" of calling this function. Because the return statement can contain any Python expression we could have avoided creating the **temporary variable** ``y`` and simply used ``return x*x``. Try modifying the square function above to see that this works just the same. On the other hand, using **temporary variables** like ``y`` in the program above makes debugging easier.  These temporary variables are examples of **local variables**, pursued further in the next section.\n",
        "\n",
        "\n",
        "Notice something important here. The name of the variable we pass as an argument --- ``toSquare`` --- has nothing to do with the name of the formal parameter --- ``x``.  It is as if  ``x = toSquare`` is executed when ``square`` is called. It doesn't matter what the value was named in the caller. In ``square``, it's name is ``x``.  \n",
        "\n",
        "**Note**  \n",
        "The call to a function *terminates* after the execution of a return statement. This is fairly obvious if the return statement is the last statement in the function, but we will see later where it makes sense to have a return statement even when other statements follow, and the further statements are *not* executed.\n"
      ]
    },
    {
      "cell_type": "markdown",
      "metadata": {
        "id": "xlJ__PUB8qUq"
      },
      "source": [
        "### <a name=\"exer1\"></a>Exercise 1 \n",
        "What is wrong with the following code?"
      ]
    },
    {
      "cell_type": "code",
      "metadata": {
        "id": "4DbUAA6N8mDt"
      },
      "source": [
        "def addEm(x, y, z):\n",
        "    return x + y + z\n",
        "    print('the answer is', x + y + z)"
      ],
      "execution_count": null,
      "outputs": []
    },
    {
      "cell_type": "markdown",
      "metadata": {
        "id": "LI31AyZG-Iup"
      },
      "source": [
        "* A. You should never use a print statement in a function definition.\n",
        "* B. You should not have any statements in a function after the return statement.  Once the function gets to the return statement it will immediately stop executing the function.\n",
        "* C. You must calculate the value of x+y+z before you return it.\n",
        "* D. A function cannot return a number.\n",
        "\n",
        "[exercise 1 answer](#ans1)"
      ]
    },
    {
      "cell_type": "markdown",
      "metadata": {
        "id": "71paMpcr-Lji"
      },
      "source": [
        "### <a name=\"exer2\"></a> Exercise 2 \n",
        "\n",
        "What will the following function return?"
      ]
    },
    {
      "cell_type": "code",
      "metadata": {
        "id": "WKTSNvBw-Wym"
      },
      "source": [
        "def addEm(x, y, z):\n",
        "    print(x + y + z)"
      ],
      "execution_count": null,
      "outputs": []
    },
    {
      "cell_type": "markdown",
      "metadata": {
        "id": "5YKiuHwj-YMk"
      },
      "source": [
        "* A. None\n",
        "* B. The value of x + y + z\n",
        "* C. The string 'x + y + z'\n",
        "\n",
        "[exercise 2 answer](#ans2)"
      ]
    },
    {
      "cell_type": "markdown",
      "metadata": {
        "id": "d9_zgAIwNRnJ"
      },
      "source": [
        "## Unit Testing \n",
        "\n",
        "When we write functions that return values, we intend to use them over and over again. However, we want to be certain that they return the correct result. To be more certain these functions work correctly we write unit tests.\n",
        "\n",
        "To write a **unit test**, we must know the correct result when calling the function with a specific input. "
      ]
    },
    {
      "cell_type": "code",
      "metadata": {
        "id": "blOmOtuhNfGR"
      },
      "source": [
        "def square(x):\n",
        "    '''raise x to the second power'''\n",
        "    return x * x\n",
        "\n",
        "import unittest\n",
        "\n",
        "class TestNotebook(unittest.TestCase):\n",
        "    \n",
        "    def test_square(self):\n",
        "        self.assertEqual(square(10), 100)\n",
        "        \n",
        "\n",
        "unittest.main(argv=[''], verbosity=2, exit=False)"
      ],
      "execution_count": null,
      "outputs": []
    },
    {
      "cell_type": "markdown",
      "metadata": {
        "id": "pFiAyc-zOFvN"
      },
      "source": [
        "``assertEqual`` (from the ``unittest`` module) is a function that allows us to perform a unit test. It takes two parameters. The first is a call to the function we want to test (``square`` in this example) with a particular input (10 in this example). The second parameter is the correct result that should be produced (100 in this example). ``test.testEqual`` compares what the function returns with the correct result and displays whether the unit test passes or fails."
      ]
    },
    {
      "cell_type": "markdown",
      "metadata": {
        "id": "3qaGDWisNxeJ"
      },
      "source": [
        "When we write unit tests, we should consider significantly different valid inputs to the function. \n",
        "\n",
        "For example, the input to the ``square`` function could be either a positive or negative value. These two different kinds of inputs give us two **equivalence classes** of inputs. We then choose an input from each of these classes. **It is important to have at least one test for each equivalence class of inputs.**\n",
        "\n",
        "Semantic errors are often caused by improperly handling the boundaries between equivalence classes. The boundary for this problem is zero. **It is important to have a test at each boundary.**"
      ]
    },
    {
      "cell_type": "markdown",
      "metadata": {
        "id": "ykwwvzcc-2MV"
      },
      "source": [
        "## Variables and Parameters are Local\n",
        "\n",
        "An assignment statement in a function creates a **local variable** for the variable on the left hand side of the assignment operator. It is called local because this variable only exists inside the function and you cannot use it outside. For example, consider again the ``square`` function: \n"
      ]
    },
    {
      "cell_type": "code",
      "metadata": {
        "id": "TT-gTtlI_XmU"
      },
      "source": [
        "def square(x):\n",
        "    y = x * x\n",
        "    return y\n",
        "\n",
        "z = square(10)\n",
        "print(y)"
      ],
      "execution_count": null,
      "outputs": []
    },
    {
      "cell_type": "markdown",
      "metadata": {
        "id": "CV2ejgvbBxvU"
      },
      "source": [
        "The variable ``y`` only exists while the function is being executed --- we call this its **lifetime**. When the execution of the function terminates (returns), the local variables  are destroyed.  \n",
        "\n",
        "Formal parameters are also local and act like local variables. For example, the lifetime of ``x`` begins when ``square`` is called, and its lifetime ends when the function completes its execution.\n",
        "\n",
        "So it is not possible for a function to set some local variable to a value, complete its execution, and then when it is called again next time, recover the local variable.  Each call of the function creates new local variables, and their lifetimes expire when the function returns to the caller.\n",
        "\n",
        "On the other hand, it is legal for a function to access a global variable.  However, this is considered **bad form** by nearly all programmers and should be avoided.  Look at the following, nonsensical variation of the square function."
      ]
    },
    {
      "cell_type": "code",
      "metadata": {
        "id": "tEC8wOAuB0co"
      },
      "source": [
        "def badsquare(x):\n",
        "    y = x ** power\n",
        "    return y\n",
        "\n",
        "power = 2\n",
        "result = badsquare(10)\n",
        "print(result)"
      ],
      "execution_count": null,
      "outputs": []
    },
    {
      "cell_type": "markdown",
      "metadata": {
        "id": "uEIWxRX3B21B"
      },
      "source": [
        "Although the ``badsquare`` function works, it is silly and poorly written.  We have done it here to illustrate an important rule about how variables are looked up in Python. First, Python looks at the variables that are defined as local variables in the function.  We call this the **local scope**.  If the variable name is not found in the local scope, then Python looks at the global variables, or **global scope**.  This is exactly the case illustrated in the code above. ``power`` is not found locally in ``badsquare`` but it does exist globally. The appropriate way to write this function would be to pass power as a parameter. For practice, you should rewrite the badsquare example to have a second parameter called power.\n",
        "\n",
        "There is another variation on this theme of local versus global variables.  Assignment statements in the local function cannot change variables defined outside the function, without further (discouraged) special syntax.  Consider the following example:"
      ]
    },
    {
      "cell_type": "code",
      "metadata": {
        "id": "peWSY4CJC4Z_"
      },
      "source": [
        "def powerof(x, p):\n",
        "    power = p   # Another dumb mistake\n",
        "    y = x ** power\n",
        "    return y\n",
        "\n",
        "power = 3\n",
        "result = powerof(10, 2)\n",
        "print(result)"
      ],
      "execution_count": null,
      "outputs": []
    },
    {
      "cell_type": "markdown",
      "metadata": {
        "id": "-BudVdfnC65w"
      },
      "source": [
        "The value of ``power`` in the local scope was different than the global scope. That is because in this example ``power`` was used on the left hand side of the assignment statement ``power = p``.  When a variable name is used on the left hand side of an assignment statement Python creates a local variable. When a local variable has the same name as a global variable we say that the local shadows the global.  A **shadow** means that the global variable cannot be accessed by Python because the local variable will be found first. This is another good reason not to use global variables. As you can see, it makes your code confusing and difficult to understand.\n",
        "\n",
        "To cement all of these ideas even further lets look at one final example. Inside the ``square`` function we are going to make an assignment to the parameter ``x``  There's no good reason to do this other than to emphasize the fact that the parameter ``x`` is a local variable.  Although ``x`` is 0 in the local variables for ``square``, the ``x`` in the global scope remains 2.  This is confusing to many beginning programmers who think that an assignment to a formal parameter will cause a change to the value of the variable that was used as the actual parameter, especially when the two share the same name. But this example demonstrates that that is clearly not how Python operates.\n"
      ]
    },
    {
      "cell_type": "code",
      "metadata": {
        "id": "caodxNBcC9YR"
      },
      "source": [
        "def square(x):\n",
        "    y = x * x\n",
        "    x = 0       # assign a new value to the parameter x\n",
        "    return y\n",
        "\n",
        "x = 2\n",
        "z = square(x)\n",
        "print(z)"
      ],
      "execution_count": null,
      "outputs": []
    },
    {
      "cell_type": "markdown",
      "metadata": {
        "id": "pcElmEcFDODb"
      },
      "source": [
        "##  Functions can Call Other Functions\n",
        "\n",
        "It is important to understand that each of the functions we write can be used\n",
        "and called from other functions we write.  This is one of the most important\n",
        "ways that computer scientists take a large problem and break it down into a\n",
        "group of smaller problems. This process of breaking a problem into smaller\n",
        "subproblems is called **functional decomposition**.\n",
        "\n",
        "Here's a simple example of functional decomposition using two functions. The\n",
        "first function called ``square`` simply computes the square of a given number.\n",
        "The second function called ``sum_of_squares`` makes use of square to compute\n",
        "the sum of three numbers that have been squared."
      ]
    },
    {
      "cell_type": "code",
      "metadata": {
        "id": "iToKso8IEV8J"
      },
      "source": [
        "def square(x):\n",
        "    y = x * x\n",
        "    return y\n",
        "\n",
        "def sum_of_squares(x, y, z):\n",
        "    a = square(x)\n",
        "    b = square(y)\n",
        "    c = square(z)\n",
        "\n",
        "    return a + b + c\n",
        "\n",
        "a = -5\n",
        "b = 2\n",
        "c = 10\n",
        "result = sum_of_squares(a, b, c)\n",
        "print(result)"
      ],
      "execution_count": null,
      "outputs": []
    },
    {
      "cell_type": "markdown",
      "metadata": {
        "id": "TE5bCwO-EXO1"
      },
      "source": [
        "Even though this is a pretty simple idea, in practice this example illustrates many very important Python concepts, including local and global variables along with parameter passing.  The body of square is not executed until it is called from the ``sum_of_squares`` function for the first time on line 6.  Also notice that when ``square`` is called there are two groups of local variables, one for ``square`` and one for ``sum_of_squares``.  As you step through you will notice that ``x``, and ``y`` are local variables in both functions and may even have different values.  This illustrates that even though they are named the same, they are in fact, very different.\n",
        "\n"
      ]
    },
    {
      "cell_type": "markdown",
      "metadata": {
        "id": "MhAQOVe-EZ8V"
      },
      "source": [
        "### <a name=\"exer3\"></a>Exercise 3\n",
        "\n",
        "Consider the following Python code. Note that line numbers are included on the left.\n",
        "\n",
        "```python\n",
        "def pow(b, p):\n",
        "    y = b ** p\n",
        "    return y\n",
        "\n",
        "def square(x):\n",
        "    a = pow(x, 2)\n",
        "    return a\n",
        "\n",
        "n = 5\n",
        "result = square(n)\n",
        "print(result)\n",
        "```\n",
        "\n",
        "Which of the following best reflects the order in which these lines of code are processed in Python?\n",
        "\n",
        "* A. 1, 2, 3, 4, 5, 6, 7, 8, 9, 10, 11\n",
        "* B. 1, 2, 3, 5, 6, 7, 9, 10, 11\n",
        "* C. 9, 10, 11, 1, 2, 3, 5, 6, 7\n",
        "* D. 9, 10, 5, 6, 1, 2, 3, 6, 7, 10, 11\n",
        "* E. 1, 5, 9, 10, 5, 6, 1, 2, 3, 6, 7, 10, 11\n",
        "\n",
        "[exercise 3 answer](#ans3)"
      ]
    },
    {
      "cell_type": "markdown",
      "metadata": {
        "id": "J41uCg2GGeyH"
      },
      "source": [
        "### <a name=\"ans4\"></a> Exercise 4 \n",
        "\n",
        "Consider the following Python code.\n",
        "\n",
        "```python\n",
        "def pow(b, p):\n",
        "    y = b ** p\n",
        "    return y\n",
        "\n",
        "def square(x):\n",
        "    a = pow(x, 2)\n",
        "    return a\n",
        "\n",
        "n = 5\n",
        "result = square(n)\n",
        "print(result)\n",
        "```\n",
        "\n",
        "What does this function print?\n",
        "\n",
        "* A. 25\n",
        "* B. 5 \n",
        "* C. 125 \n",
        "* D. 32 \n",
        "\n",
        "[exercise 4 answer](#ans4)\n"
      ]
    },
    {
      "cell_type": "markdown",
      "metadata": {
        "id": "S-NDp40wHh0s"
      },
      "source": [
        "## Program Development\n",
        "\n",
        "At this point, you should be able to look at complete functions and tell what\n",
        "they do. Also, if you have been doing the exercises, you have written some\n",
        "small functions. As you write larger functions, you might start to have more\n",
        "difficulty, especially with runtime and semantic errors.\n",
        "\n",
        "To deal with increasingly complex programs, we are going to suggest a technique\n",
        "called **incremental development**. The goal of incremental development is to\n",
        "avoid long debugging sessions by adding and testing only a small amount of code\n",
        "at a time.\n",
        "\n",
        "As an example, suppose you want to find the distance between two points, given by the coordinates ($x_1$, $y_1$) and\n",
        "($x_2$, $y_2$).  By the Pythagorean theorem, the distance is:\n",
        "\n",
        "$$ distance = \\sqrt{ (x_2 - x_1)^2 + (y_2 - y_1)^2) } $$\n",
        "\n",
        "The first step is to consider what a ``distance`` function should look like in Python. In other words, what are the inputs (parameters) and what is the output (return value)?\n",
        "\n",
        "In this case, the two points are the inputs, which we can represent using four parameters. The return value is the distance, which is a floating-point value.\n",
        "\n",
        "Already we can write an outline of the function that captures our thinking so far.\n",
        "\n",
        "```python \n",
        "def distance(x1, y1, x2, y2):\n",
        "    return 0.0\n",
        "```\n",
        "\n",
        "Obviously, this version of the function doesn't compute distances; it always returns zero. But it is syntactically correct, and it will run, which means that we can test it before we make it more complicated.\n",
        "\n",
        "We import the `unittest` module to enable us to write a unit test for the function.\n"
      ]
    },
    {
      "cell_type": "code",
      "metadata": {
        "id": "sVef86POKXl5"
      },
      "source": [
        "import unittest\n",
        "def distance(x1, y1, x2, y2):\n",
        "    return 0.0\n",
        "\n",
        "class TestNotebook(unittest.TestCase):\n",
        "    \n",
        "    def test_distance(self):\n",
        "        self.assertEqual(distance(1, 2, 1, 2), 0)\n",
        "        \n",
        "unittest.main(argv=[''], verbosity=2, exit=False)"
      ],
      "execution_count": null,
      "outputs": []
    },
    {
      "cell_type": "markdown",
      "metadata": {
        "id": "YWXCBn2XKXMC"
      },
      "source": [
        "The ``assertEqual`` function from the test module calls the distance function with sample inputs: (1,2, 1,2). The first 1,2 are the coordinates of the first point and the second 1,2 are the coordinates of the second point. What is the distance between these two points? Zero. ``assertEqual`` compares what is returned by the distance function and the 0 (the correct answer).\n",
        "\n",
        "**Extend the program**  \n",
        "write another unit test. Use (1,2, 4,6) as the parameters to the distance function. How far apart are these two points? Use that value (instead of 0) as the correct answer for this unit test.  \n",
        "\n",
        "Use (0,0, 1,1) as the parameters to the distance function. How far apart are these two points? Use that value as the correct answer for this unit test.\n",
        "\n"
      ]
    },
    {
      "cell_type": "code",
      "metadata": {
        "id": "y4nghg-XPGbc"
      },
      "source": [
        "import unittest\n",
        "def distance(x1, y1, x2, y2):\n",
        "    return 0.0\n",
        "\n",
        "class TestNotebook(unittest.TestCase):\n",
        "    \n",
        "    def test_distance1(self):\n",
        "        self.assertEqual(distance(1, 2, 1, 2), 0)\n",
        "\n",
        "    def test_distance2(self):\n",
        "        self.assertEqual(distance(1, 2, 4, 6), 5)\n",
        "      \n",
        "    def test_distance3(self):\n",
        "        self.assertEqual(distance(0, 0, 1, 1), 1.41)\n",
        "        \n",
        "unittest.main(argv=[''], verbosity=2, exit=False)"
      ],
      "execution_count": null,
      "outputs": []
    },
    {
      "cell_type": "markdown",
      "metadata": {
        "id": "y-xCwrllQbbD"
      },
      "source": [
        "The first test passes but the others fail since the distance function does not yet contain all the necessary steps.\n",
        "\n",
        "\n",
        "**When testing a function, it is essential to know the right answer.**\n",
        "\n",
        "For the second test the horizontal distance equals 3 and the vertical distance equals 4; that way, the result is 5 (the hypotenuse of a 3-4-5 triangle). For the third test, we have a 1-1-sqrt(2) triangle.\n",
        "\n",
        "At this point we have confirmed that the function is syntactically correct, and we can start adding lines of code. After each incremental change, we test the function again. If an error occurs at any point, we know where it must be --- in the last line we added.\n",
        "\n",
        "A logical first step in the computation is to find the differences $x_2$ - $x_1$  and $y_2$ - $y_1$.  We will store those values in temporary variables named ``dx`` and ``dy``.\n",
        "\n",
        "```python \n",
        "def distance(x1, y1, x2, y2):\n",
        "    dx = x2 - x1\n",
        "    dy = y2 - y1\n",
        "    return 0.0\n",
        "``` \n",
        "\n",
        "Next we compute the sum of squares of ``dx`` and ``dy``.\n",
        "\n",
        "```python \n",
        "def distance(x1, y1, x2, y2):\n",
        "    dx = x2 - x1\n",
        "    dy = y2 - y1\n",
        "    dsquared = dx**2 + dy**2\n",
        "    return 0.0\n",
        "``` \n",
        "\n",
        "Again, we could run the program at this stage and check the value of ``dsquared`` (which should be 25).\n",
        "\n",
        "Finally, using the fractional exponent ``0.5`` to find the square root, we compute and return the result.\n"
      ]
    },
    {
      "cell_type": "code",
      "metadata": {
        "id": "lIsz_HtCR8FL"
      },
      "source": [
        "def distance(x1, y1, x2, y2):\n",
        "    dx = x2 - x1\n",
        "    dy = y2 - y1\n",
        "    dsquared = dx**2 + dy**2\n",
        "    result = dsquared**0.5\n",
        "    return result\n",
        "\n",
        "unittest.main(argv=[''], verbosity=2, exit=False)"
      ],
      "execution_count": null,
      "outputs": []
    },
    {
      "cell_type": "markdown",
      "metadata": {
        "id": "kk3IMA_FQc3F"
      },
      "source": [
        "**Fix the Error ...**\n",
        "\n",
        "Two of the tests pass but the last one fails. Is there still an error in the function?\n",
        "\n",
        "Frequently we discover errors in the functions that we are writing. However, it is possible that there is an error in a test. Here the error is in the precision of the correct answer.\n",
        "\n",
        "The third test fails because by the precision of the result. We can fix this by changing the third test to be \"almost equal\" out to a given number of place past the decimal. \n",
        "\n"
      ]
    },
    {
      "cell_type": "code",
      "metadata": {
        "id": "SrKv3p3OUoiT"
      },
      "source": [
        "class TestNotebook(unittest.TestCase):\n",
        "    \n",
        "    def test_distance1(self):\n",
        "        self.assertEqual(distance(1, 2, 1, 2), 0)\n",
        "\n",
        "    def test_distance2(self):\n",
        "        self.assertEqual(distance(1, 2, 4, 6), 5)\n",
        "\n",
        "    def test_distance3(self):\n",
        "        self.assertAlmostEqual(distance(0, 0, 1, 1), 1.4142135, 5)\n",
        "  \n",
        "unittest.main(argv=[''], verbosity=2, exit=False)"
      ],
      "execution_count": null,
      "outputs": []
    },
    {
      "cell_type": "markdown",
      "metadata": {
        "id": "f-DwJKWYU50B"
      },
      "source": [
        "Now all three tests pass!  Wonderful! However, you may still need to perform additional tests."
      ]
    },
    {
      "cell_type": "markdown",
      "metadata": {
        "id": "EtIyD-ABVU1h"
      },
      "source": [
        "When you start out, you might add only a line or two of code at a time. As you gain more experience, you might find yourself writing and debugging bigger conceptual chunks. As you improve your programming skills you should find yourself managing bigger and bigger chunks: this is very similar to the way we learned to read letters, syllables, words, phrases, sentences, paragraphs, etc., or the way we learn to chunk music --- from indvidual notes to chords, bars, phrases, and so on.  \n",
        "\n",
        "The key aspects of the process are:\n",
        "\n",
        "* Make sure you know what you are trying to accomplish. Then you can write appropriate unit tests.\n",
        "* Start with a working skeleton program and make small incremental changes. At any point, if there is an error, you will know exactly where it is.\n",
        "* Use temporary variables to hold intermediate values so that you can easily inspect and check them.\n",
        "* Once the program is working, you might want to consolidate multiple statements into compound expressions, but only do this if it does not make the program more difficult to read."
      ]
    },
    {
      "cell_type": "markdown",
      "metadata": {
        "id": "j45NqTSZVffY"
      },
      "source": [
        "## Composition \n",
        "\n",
        "As we have already seen, you can call one function from within another. This ability to build functions by using other functions is called **composition**.\n",
        "\n",
        "As an example, we'll write a function that takes two points, the center of the circle and a point on the perimeter, and computes the area of the circle.\n",
        "\n",
        "Assume that the center point is stored in the variables ``xc`` and ``yc``, and the perimeter point is in ``xp`` and ``yp``. The first step is to find the radius of the circle, which is the distance between the two points. Fortunately, we've just written a function, ``distance``, that does just that, so now all we have to do is use it:\n",
        "\n",
        "```python \n",
        "radius = distance(xc, yc, xp, yp)\n",
        "```\n",
        "\n",
        "The second step is to find the area of a circle with that radius and return it.\n",
        "Again we will use one of our earlier functions:\n",
        "\n",
        "```python \n",
        "result = area(radius)\n",
        "return result\n",
        "```\n",
        "\n",
        "Wrapping that up in a function, we get:"
      ]
    },
    {
      "cell_type": "code",
      "metadata": {
        "id": "SnfzdZkZVz_B"
      },
      "source": [
        "def distance(x1, y1, x2, y2):\n",
        "        dx = x2 - x1\n",
        "        dy = y2 - y1\n",
        "        dsquared = dx**2 + dy**2\n",
        "        result = dsquared**0.5\n",
        "        return result\n",
        "\n",
        "def area(radius):\n",
        "    b = 3.14159 * radius**2\n",
        "    return b\n",
        "\n",
        "def area2(xc, yc, xp, yp):\n",
        "    radius = distance(xc, yc, xp, yp)\n",
        "    result = area(radius)\n",
        "    return result\n",
        "\n",
        "print(area2(0, 0, 1, 1))"
      ],
      "execution_count": null,
      "outputs": []
    },
    {
      "cell_type": "markdown",
      "metadata": {
        "id": "vyYVQNKXWKCY"
      },
      "source": [
        "There can only be one function with a given name within a module.\n",
        "\n",
        "Note that we could have written the composition without storing the intermediate results."
      ]
    },
    {
      "cell_type": "code",
      "metadata": {
        "id": "ojKm2KaNWYR2"
      },
      "source": [
        "def area2(xc, yc, xp, yp):\n",
        "    return area(distance(xc, yc, xp, yp))"
      ],
      "execution_count": null,
      "outputs": []
    },
    {
      "cell_type": "markdown",
      "metadata": {
        "id": "lcmQlCew9xIw"
      },
      "source": [
        "\n",
        "---\n",
        "\n"
      ]
    },
    {
      "cell_type": "markdown",
      "metadata": {
        "id": "mCJ5zlct9yz8"
      },
      "source": [
        "# Answers to Exercises "
      ]
    },
    {
      "cell_type": "markdown",
      "metadata": {
        "id": "FBCwnGCu94lu"
      },
      "source": [
        "## <a name=\"ans1\"></a>Exercise 1 \n",
        "\n",
        "Answer **B** - You should not have any statements in a function after the return statement.  Once the function gets to the return statement it will immediately stop executing the function.\n",
        "\n",
        "[Back to Exercises](#exer1)"
      ]
    },
    {
      "cell_type": "markdown",
      "metadata": {
        "id": "6H6QmmrI-psv"
      },
      "source": [
        "## Exercise 2 \n",
        "\n",
        "Answer - **A.** None  \n",
        "We have accidentally used print where we mean return.  Therefore, the function will return the value None by default.  This is a VERY COMMON mistake so watch out!  This mistake is also particularly difficult to find because when you run the function the output looks the same.  It is not until you try to assign its value to a variable that you can notice a difference.\n",
        "\n",
        "[Back to Exercises](#exer2)"
      ]
    },
    {
      "cell_type": "markdown",
      "metadata": {
        "id": "UrqQ8hu1Fw4p"
      },
      "source": [
        "## <a name=\"ans3\"></a> Exercise 3\n",
        "\n",
        "Answer - **E.** 1, 5, 9, 10, 5, 6, 1, 2, 3, 6, 7, 10, 11\n",
        "\n",
        "Python starts at line 1, notices that it is a function definition and skips over all of the lines in the function definition until it finds a line that it no longer included in the function (line 5).  It then notices line 5 is also a function definition and again skips over the function body to line 9.  On line 10 it notices it has a function to execute, so it goes back and executes that function.  Notice that that function includes another function call. It returns from the function call and completes the assignment in line 6. Then it returns the result of line 7 and completes the assignment in line 10.  Finally, it will go to line 11 after the function square and the assignment are complete.\n",
        "\n",
        "[Back to Exercises](#exer3)"
      ]
    },
    {
      "cell_type": "markdown",
      "metadata": {
        "id": "4vau8KXUG_KJ"
      },
      "source": [
        "## <a name=\"ans4\"></a> Exercise 4 \n",
        "\n",
        "Answer **A** - 25\n",
        "\n",
        "The function square returns the square of its input (via a call to pow)\n",
        "\n",
        "[Back to Exercises](#exer4)"
      ]
    },
    {
      "cell_type": "code",
      "metadata": {
        "id": "3YGVdAyy9yJX"
      },
      "source": [
        ""
      ],
      "execution_count": null,
      "outputs": []
    }
  ]
}