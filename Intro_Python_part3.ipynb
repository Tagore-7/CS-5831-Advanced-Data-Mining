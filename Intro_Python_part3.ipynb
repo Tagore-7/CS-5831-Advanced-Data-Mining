{
  "nbformat": 4,
  "nbformat_minor": 0,
  "metadata": {
    "colab": {
      "name": "Intro-Python-part3.ipynb",
      "provenance": [],
      "collapsed_sections": [],
      "toc_visible": true
    },
    "kernelspec": {
      "name": "python3",
      "display_name": "Python 3"
    }
  },
  "cells": [
    {
      "cell_type": "markdown",
      "metadata": {
        "id": "wL0mDtZ1UUXK"
      },
      "source": [
        "# Modules \n",
        "\n",
        "Materials adapted from *[How to Think Like a Computer Scientist](https://runestone.academy/runestone/static/thinkcspy/index.html)*\n",
        "\n",
        "This colab notebook is paired with the page on Canvas: **3-Debugging**\n",
        "\n",
        "A **module** is a file containing Python definitions and statements intended for use in other Python programs. There are many Python modules that come with Python as part of the **standard library**. Once we import the module, we can use things that are defined inside."
      ]
    },
    {
      "cell_type": "code",
      "metadata": {
        "id": "cAwimKc7UQYw"
      },
      "source": [
        "# Needs to be run once to download and load the \"ColabTurtle\" module\n",
        "!pip3 install ColabTurtle"
      ],
      "execution_count": null,
      "outputs": []
    },
    {
      "cell_type": "code",
      "metadata": {
        "id": "gQdVDWdNUfkr"
      },
      "source": [
        "import ColabTurtle\n",
        "from ColabTurtle.Turtle import * \n",
        "alex = ColabTurtle.Turtle\n",
        "alex.initializeTurtle()\n",
        "alex.forward(100)\n",
        "alex.right(90)\n",
        "alex.forward(100)"
      ],
      "execution_count": null,
      "outputs": []
    },
    {
      "cell_type": "markdown",
      "metadata": {
        "id": "KIIT6D_VUmJI"
      },
      "source": [
        "Here we are using ``Turtle``, which is defined inside the turtle module.\n",
        "\n",
        "But what if no one had told us about turtle?  How would we know that it exists. How would we know what it can do for us? The answer is to ask for help and the best place to get help about the Python programming environment is to consult with the Python Documentation.\n",
        "\n",
        "The  [Python Documentation](https://docs.python.org/3/index.html) site for Python version 3 (the home page is shown below) is an extremely useful reference for all aspects of Python. The site contains a listing of all the standard modules that are available with Python (see [Global Module Index](https://docs.python.org/3/py-modindex.html) ).You will also see that there is a [Language Reference](https://docs.python.org/3/reference/index.html)\n",
        "and a [Tutorial](https://docs.python.org/3/tutorial/index.html) (mostly aimed at people who are already familiar with another programming language), as well as installation instructions, how-tos, and frequently asked questions.  We encourage you to become familiar with this site and to use it often.\n",
        "\n",
        "If you have not done so already, take a look at the Global Module Index.  Here you will see an alphabetical listing of all the modules that are available as part of the standard library.  Find the turtle module (this is similar but not exactly the same as the ColabTurtle module - ColabTurtle is designed to run in Colab).\n",
        "\n",
        "You can see that all the turtle functionality that we have talked about is there.  However, there is so much more.  Take some time to read through and familiarize yourself with some of the other things that turtles can do.\n",
        "\n",
        "\n",
        "Before we move on to exploring other modules, we should say a bit more about what modules are and how we typically use them.  One of the most important things to realize about modules is the fact that they are data objects, just\n",
        "like any other data in Python.  Module objects simply contain other Python elements.\n",
        "\n",
        "\n",
        "The first thing we need to do when we wish to use a module is perform an ``import``.  In the example above, the statement\n",
        "``import ColabTurtle`` creates a new name, ``alex``, and makes it refer to a `module object`.  \n",
        "\n",
        "\n",
        "In order to use something contained in a module, we use the `dot` notation, providing the module name and the specific item joined together with a \"dot\".  For example, to use the function ``forward``, we say ``alex.forward()``.  \n",
        "\n",
        "We will now turn our attention to a few other modules that you might find useful.\n"
      ]
    },
    {
      "cell_type": "markdown",
      "metadata": {
        "id": "4VbLr4YKXWkt"
      },
      "source": [
        "## The `math` Module\n",
        "\n",
        "The ``math`` module contains the kinds of mathematical functions you would typically find on your calculator and some mathematical constants like `pi` and `e`. As we noted above, when we ``import math``, we create a reference to a module object that contains these elements.\n",
        "\n",
        "<img src=\"https://pages.mtu.edu/~lebrown/CADeT/Intro2Python/mathmod.png\">\n",
        "\n",
        "Here are some items from the math module in action.  If you want more information, you can check out the\n",
        "[Math Module](https://docs.python.org/3/library/math.html#module-math) Python Documentation.\n",
        "\n"
      ]
    },
    {
      "cell_type": "code",
      "metadata": {
        "id": "4J4CDjk4XZfY"
      },
      "source": [
        "import math\n",
        "\n",
        "print(math.pi)\n",
        "print(math.e)\n",
        "\n",
        "print(math.sqrt(2.0))\n",
        "\n",
        "print(math.sin(math.radians(90)))   # sin of 90 degrees\n"
      ],
      "execution_count": null,
      "outputs": []
    },
    {
      "cell_type": "markdown",
      "metadata": {
        "id": "i14H0CmAX2tf"
      },
      "source": [
        "Mathematical functions do not need to be constructed. They simply perform a task. They are all housed together in a module called math. Once we have imported the math module, anything defined there can be used in our program. Notice that we always use the name of the module followed by a dot followed by the specific item from the module (`math.sqrt`). You can think of this as lastname.firstname where the lastname is the module family and the firstname is the individual entry in the module.\n",
        "\n",
        "If you have not done so already, take a look at the documentation for the math module."
      ]
    },
    {
      "cell_type": "markdown",
      "metadata": {
        "id": "UPm6q242YaoL"
      },
      "source": [
        "## The `random` Module\n",
        "\n",
        "We often want to use **random numbers** in programs.  Here are a few typical uses:\n",
        "\n",
        "* To play a game of chance where the computer needs to throw some dice, pick a number, or flip a coin,\n",
        "* To shuffle a deck of playing cards randomly,\n",
        "* To randomly allow a new enemy spaceship to appear and shoot at you,\n",
        "* To simulate possible rainfall when we make a computerized model for\n",
        "  estimating the environmental impact of building a dam,\n",
        "* For encrypting your banking session on the Internet.\n",
        "\n",
        "Python provides a module ``random`` that helps with tasks like this.  You can take a look at it in the [documentation](https://docs.python.org/3/library/random.html#module-random).  Here are the key things we can do with it.\n",
        "\n"
      ]
    },
    {
      "cell_type": "code",
      "metadata": {
        "id": "Q7OHym22YXzh"
      },
      "source": [
        "import random\n",
        "\n",
        "prob = random.random()\n",
        "print(prob)\n",
        "\n",
        "diceThrow = random.randrange(1, 7)       # return an int, one of 1,2,3,4,5,6\n",
        "print(diceThrow)\n",
        "\n"
      ],
      "execution_count": null,
      "outputs": []
    },
    {
      "cell_type": "markdown",
      "metadata": {
        "id": "7rNA0FZYY8X3"
      },
      "source": [
        "Re-run the code a number of times.  Note that the values change each time.  These are random numbers.\n",
        "\n",
        "The ``randrange`` function generates an integer between its lower and upper argument, using the same semantics as ``range`` --- so the lower bound is included, but the upper bound is excluded.   All the values have an equal probability of occurring (i.e. the results are *uniformly* distributed).\n",
        "\n",
        "The ``random()`` function returns a floating point number in the range [0.0, 1.0) --- the square bracket means \"closed interval on the left\" and the round parenthesis means \"open interval on the right\".  In other words, 0.0 is possible, but all returned numbers will be strictly less than 1.0.  It is usual to *scale* the results after calling this method, to get them into a range suitable for your application.\n",
        "\n",
        "In the case shown here, we've converted the result of the method call to a number in the range [0.0, 5.0).  Once more, these are uniformly distributed numbers --- numbers close to 0 are just as likely to occur as numbers close to 0.5, or numbers close to 1.0. If you continue to press the run button you will see random values between 0.0 and up to but not including 5.0."
      ]
    },
    {
      "cell_type": "code",
      "metadata": {
        "id": "jGpkQxucYeln"
      },
      "source": [
        "import random\n",
        "\n",
        "prob = random.random()\n",
        "result = prob * 5\n",
        "print(result)"
      ],
      "execution_count": null,
      "outputs": []
    },
    {
      "cell_type": "markdown",
      "metadata": {
        "id": "g9xqMz62Y_Rm"
      },
      "source": [
        "It is important to note that random number generators are based on a **deterministic** algorithm --- repeatable and predictable. So they're called **pseudo-random** generators --- they are not genuinely random. They start with a *seed* value. Each time you ask for another random number, you'll get one based on the current seed attribute, and the state of the seed (which is one of the attributes of the generator) will be updated.  The good news is that each time you run your program, the seed value is likely to be different meaning that even though the random numbers are being created algorithmically, you will likely get random behavior each time you execute.\n",
        "\n",
        "*Note: we will be using AI/ML methods, we may take advantage of the ``seed`` methods to debug our code*"
      ]
    },
    {
      "cell_type": "markdown",
      "metadata": {
        "id": "IeGCxhtEZuyH"
      },
      "source": [
        "### <a name=\"exer1\"></a> Exercise 1 \n",
        "\n",
        "Which of the following is the correct way to reference the value pi within the math module. Assume you have already imported the math module.\n",
        "\n",
        "* A. math.pi \n",
        "* B. math(pi)\n",
        "* C. pi.math \n",
        "* D. math->pi\n",
        "\n",
        "[exercise 1 answer](#ans1)"
      ]
    },
    {
      "cell_type": "markdown",
      "metadata": {
        "id": "FqEVMxTHamI5"
      },
      "source": [
        "### <a name=\"exer2\"></a> Exercise 2 \n",
        "\n",
        "The correct code to generate a random number between 1 and 100 (inclusive) is:\n",
        "\n",
        "* A. prob = random.randrange(1, 100)\n",
        "* B. prob = random.randrange(1, 101)\n",
        "* C. prob = random.randrange(0, 100)\n",
        "* D. prob = random.randrange(0, 101)\n",
        "\n",
        "[exercise 2 answer](#ans2)"
      ]
    },
    {
      "cell_type": "markdown",
      "metadata": {
        "id": "HKgDNk11bKyo"
      },
      "source": [
        "## Creating Modules \n",
        "\n",
        "You've seen how to *use* modules like ``random``, ``math``, and ``turtle``, but how would you *create* a module?\n",
        "\n",
        "Every time you use a Python script `filename.py` you've used a module!\n",
        "\n",
        "A Python module is just a Python source code file.  Let's consider the Python file shown below.\n",
        "\n",
        "*coffee_shop.py*\n",
        "```python\n",
        "\"\"\"\n",
        "The coffee shop module contains functions and contains variables\n",
        "important to implementing a coffee shop.\n",
        "\"\"\"\n",
        "\n",
        "# Set some variables\n",
        "shop_name = \"CADeT Brew House\"\n",
        "coffee_sizes = [\"small\", \"medium\", \"large\"]\n",
        "coffee_roasts = [\"hot chocolate\", \"light\", \"medium\", \"dark\", \"espresso\"]\n",
        "```\n",
        "\n",
        "This is a Python script named ``coffee_shop.py`` that contains three variables: ``shop_name``, ``coffee_sizes``, and ``coffee_roasts``.  The ``shop_name`` is a string, ``coffee_sizes`` is a list containing strings, and ``coffee_roasts`` is also a list containing strings.\n",
        "\n",
        "That's so great!  We've got the basics of a coffee shop.  All you need is some roasted coffee and cups.  You're good to go.\n",
        "\n",
        "If you try to run that code though, it doesn't do much that's visible to a user...\n",
        "\n",
        "How can we use the ``coffee_shop`` module?  We can import it and use it in other Python source code files.  Let's consider the Python file shown below.\n",
        "\n",
        "*coffee_customer.py*\n",
        "```python\n",
        "import coffee_shop\n",
        "\n",
        "# Output the information we know from the module\n",
        "print(\"Welcome to\", coffee_shop.shop_name)\n",
        "print(\"Available sizes:\", coffee_shop.coffee_sizes)\n",
        "print(\"Available roasts:\", coffee_shop.coffee_roasts)\n",
        "```\n",
        "\n",
        "This is a Python script named ``coffee_customer.py`` that imports our ``coffee_shop`` module, then prints out the information from that module.\n",
        "\n",
        "We use **dot notation** to grab the ``shop_name``, ``coffee_sizes``, and ``coffee_roasts`` variables from the ``coffee_shop`` module.  Then we print them out as parts of nice messages.\n",
        "\n",
        "Variables aren't the only thing we can place in modules though...  We can put any valid Python code in them.\n",
        "\n",
        "Let's improve our coffee shop!\n",
        "\n",
        "*coffee_shop_new.py*\n",
        "```python\n",
        "\"\"\"\n",
        "The coffee shop module contains functions and contains variables\n",
        "important to implementing a coffee shop.\n",
        "\"\"\"\n",
        "\n",
        "# Set some variables\n",
        "shop_name = \"Runestone Brew House\"\n",
        "coffee_sizes = [\"small\", \"medium\", \"large\"]\n",
        "coffee_roasts = [\"hot chocolate\", \"light\", \"medium\", \"dark\", \"espresso\"]\n",
        "\n",
        "def order_coffee(size, roast):\n",
        "    \"\"\"\n",
        "    Take an order from a user\n",
        "    :param size: a string containing one of the coffee_sizes\n",
        "    :param roast: a string containing one of the coffee_roasts\n",
        "    :return: a message about the coffee order\n",
        "    \"\"\"\n",
        "    return \"Here's your {} coffee roasted {}\".format(size, roast)\n",
        "```\n",
        "\n",
        "The old file contents are present, but now there's also an ``order_coffee`` function that takes two arguments, ``size`` and ``roast``.\n",
        "\n",
        "Also - look at all the awesome comments in there!\n",
        "\n",
        "**Module Comments**  \n",
        "It is important to include header comments in your module that explain what the module does.\n",
        "\n",
        "**Function Comments**  \n",
        "Functions are the next section, but the comments used here demonstrate a common Python documentation style.\n",
        "\n",
        "\n"
      ]
    },
    {
      "cell_type": "markdown",
      "metadata": {
        "id": "04RWtxdpmGfH"
      },
      "source": [
        "### Using `.py` file in Colab \n",
        "\n",
        "**Note**  \n",
        "If running Python on a local machine, the module files must be in the same directory on your computer for Python to know how to import them automatically. \n",
        "In Colab, you can add them to the local directory as follows.  On the left side bar select the \"file\" icon. \n",
        "\n",
        "<img src=\"https://pages.mtu.edu/~lebrown/CADeT/Intro2Python/colab-files.png\">\n",
        "\n",
        "Here, you can select to upload the files mentioned: `coffee_shop.py`, `coffee_customer.py` and `coffee_shop_new.py`. \n",
        "\n",
        "<img src=\"https://pages.mtu.edu/~lebrown/CADeT/Intro2Python/colab-file-upload.png\">\n",
        "\n",
        "**Caution**  \n",
        "The uploaded files will get deleted when this runtime is recycled.  But, this allows you to now import these modules into your colab notebook. \n"
      ]
    },
    {
      "cell_type": "markdown",
      "metadata": {
        "id": "IC-r-C4omMMt"
      },
      "source": [
        "### Example 1\n",
        "\n",
        "Let's now try to use the module `coffee_shop_new`.   First, make sure to load it into the local colab directory (see above).  \n",
        "\n"
      ]
    },
    {
      "cell_type": "code",
      "metadata": {
        "id": "9fWOEKS5mbHI"
      },
      "source": [
        "# Import the module with coffee_shop functionality\n",
        "import coffee_shop_new\n",
        "\n",
        "# Output the information we know from the module\n",
        "print(\"Welcome to\", coffee_shop_new.shop_name)\n",
        "print(\"Available sizes:\", coffee_shop_new.coffee_sizes)\n",
        "print(\"Available roasts:\", coffee_shop_new.coffee_roasts)\n",
        "\n",
        "# Get some inputs from the user\n",
        "order_size = input(\"What size coffee do you want? \")\n",
        "order_roast = input(\"What roast do you want? \")\n",
        "\n",
        "# Send the order to the coffee shop module\n",
        "shop_says = coffee_shop_new.order_coffee(order_size, order_roast)\n",
        "# Print out whatever it gave back to us\n",
        "print(shop_says)"
      ],
      "execution_count": null,
      "outputs": []
    },
    {
      "cell_type": "markdown",
      "metadata": {
        "id": "rc2X34YrmwUl"
      },
      "source": [
        "Now after printing data nicely, this asks the user for a size and a roast.  These are the parameters required by our ``order_coffee`` function over in the ``coffee_shop_new`` module!\n",
        "\n",
        "Call the ``order_coffee`` function with **dot notation**, just like retrieving variable values.  The function call is the line that says ``shop_says = coffee_shop_new.order_coffee(order_size, order_roast)``.  The function returns something, so we save that off in ``shop_says``.  The next line prints out whatever the shop said.\n",
        "\n",
        "Coffee shops do more than just coffee!  Maybe you want some milk.  We also have a function in `coffee_shop_new.py` for milk. \n",
        "\n",
        "*coffee_shop_new.py*\n",
        "```python\n",
        "\"\"\"\n",
        "The coffee shop module contains functions and contains variables\n",
        "important to implementing a coffee shop.\n",
        "\"\"\"\n",
        "\n",
        "# Set some variables\n",
        "shop_name = \"CADeT Brew House\"\n",
        "coffee_sizes = [\"small\", \"medium\", \"large\"]\n",
        "coffee_roasts = [\"hot chocolate\", \"light\", \"medium\", \"dark\", \"espresso\"]\n",
        "\n",
        "def order_coffee(size, roast):\n",
        "    \"\"\"\n",
        "    Take an order from a user\n",
        "    :param size: a string containing one of the coffee_sizes\n",
        "    :param roast: a string containing one of the coffee_roasts\n",
        "    :return: a message about the coffee order\n",
        "    \"\"\"\n",
        "    return \"Here's your {} coffee roasted {}\".format(size, roast)\n",
        "\n",
        "def add_milk_please(fat_content):\n",
        "    \"\"\"\n",
        "    Pretend like we're adding some milk to a coffee\n",
        "    :param fat_content: a string or integer containing the milkfat content\n",
        "    :return: a message about having added the milk\n",
        "    \"\"\"\n",
        "    return \"I've added the {}% milk\".format(fat_content)\n",
        "```\n",
        "\n",
        "The new function is called ``add_milk_please`` and it takes one parameter - the ``fat_content``.  It returns a string explaining what happened.\n",
        "\n",
        "This is great.  But the function isn't going to do anything by itself.  We have to call it.  Check out the update to our script below.\n",
        "\n"
      ]
    },
    {
      "cell_type": "code",
      "metadata": {
        "id": "WVquxIAqY-MH"
      },
      "source": [
        "# Import the module with coffee_shop functionality\n",
        "import coffee_shop_new\n",
        "\n",
        "# Output the information we know from the module\n",
        "print(\"Welcome to\", coffee_shop_new.shop_name)\n",
        "print(\"Available sizes:\", coffee_shop_new.coffee_sizes)\n",
        "print(\"Available roasts:\", coffee_shop_new.coffee_roasts)\n",
        "\n",
        "# Get some inputs from the user\n",
        "order_size = input(\"What size coffee do you want? \")\n",
        "order_roast = input(\"What roast do you want? \")\n",
        "\n",
        "# Send the order to the coffee shop module\n",
        "shop_says = coffee_shop_new.order_coffee(order_size, order_roast)\n",
        "# Print out whatever it gave back to us\n",
        "print(shop_says)\n",
        "\n",
        "# See if the user wants to add milk\n",
        "add_milk_response = input(\"Do you want to add milk (y/n)? \")\n",
        "# Convert the response to lowercase, then check for a \"yes\" answer\n",
        "if \"y\" in add_milk_response.lower():\n",
        "    milk_fat = input(\"What percent milk do you want added? \")\n",
        "    shop_says = coffee_shop_new.add_milk_please(milk_fat)\n",
        "    # Print out whatever it gave back to us\n",
        "    print(shop_says)"
      ],
      "execution_count": null,
      "outputs": []
    },
    {
      "cell_type": "markdown",
      "metadata": {
        "id": "PEgufElmuRtd"
      },
      "source": [
        "That got fancy!  We were just ordering coffee but now the user can choose to add milk!  Selection is in a couple sections, but if you read that code like english you'll see what's going on.\n",
        "\n",
        "The call to ``add_milk_please`` happens right in there - it looks just like the other one: ``shop_says = coffee_shop_new.add_milk_please(milk_fat)``.\n",
        "\n"
      ]
    },
    {
      "cell_type": "markdown",
      "metadata": {
        "id": "liz3pPQ-Z9aJ"
      },
      "source": [
        "\n",
        "\n",
        "---\n",
        "\n"
      ]
    },
    {
      "cell_type": "markdown",
      "metadata": {
        "id": "3uV9iYxKZ-os"
      },
      "source": [
        "# Answer to Exercises \n",
        "\n"
      ]
    },
    {
      "cell_type": "markdown",
      "metadata": {
        "id": "cZfRrXl2aFZo"
      },
      "source": [
        "## <a name=\"ans1\"></a> Exercise 1\n",
        "\n",
        "`A`.  math.pi  \n",
        "\n",
        "To invoke or reference something contained in a module you use the dot (.) notation\n",
        "\n",
        "[Back to Examples](#exer1)"
      ]
    },
    {
      "cell_type": "markdown",
      "metadata": {
        "id": "-XBvHWCIa8JC"
      },
      "source": [
        "## <a name=\"ans2\"></a> Exercise 2\n",
        "\n",
        "B. prob = random.randrange(1, 101)\n",
        "\n",
        "This will generate a number between 1 and 101, but does not include 101.\n",
        "\n",
        "[Back to Examples](#exer2)"
      ]
    },
    {
      "cell_type": "code",
      "metadata": {
        "id": "TpCBeTomaVRn"
      },
      "source": [
        ""
      ],
      "execution_count": null,
      "outputs": []
    }
  ]
}