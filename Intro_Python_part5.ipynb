{
  "nbformat": 4,
  "nbformat_minor": 0,
  "metadata": {
    "colab": {
      "name": "Intro-Python-part5.ipynb",
      "provenance": [],
      "collapsed_sections": [],
      "toc_visible": true
    },
    "kernelspec": {
      "name": "python3",
      "display_name": "Python 3"
    }
  },
  "cells": [
    {
      "cell_type": "markdown",
      "metadata": {
        "id": "XTr2JuebXa0M"
      },
      "source": [
        "# Control Flow \n",
        "\n",
        "Materials adapted from *[How to Think Like a Computer Scientist](https://runestone.academy/runestone/static/thinkcspy/index.html)* \n",
        "\n",
        "This colab notebook is paired with the page on Canvas: **5-Control Flow**\n",
        "\n"
      ]
    },
    {
      "cell_type": "markdown",
      "metadata": {
        "id": "vTB8nn38Yqt3"
      },
      "source": [
        "# Selection \n"
      ]
    },
    {
      "cell_type": "markdown",
      "metadata": {
        "id": "vHjncOA3YsNQ"
      },
      "source": [
        "## Boolean Values and Boolean Expressions\n",
        "\n",
        "The Python type for storing true and false values is called ``bool``, named after the British mathematician, George Boole. George Boole created *Boolean Algebra*, which is the basis of all modern computer arithmetic.\n",
        "\n",
        "There are only two **boolean values**.  They are ``True`` and ``False``. Capitalization is important, since ``true`` and ``false`` are not boolean values (remember Python is case sensitive).\n"
      ]
    },
    {
      "cell_type": "code",
      "metadata": {
        "id": "ma0-Xp7MYuoW"
      },
      "source": [
        "print(True)\n",
        "print(type(True))\n",
        "print(type(False))"
      ],
      "execution_count": null,
      "outputs": []
    },
    {
      "cell_type": "markdown",
      "metadata": {
        "id": "-UWJDJOXYyDZ"
      },
      "source": [
        "**Note**\n",
        "\n",
        "Boolean values are not strings!\n",
        "\n",
        "It is extremely important to realize that True and False are not strings.   They are not surrounded by quotes.  They are the only two values in the data type ``bool``.  Take a close look at the types shown below."
      ]
    },
    {
      "cell_type": "code",
      "metadata": {
        "id": "vQxkEkZ0XX3U"
      },
      "source": [
        "print(type(True))\n",
        "print(type(\"True\"))\n"
      ],
      "execution_count": null,
      "outputs": []
    },
    {
      "cell_type": "markdown",
      "metadata": {
        "id": "5fad3QxvY9sQ"
      },
      "source": [
        "A **boolean expression** is an expression that evaluates to a boolean value. The equality operator, ``==``, compares two values and produces a boolean value related to whether the two values are equal to one another."
      ]
    },
    {
      "cell_type": "code",
      "metadata": {
        "id": "Zqh8BaE0Y8av"
      },
      "source": [
        "print(5 == 5)\n",
        "print(5 == 6)"
      ],
      "execution_count": null,
      "outputs": []
    },
    {
      "cell_type": "markdown",
      "metadata": {
        "id": "GnFruazpZkku"
      },
      "source": [
        "In the first statement, the two operands are equal, so the expression evaluates to ``True``.  In the second statement, 5 is not equal to 6, so we get ``False``.\n",
        "\n",
        "The ``==`` operator is one of six common **comparison operators**; the others are:\n",
        "\n",
        "```python \n",
        "x != y               # x is not equal to y\n",
        "x > y                # x is greater than y\n",
        "x < y                # x is less than y\n",
        "x >= y               # x is greater than or equal to y\n",
        "x <= y               # x is less than or equal to y\n",
        "```\n",
        "\n",
        "Although these operations are probably familiar to you, the Python symbols are different from the mathematical symbols. A common error is to use a single equal sign (``=``) instead of a double equal sign (``==``). Remember that ``=`` is an assignment operator and ``==`` is a comparison operator. Also, there is no such thing as ``=<`` or ``=>``.\n",
        "\n",
        "Note too that an equality test is symmetric, but assignment is not. For example, if ``a == 7`` then ``7 == a``. But in Python, the statement ``a = 7`` is legal and ``7 = a`` is not. (Can you explain why?)\n",
        "\n"
      ]
    },
    {
      "cell_type": "markdown",
      "metadata": {
        "id": "vE4CiZkMaBQn"
      },
      "source": [
        "## Logical Operators \n",
        "\n",
        "There are three **logical operators**: ``and``, ``or``, and ``not``. The semantics (meaning) of these operators is similar to their meaning in English. For example, ``x > 0 and x < 10`` is true only if ``x`` is greater than 0 *and* at the same time, x is less than 10.  How would you describe this in words?  You would say that x is between 0 and 10, not including the endpoints.\n",
        "\n",
        "``n % 2 == 0 or n % 3 == 0`` is true if *either* of the conditions is true, that is, if the number is divisible by 2 *or* divisible by 3.  In this case, one, or the other, or both of the parts has to be true for the result to be true.\n",
        "\n",
        "Finally, the ``not`` operator negates a boolean expression, so ``not  x > y`` is true if ``x > y`` is false, that is, if ``x`` is less than or equal to ``y``."
      ]
    },
    {
      "cell_type": "code",
      "metadata": {
        "id": "124H9QJyZoJF"
      },
      "source": [
        "x = 5\n",
        "print(x > 0 and x < 10)\n",
        "\n",
        "n = 25\n",
        "print(n % 2 == 0 or n % 3 == 0)"
      ],
      "execution_count": null,
      "outputs": []
    },
    {
      "cell_type": "markdown",
      "metadata": {
        "id": "q13zH4fjaJy9"
      },
      "source": [
        "**Common Mistake!**\n",
        "\n",
        "There is a very common mistake that occurs when programmers try to write boolean expressions.  For example, what if we have a variable ``number`` and we want to check to see if its value is 5,6, or 7.  In words we might say: \"number equal to 5 or 6 or 7\".  However, if we translate this into Python, ``number == 5 or 6 or 7``, it will not be correct.  The ``or`` operator must join the results of three equality checks.  The correct way to write this is ``number == 5 or number == 6 or number == 7``.  This may seem like a lot of typing but it is absolutely necessary.  You cannot take a shortcut.\n"
      ]
    },
    {
      "cell_type": "markdown",
      "metadata": {
        "id": "2gdGjbBSabJJ"
      },
      "source": [
        "## Precedence of Operators \n",
        "\n",
        "We have now added a number of additional operators to those we learned in the previous chapters.  It is important to understand how these operators relate to the others with respect to operator precedence.  Python will always evaluate the arithmetic operators first (** is highest, then multiplication/division, then addition/subtraction).  Next comes the relational operators.  Finally, the logical operators are done last.  This means that the expression ``x*5 >= 10 and y-6 <= 20`` will be evaluated so as to first perform the arithmetic and then check the relationships.  The ``and`` will be done last.  Although many programmers might place parenthesis around the two relational expressions, it is not necessary.\n",
        "\n",
        "\n",
        "The following table summarizes the precedence discussed so far from highest to lowest.  \n",
        "\n",
        "\n",
        "| Level  |    Category   |      Operators  |\n",
        "|--------|---------------|-----------------|\n",
        "| 7(high)  | exponent       | \\**   |\n",
        "| 6        | multiplication | \\*,/,//,%  |\n",
        "| 5        | addition       | +,-  |\n",
        "| 4        | relational     | ==,!=,<=,>=,>,<  |\n",
        "| 3        | logical        | not  |\n",
        "| 2        | logical        | and  |\n",
        "| 1(low)   | logical        | or  |"
      ]
    },
    {
      "cell_type": "markdown",
      "metadata": {
        "id": "z6gKjXXSk4eh"
      },
      "source": [
        "### <a name=\"exer1\"></a> Exercise 1 \n",
        "\n",
        "Which of the following properly expresses the precedence of operators (using parentheses) in the following expression: 5*3 > 10 and 4+6==11\n",
        "\n",
        "* A. ((5*3) > 10) and ((4+6) == 11)\n",
        "* B. (5*(3 > 10)) and (4 + (6 == 11))\n",
        "* C.  ((((5*3) > 10) and 4)+6) == 11\n",
        "* D. ((5*3) > (10 and (4+6))) == 11\n",
        "\n",
        "[exercise 1 answers](#ans1)"
      ]
    },
    {
      "cell_type": "markdown",
      "metadata": {
        "id": "8AQxprw_le00"
      },
      "source": [
        "##  Conditional Execution: Binary Selection\n",
        "\n",
        "In order to write useful programs, we almost always need the ability to check conditions and change the behavior of the program accordingly. **Selection statements**, sometimes also referred to as **conditional statements**, give us this ability. The simplest form of selection is the **if statement**. This is sometimes referred to as **binary selection** since there are two possible paths of execution.\n"
      ]
    },
    {
      "cell_type": "code",
      "metadata": {
        "id": "xQjHlNfSaFIc"
      },
      "source": [
        "x = 15\n",
        "\n",
        "if x % 2 == 0:\n",
        "    print(x, \"is even\")\n",
        "else:\n",
        "    print(x, \"is odd\")\n",
        "\n"
      ],
      "execution_count": null,
      "outputs": []
    },
    {
      "cell_type": "markdown",
      "metadata": {
        "id": "G5BxkhQal4yG"
      },
      "source": [
        "The syntax for an ``if`` statement looks like this:\n",
        "\n",
        "```python\n",
        "if BOOLEAN EXPRESSION:\n",
        "    STATEMENTS_1        # executed if condition evaluates to True\n",
        "else:\n",
        "    STATEMENTS_2        # executed if condition evaluates to False\n",
        "```\n",
        "\n",
        "The boolean expression after the ``if`` statement is called the **condition**. If it is true, then the immediately following indented statements get executed. If not, then the statements indented under the ``else`` clause get executed.\n",
        "\n",
        "<img src=\"https://pages.mtu.edu/~lebrown/CADeT/Intro2Python/flowchart_if_else.png\">\n",
        "\n",
        "As with the function definition from the last chapter and other compound statements like ``for``, the ``if`` statement consists of a header line and a body. The header line begins with the keyword ``if`` followed by a *boolean expression* and ends with a colon (:).\n",
        "\n",
        "The more indented statements that follow are called a **block**.\n",
        "\n",
        "Each of the statements inside the first block of statements is executed in order if the boolean expression evaluates to ``True``. The entire first block of statements is skipped if the boolean expression evaluates to ``False``, and instead all the statements under the ``else`` clause are executed.\n",
        "\n",
        "There is no limit on the number of statements that can appear under the two clauses of an ``if`` statement, but there has to be at least one statement in each block.\n",
        "\n",
        "Each compound statement includes a heading and all the following further-indented statements in the block after the heading.  The ``if`` - ``else`` statement is an unusual compound statement because it has more than one part at the same level of indentation as the ``if`` heading, (the ``else`` clause, with its own indented block)."
      ]
    },
    {
      "cell_type": "markdown",
      "metadata": {
        "id": "y7u5SxEVnGpO"
      },
      "source": [
        "## Omitting the `else` Clause: Unary Selection\n",
        "\n",
        "Another form of the ``if`` statement is one in which the ``else`` clause is omitted entirely. This creates what is sometimes called **unary selection**. In this case, when the condition evaluates to ``True``, the statements are executed.  Otherwise the flow of execution continues to the statement after the body of the ``if``.\n",
        "\n",
        "<img src=\"https://pages.mtu.edu/~lebrown/CADeT/Intro2Python/flowchart_if_only.png\">\n"
      ]
    },
    {
      "cell_type": "code",
      "metadata": {
        "id": "75kEK_QEnhPs"
      },
      "source": [
        "x = 10\n",
        "if x < 0:\n",
        "    print(\"The negative number \",  x, \" is not valid here.\")\n",
        "print(\"This is always printed\")\n"
      ],
      "execution_count": null,
      "outputs": []
    },
    {
      "cell_type": "markdown",
      "metadata": {
        "id": "scWJIWm7qcna"
      },
      "source": [
        "### <a name=\"exer2\"></a>Exercise 2 \n",
        "\n",
        "What does the following code print?\n",
        "\n",
        "```python\n",
        "x = -10\n",
        "if x < 0:\n",
        "    print(\"The negative number \",  x, \" is not valid here.\")\n",
        "print(\"This is always printed\")\n",
        "```\n",
        "\n",
        "```python \n",
        "a.\n",
        "This is always printed\n",
        "\n",
        "b.\n",
        "The negative number -10 is not valid here\n",
        "This is always printed\n",
        "\n",
        "c.\n",
        "The negative number -10 is not valid here\n",
        "```\n",
        "\n",
        "[exercise 2 answer](#ans2)"
      ]
    },
    {
      "cell_type": "markdown",
      "metadata": {
        "id": "D2ZjYIPDqzPn"
      },
      "source": [
        "## Nested Conditionals \n",
        "\n",
        "One conditional can also be **nested** within another. For example, assume we have two integer variables, ``x`` and ``y``. The following pattern of selection shows how we might decide how they are related to each other.\n",
        "\n",
        "```python \n",
        "if x < y:\n",
        "    print(\"x is less than y\")\n",
        "else:\n",
        "    if x > y:\n",
        "        print(\"x is greater than y\")\n",
        "    else:\n",
        "        print(\"x and y must be equal\")\n",
        "```\n",
        "\n",
        "The outer conditional contains two branches. The second branch (the else from the outer) contains another ``if`` statement, which has two branches of its own. Those two branches could contain conditional statements as well.\n",
        "\n",
        "The flow of control for this example can be seen in this flowchart illustration.\n",
        "\n",
        "<img src=\"https://pages.mtu.edu/~lebrown/CADeT/Intro2Python/flowchart_nested_conditional.png\">\n",
        "\n",
        "Here is a complete program that defines values for ``x`` and ``y``.  Run the program and see the result.  Then change the values of the variables to change the flow of control."
      ]
    },
    {
      "cell_type": "code",
      "metadata": {
        "id": "kVaWwdrQrdAz"
      },
      "source": [
        "x = 10\n",
        "y = 10\n",
        "\n",
        "if x < y:\n",
        "    print(\"x is less than y\")\n",
        "else:\n",
        "    if x > y:\n",
        "        print(\"x is greater than y\")\n",
        "    else:\n",
        "        print(\"x and y must be equal\")"
      ],
      "execution_count": null,
      "outputs": []
    },
    {
      "cell_type": "markdown",
      "metadata": {
        "id": "Mmiac1ocriPx"
      },
      "source": [
        "**Note**  \n",
        "In some programming languages, matching the if and the else is a problem.  However, in Python this is not the case. The indentation pattern tells us exactly which else belongs to which if.\n"
      ]
    },
    {
      "cell_type": "markdown",
      "metadata": {
        "id": "Sh8dFTVFsO-r"
      },
      "source": [
        "## Chained conditionals\n",
        "\n",
        "Python provides an alternative way to write nested selection such as the one shown in the previous section. This is sometimes referred to as a **chained\n",
        "conditional**.\n",
        "\n",
        "```python\n",
        "if x < y:\n",
        "    print(\"x is less than y\")\n",
        "elif x > y:\n",
        "    print(\"x is greater than y\")\n",
        "else:\n",
        "    print(\"x and y must be equal\")\n",
        "``` \n",
        "\n",
        "The flow of control can be drawn in a different orientation but the resulting pattern is identical to the one shown above.\n",
        "\n",
        "<img src=\"https://pages.mtu.edu/~lebrown/CADeT/Intro2Python/flowchart_chained_conditional.png\">\n",
        "\n",
        "``elif`` is an abbreviation of ``else if``. Again, exactly one branch will be executed. There is no limit of the number of ``elif`` statements but only a single (and optional) final ``else`` statement is allowed and it must be the last branch in the statement.\n",
        "\n",
        "Each condition is checked in order. If the first is false, the next is checked, and so on. If one of them is true, the corresponding branch executes, and the statement ends. Even if more than one condition is true, only the first true branch executes.\n",
        "\n",
        "Here is the same program using ``elif``."
      ]
    },
    {
      "cell_type": "code",
      "metadata": {
        "id": "A3WOtUD3sg55"
      },
      "source": [
        "x = 10\n",
        "y = 10\n",
        "\n",
        "if x < y:\n",
        "    print(\"x is less than y\")\n",
        "elif x > y:\n",
        "    print(\"x is greater than y\")\n",
        "else:\n",
        "    print(\"x and y must be equal\")\n"
      ],
      "execution_count": null,
      "outputs": []
    },
    {
      "cell_type": "markdown",
      "metadata": {
        "id": "ekhrtLu_snIC"
      },
      "source": [
        "### <a name=\"exer3\"></a> Exercise 3 \n",
        "\n",
        "Which of I, II, and III below gives the same result as the following nested if?\n",
        "\n",
        "```python\n",
        "# nested if-else statement\n",
        "x = -10\n",
        "if x < 0:\n",
        "    print(\"The negative number \",  x, \" is not valid here.\")\n",
        "else:\n",
        "    if x > 0:\n",
        "        print(x, \" is a positive number\")\n",
        "    else:\n",
        "        print(x, \" is 0\")\n",
        "```\n",
        "\n",
        "```python \n",
        "I.\n",
        "\n",
        "if x < 0:\n",
        "    print(\"The negative number \",  x, \" is not valid here.\")\n",
        "else x > 0:\n",
        "    print(x, \" is a positive number\")\n",
        "else:\n",
        "    print(x, \" is 0\")\n",
        "```\n",
        "\n",
        "```python \n",
        "II.\n",
        "\n",
        "if x < 0:\n",
        "    print(\"The negative number \",  x, \" is not valid here.\")\n",
        "elif x > 0:\n",
        "    print(x, \" is a positive number\")\n",
        "else:\n",
        "    print(x, \" is 0\")\n",
        "```\n",
        "\n",
        "```python \n",
        "III.\n",
        "\n",
        "if x < 0:\n",
        "    print(\"The negative number \",  x, \" is not valid here.\")\n",
        "if x > 0:\n",
        "    print(x, \" is a positive number\")\n",
        "else:\n",
        "    print(x, \" is 0\")\n",
        "``` \n",
        "\n",
        "* A. I only \n",
        "* B. II only \n",
        "* C. III only \n",
        "* D. II and III \n",
        "* E. I, II, and III \n",
        "\n",
        "Try answering without running the code.  You can always check your understanding in the following code block. \n"
      ]
    },
    {
      "cell_type": "code",
      "metadata": {
        "id": "Erkyik_ptMX3"
      },
      "source": [
        ""
      ],
      "execution_count": null,
      "outputs": []
    },
    {
      "cell_type": "markdown",
      "metadata": {
        "id": "WC7QyI_-tMqI"
      },
      "source": [
        "[exercise 3 answer](#ans3)"
      ]
    },
    {
      "cell_type": "markdown",
      "metadata": {
        "id": "ZMeD-HONtiY4"
      },
      "source": [
        "## Boolean Functions \n",
        "\n",
        "We have already seen that boolean values result from the evaluation of boolean expressions.  Since the result of any expression evaluation can be returned by a function (using the ``return`` statement), functions can return boolean values.  This turns out to be a very convenient way to hide the details of complicated tests. For example:"
      ]
    },
    {
      "cell_type": "code",
      "metadata": {
        "id": "cEpr19xUtt_e"
      },
      "source": [
        "def isDivisible(x, y):\n",
        "    if x % y == 0:\n",
        "        result = True\n",
        "    else:\n",
        "        result = False\n",
        "\n",
        "    return result\n",
        "\n",
        "print(isDivisible(10, 5))"
      ],
      "execution_count": null,
      "outputs": []
    },
    {
      "cell_type": "markdown",
      "metadata": {
        "id": "m9kTb9UXtwMM"
      },
      "source": [
        "The name of this function is ``isDivisible``. It is common to give **boolean functions** names that sound like yes/no questions.  ``isDivisible`` returns either ``True`` or ``False`` to indicate whether the ``x`` is or is not divisible by ``y``.\n",
        "\n",
        "We can make the function more concise by taking advantage of the fact that the condition of the ``if`` statement is itself a boolean expression. We can return it directly, avoiding the ``if`` statement altogether:\n",
        "\n",
        "```python \n",
        "def isDivisible(x, y):\n",
        "    return x % y == 0\n",
        "``` \n",
        "\n",
        "Boolean functions are often used in conditional statements:\n",
        "\n",
        "```python \n",
        "if isDivisible(x, y):\n",
        "    ... # do something ...\n",
        "else:\n",
        "    ... # do something else ...\n",
        "``` \n",
        "\n",
        "It might be tempting to write something like ``if isDivisible(x, y) == True:`` but the extra comparison is redundant.  You only need an ``==`` expression if you are comparing some other type than boolean. (``isDivisible(x, y) == False`` can also be made more concise as  ``not isDivisible(x, y)``). The following example shows the ``isDivisible`` function at work.  Notice how descriptive the code is when we move the testing details into a boolean function.  Try it with a few other actual parameters to see what is printed."
      ]
    },
    {
      "cell_type": "code",
      "metadata": {
        "id": "-xqNx0wjuJ2b"
      },
      "source": [
        "def isDivisible(x, y):\n",
        "    return x % y == 0\n",
        "\n",
        "if isDivisible(10, 5):\n",
        "    print(\"That works\")\n",
        "else:\n",
        "    print(\"Those values are no good\")\n",
        "\n"
      ],
      "execution_count": null,
      "outputs": []
    },
    {
      "cell_type": "markdown",
      "metadata": {
        "id": "Tz7MJnRxugdo"
      },
      "source": [
        "### <a name=\"exer4\"></a> Exercise 4 \n",
        "\n",
        "Write a function which is given an exam mark, and it returns a string — the grade for that mark — according to this scheme:\n",
        "\n",
        "| Mark    | Grade   | \n",
        "|---------|---------|\n",
        "| >=90    | A       | \n",
        "| [80-90) | B       |\n",
        "| [70-80) | C       | \n",
        "| [60-70) | D       | \n",
        "| < 60    | F       |\n",
        "\n",
        "The square and round brackets denote closed and open intervals. A closed interval includes the number, and open interval excludes it. So 79.99999 gets grade C , but 80 gets grade B.\n",
        "\n",
        "Test your function by printing the mark and the grade for a number of different marks.  Make sure it passes the 3 unit tests given and you can add your own. "
      ]
    },
    {
      "cell_type": "code",
      "metadata": {
        "id": "adVx-7t1vAwa"
      },
      "source": [
        "def grade(mark): \n",
        "  \"\"\" returns the letter grade for a given mark. \n",
        "  \"\"\"\n",
        "  \n",
        "  return \"A\"\n",
        "\n",
        "import unittest\n",
        "class TestNotebook(unittest.TestCase):\n",
        "    \n",
        "    def test_grade1(self):\n",
        "        self.assertEqual(grade(79.99999), 'C')\n",
        "\n",
        "    def test_grade2(self):\n",
        "        self.assertEqual(grade(80), 'B')\n",
        "      \n",
        "    def test_grade3(self):\n",
        "        self.assertEqual(grade(59), 'F')\n",
        "        \n",
        "unittest.main(argv=[''], verbosity=2, exit=False)"
      ],
      "execution_count": null,
      "outputs": []
    },
    {
      "cell_type": "markdown",
      "metadata": {
        "id": "epq__VkYvwqA"
      },
      "source": [
        "[exercise 4 answer](#ans4)"
      ]
    },
    {
      "cell_type": "markdown",
      "metadata": {
        "id": "TEe0kf4ww4XL"
      },
      "source": [
        "# Iteration \n",
        "\n",
        "Computers are often used to automate repetitive tasks. Repeating identical or similar tasks without making errors is something that computers do well and people do poorly.\n",
        "\n",
        "Repeated execution of a sequence of statements is called **iteration**.  Because iteration is so common, Python provides several language features to make it easier. One is the ``for`` statement.  This is a very common form of iteration in Python. In this section, we are going to look at the ``while`` statement --- another way to have your program do iteration.\n"
      ]
    },
    {
      "cell_type": "markdown",
      "metadata": {
        "id": "ZDI0mtwJxTv7"
      },
      "source": [
        "## The `for` loop \n",
        "\n",
        "In Python, the **for** statement allows us to write programs that implement iteration.   As a simple example, let's say we have some friends, and we'd like to send them each an email inviting them to our party.  We don't quite know how to send email yet, so for the moment we'll just print a message for each friend."
      ]
    },
    {
      "cell_type": "code",
      "metadata": {
        "id": "M52g_y5ryPUs"
      },
      "source": [
        "for name in [\"Joe\", \"Amy\", \"Brad\", \"Angelina\", \"Zuki\", \"Thandi\", \"Paris\"]:\n",
        "    print(\"Hi\", name, \"Please come to my party on Saturday!\")"
      ],
      "execution_count": null,
      "outputs": []
    },
    {
      "cell_type": "markdown",
      "metadata": {
        "id": "1z2OifeqySN-"
      },
      "source": [
        "Take a look at the output produced when you press the ``run`` button.  There is one line printed for each friend.  Here's how it works:\n",
        "\n",
        "* **name** in this ``for`` statement is called the **loop variable**.\n",
        "* The list of names in the square brackets is called a Python **list**. Lists are very useful.  We will have much  more to say about them later.\n",
        "* Line 2  is the **loop body**.  The loop body is always indented. The indentation determines exactly what statements are \"in the loop\".  The loop body is performed one time for each name in the list.\n",
        "* On each *iteration* or *pass* of the loop, a check is done to see if there are still more items to be processed.  If there are none left (this is called the **terminating condition** of the loop), the loop has finished.  Program execution continues at the next statement after the loop body.\n",
        "* If there are items still to be processed, the loop variable is updated to refer to the next item in the list.  This means, in this case, that the loop  body is executed here 7 times, and each time ``name`` will refer to a different friend.\n",
        "* At the end of each execution of the body of the loop, Python returns to the ``for`` statement, to see if there are more items to be handled."
      ]
    },
    {
      "cell_type": "markdown",
      "metadata": {
        "id": "XAWhOZl80IMb"
      },
      "source": [
        "### Flow of Execution of the for Loop\n",
        "\n",
        "As a program executes, the interpreter always keeps track of which statement is about to be executed.  We call this the **control flow**, or the **flow of execution** of the program.  When humans execute programs, they often use their finger to point to each statement in turn.  So you could think of control flow as \"Python's moving finger\".\n",
        "\n",
        "Control flow until now has been strictly top to bottom, one statement at a time.  We call this type of control **sequential**.  In Python flow is sequential as long as successive statements are indented the *same* amount.  The ``for`` statement  introduces indented sub-statements after the for-loop heading.\n",
        "\n",
        "Flow of control is often easy to visualize and understand if we draw a flowchart. This flowchart shows the exact steps and logic of how the ``for`` statement executes.\n",
        "\n",
        "<img src=\"https://pages.mtu.edu/~lebrown/CADeT/Intro2Python/new_flowchart_for.png\">\n",
        "\n"
      ]
    },
    {
      "cell_type": "markdown",
      "metadata": {
        "id": "JMGRjEfW0ejV"
      },
      "source": [
        "### <a name=\"exer5\"></a> Exercise 5 \n",
        "\n",
        "In the following code, what is the value of number the second time Python executes the loop?\n",
        "\n",
        "```python\n",
        "for number in [5, 4, 3, 2, 1, 0]:\n",
        "    print(\"I have\", number, \"cookies.  I'm going to eat one.\")\n",
        "```\n",
        "\n",
        "* A. 2 \n",
        "* B. 4 \n",
        "* C. 5 \n",
        "* D. 1 \n",
        "\n",
        "[exercise 5 answer](#ans5)"
      ]
    },
    {
      "cell_type": "markdown",
      "metadata": {
        "id": "QtNP0IaJ1qBr"
      },
      "source": [
        "## The `range` function \n",
        "\n",
        "In a simple example with the `for`, we can use a list of four integers to cause the iteration to happen four times.  \n"
      ]
    },
    {
      "cell_type": "code",
      "metadata": {
        "id": "Z-ceQbAT2UQN"
      },
      "source": [
        "for i in [0, 1, 2, 3]: \n",
        "    print(i)"
      ],
      "execution_count": null,
      "outputs": []
    },
    {
      "cell_type": "markdown",
      "metadata": {
        "id": "J4auKWSA2WHp"
      },
      "source": [
        "It turns out that generating lists with a specific number of integers is a very common thing to do, especially when you want to write simple ``for loop`` controlled iteration.  Even though you can use any four items, or any four integers for that matter, the conventional thing to do is to use a list of integers starting with 0. In fact, these lists are so popular that Python gives us special built-in ``range`` objects that can deliver a sequence of values to the ``for`` loop.  When called with one parameter, the sequence provided by ``range`` always starts with 0.  If you ask for ``range(4)``, then you will get 4 values starting with 0.  In other words, 0, 1, 2, and finally 3.  Notice that 4 is not included since we started with 0.  Likewise, ``range(10)`` provides 10 values, 0 through 9.\n",
        "\n",
        "```python \n",
        "for i in range(4):\n",
        "    # Executes the body with i = 0, then 1, then 2, then 3\n",
        "for x in range(10):\n",
        "    # sets x to each of ... [0, 1, 2, 3, 4, 5, 6, 7, 8, 9]\n",
        "```\n",
        "\n",
        "The [range](https://docs.python.org/3.7/library/functions.html#func-range) function is actually a very powerful function when it comes to creating sequences of integers.  It can take one, two, or three parameters.  We have seen the simplest case of one parameter such as ``range(4)`` which creates ``[0, 1, 2, 3]``.  But what if we really want to have the sequence ``[1, 2, 3, 4]``?  We can do this by using a two parameter version of ``range`` where the first parameter is the starting point and the second parameter is the ending point.  The evaluation of ``range(1,5)`` produces the desired sequence.  What happened to the 5? In this case we interpret the parameters of the range function to mean range(start,beyondLast), where beyondLast means an index past the last index we want.  In the 2-parameter version of range, that is the last index included + 1.\n",
        "\n",
        "**Note**  \n",
        "Why in the world would range not just work like range(start, stop)?  Think about it like this.  Because computer scientists like to start counting at 0 instead of 1, ``range(N)`` produces a sequence of things that is N long, but the consequence of this is that the final number of the sequence is N-1.  In the case of start, stop it helps to simply think that the sequence begins with start and continues as long as the number is less than stop.\n",
        "\n",
        "\n",
        "**Note**  \n",
        "The range function is *lazy*:  It produces the next element only when needed. With a regular Python 3 interpreter, printing a range does *not* calculate all the elements.  To immediately calculate all the elements in a range, wrap the range in a list, like ``list(range(4))``.   \n",
        "\n",
        "Here are a two examples for you to run.  Try them and then add another line below to create a sequence starting\n",
        "at 10 and going up to 20 (including 20).\n",
        "\n"
      ]
    },
    {
      "cell_type": "code",
      "metadata": {
        "id": "Ytk2AEaz9-vM"
      },
      "source": [
        "print(list(range(4)))\n",
        "print(list(range(1, 5)))"
      ],
      "execution_count": null,
      "outputs": []
    },
    {
      "cell_type": "markdown",
      "metadata": {
        "id": "bCWouBmP6bHY"
      },
      "source": [
        "Finally, suppose we want to have a sequence of even numbers. How would we do that?  Easy, we add another parameter, a step, that tells range what to count by.  For even numbers we want to start at 0 and count by 2's.  So if we wanted the first 10 even numbers we would use ``range(0,19,2)``.  The most general form of the range is ``range(start, beyondLast, step)``.  You can also create a sequence of numbers that starts big and gets smaller by using a negative value for the step parameter."
      ]
    },
    {
      "cell_type": "code",
      "metadata": {
        "id": "oiYSSM2H-U7O"
      },
      "source": [
        "print(list(range(0, 19, 2)))\n",
        "print(list(range(0, 20, 2)))\n",
        "print(list(range(10, 0, -1)))"
      ],
      "execution_count": null,
      "outputs": []
    },
    {
      "cell_type": "markdown",
      "metadata": {
        "id": "Ur94yMQN_txH"
      },
      "source": [
        "### <a name=\"exer6\"></a> Exercise 6\n",
        "\n",
        "What command correctly generates the sequence 2, 5, 8?\n",
        "\n",
        "* A. range(2, 5, 8)\n",
        "* B. range(2, 8, 3)\n",
        "* C. range(2, 10, 3)\n",
        "* D. range(8, 1, -3)\n",
        "\n",
        "[exercise 6 answers](#ans6)"
      ]
    },
    {
      "cell_type": "markdown",
      "metadata": {
        "id": "mZy8GpkDCJbf"
      },
      "source": [
        "## The ``for`` loop revisited \n",
        "\n",
        "Recall that the ``for`` loop processes each item in a list.  Each item in turn is (re-)assigned to the loop variable, and the body of the loop is executed. We saw this example in an earlier section.\n",
        "\n",
        "```python \n",
        "for f in [\"Joe\", \"Amy\", \"Brad\", \"Angelina\", \"Zuki\", \"Thandi\", \"Paris\"]:\n",
        "    print(\"Hi\", f, \"Please come to my party on Saturday\")\n",
        "```\n",
        "\n",
        "We can also use iteration paired with the update idea to form the accumulator pattern.  For example, to compute the sum of the first n integers, we could create a for loop using the ``range`` to produce the numbers 1 through n. Using the accumulator pattern, we can start with a running total variable initialized to 0 and on each iteration, add the current value of the loop variable.  A function to compute this sum is shown below."
      ]
    },
    {
      "cell_type": "code",
      "metadata": {
        "id": "RKl1BbkQC8wu"
      },
      "source": [
        "def sumTo(aBound):\n",
        "    theSum = 0\n",
        "    for aNumber in range(1, aBound + 1):\n",
        "        theSum = theSum + aNumber\n",
        "\n",
        "    return theSum\n",
        "\n",
        "print(sumTo(4))\n",
        "\n",
        "print(sumTo(1000))"
      ],
      "execution_count": null,
      "outputs": []
    },
    {
      "cell_type": "markdown",
      "metadata": {
        "id": "saLQyuoKC-4c"
      },
      "source": [
        "To review, the variable ``theSum`` is called the accumulator.  It is initialized to zero before we start the loop.  The loop variable, ``aNumber`` will take on the values produced by the ``range(1, aBound + 1)`` function call.  Note that this produces all the integers from 1 up to the value of ``aBound``.  If we had not added 1 to ``aBound``, the range would have stopped one value short since ``range`` does not include the upper bound.\n",
        "\n",
        "The assignment statement, ``theSum = theSum + aNumber``, updates ``theSum`` each time through the loop.  This accumulates the running total.  Finally, we return the value of the accumulator.\n"
      ]
    },
    {
      "cell_type": "markdown",
      "metadata": {
        "id": "7Kc0I7fqDIkR"
      },
      "source": [
        "## The `while` statement \n",
        "\n",
        "There is another Python statement that can also be used to build an iteration. It is called the ``while`` statement. The ``while`` statement provides a much more general mechanism for iterating.  Similar to the ``if`` statement, it uses a boolean expression to control the flow of execution.  The body of while will be repeated as long as the controlling boolean expression evaluates to ``True``.\n",
        "\n",
        "The following figure shows the flow of control.\n",
        "\n",
        "<img src=\"https://pages.mtu.edu/~lebrown/CADeT/Intro2Python/while_flow.png\">\n",
        "\n",
        "We can use the ``while`` loop to create any type of iteration we wish, including anything that we have previously done with a ``for`` loop.  For example, the program in the previous section could be rewritten using ``while``. Instead of relying on the ``range`` function to produce the numbers for our summation, we will need to produce them ourselves.  To to this, we will create a variable called ``aNumber`` and initialize it to 1, the first number in the summation.  Every iteration will add ``aNumber`` to the running total until all the values have been used. In order to control the iteration, we must create a boolean expression that evaluates to ``True`` as long as we want to keep adding values to our running total.  In this case, as long as ``aNumber`` is less than or equal to the bound, we should keep going.\n",
        "\n",
        "Here is a summation program that uses a while statement.\n",
        "\n",
        "\n"
      ]
    },
    {
      "cell_type": "code",
      "metadata": {
        "id": "MramfwhGD3HF"
      },
      "source": [
        "def sumTo(aBound):\n",
        "    \"\"\" Return the sum of 1+2+3 ... n \"\"\"\n",
        "\n",
        "    theSum  = 0\n",
        "    aNumber = 1\n",
        "    while aNumber <= aBound:\n",
        "        theSum = theSum + aNumber\n",
        "        aNumber = aNumber + 1\n",
        "    return theSum\n",
        "\n",
        "print(sumTo(4))\n",
        "\n",
        "print(sumTo(1000))"
      ],
      "execution_count": null,
      "outputs": []
    },
    {
      "cell_type": "markdown",
      "metadata": {
        "id": "8MzJedeDD4ew"
      },
      "source": [
        "You can almost read the ``while`` statement as if it were in natural language. It means, while ``aNumber`` is less than or equal to ``aBound``, continue executing the body of the loop. Within the body, each time, update ``theSum`` using the accumulator pattern and increment ``aNumber``. After the body of the loop, we go back up to the condition of the ``while`` and reevaluate it.  When ``aNumber`` becomes greater than ``aBound``, the condition fails and flow of control continues to the ``return`` statement.\n",
        "\n",
        "More formally, here is the flow of execution for a ``while`` statement:\n",
        "\n",
        "* Evaluate the condition, yielding ``False`` or ``True``.\n",
        "* If the condition is ``False``, exit the ``while`` statement and continue execution at the next statement.\n",
        "* If the condition is ``True``, execute each of the statements in the body and then go back to step 1.\n",
        "\n",
        "The body consists of all of the statements below the header with the same\n",
        "indentation.\n",
        "\n",
        "This type of flow is called a **loop** because the third step loops back around to the top. Notice that if the condition is ``False`` the first time through the loop, the statements inside the loop are never executed.\n",
        "\n",
        "**Warning**  \n",
        "Though Python's ``while`` is very close to the English \"while\", there is an important difference:  In English \"while X, do Y\",  we usually assume that immediately after X becomes false, we stop  with Y.  In Python there is *not* an immediate stop:  After the  initial test, any following tests come only after the execution of  the *whole* body, even if the condition becomes false in the middle of the loop body.\n",
        "\n",
        "The body of the loop should change the value of one or more variables so that eventually the condition becomes ``False`` and the loop terminates. Otherwise the loop will repeat forever. This is called an **infinite loop**.\n",
        "An endless source of amusement for computer scientists is the observation that the directions written on the back of the shampoo bottle (lather, rinse, repeat) create an infinite loop.\n",
        "\n",
        "In the case shown above, we can prove that the loop terminates because we know that the value of ``aBound`` is finite, and we can see that the value of ``aNumber`` increments each time through the loop, so eventually it will have to exceed ``aBound``. In other cases, it is not so easy to tell.\n",
        "\n",
        "**Note**  \n",
        "Introduction of the while statement causes us to think about the types of iteration we have seen.  The ``for`` statement will always iterate through a sequence of values like the list of names for the party or the list of numbers created by ``range``.  Since we know that it will iterate once for each value in the collection, it is often said that a ``for`` loop creates a **definite iteration** because we definitely know how many times we are going to iterate.  On the other  hand, the ``while`` statement is dependent on a condition that needs to evaluate to ``False`` in order for the loop to terminate.  Since we do not necessarily know when this will happen, it creates what we call **indefinite iteration**.  Indefinite iteration simply means that we don't know how many times we will repeat but eventually the condition controlling the iteration will fail and the iteration will stop. (Unless we have an infinite loop which is of course a problem.)\n",
        "\n",
        "What you will notice here is that the ``while`` loop is more work for you --- the programmer --- than the equivalent ``for`` loop.  When using a ``while`` loop you have to control the loop variable yourself.  You give it an initial value, test for completion, and then make sure you change something in the body so that the loop terminates."
      ]
    },
    {
      "cell_type": "markdown",
      "metadata": {
        "id": "s4m2UetHE7c6"
      },
      "source": [
        "### <a name=\"exer7\"></a> Exercise 7 \n",
        "\n",
        "The following code contains an infinite loop. Which is the best explanation for why the loop does not terminate?\n",
        "\n",
        "```python \n",
        "n = 10\n",
        "answer = 1\n",
        "while n > 0:\n",
        "    answer = answer + n\n",
        "    n = n + 1\n",
        "print(answer)\n",
        "```\n",
        "\n",
        "* A.  n starts at 10 and is incremented by 1 each time through the loop, so it will always be positive\n",
        "* B. answer starts at 1 and is incremented by n each time, so it will always be positive\n",
        "* C. You cannot compare n to 0 in while loop. You must compare it to another variable.\n",
        "* D. In the while loop body, we must set n to False, and this code does not do that.\n",
        "\n",
        "[exercise 7 answer](#ans7)\n",
        "\n"
      ]
    },
    {
      "cell_type": "markdown",
      "metadata": {
        "id": "w6wXXbNRF2Tg"
      },
      "source": [
        "### <a name=\"exer8\"></a> Exercise 8 \n",
        "\n",
        "What is printed by the following code?  Try to walk through the while statement, before running the code. \n",
        "\n",
        "```python \n",
        "n = 1\n",
        "x = 2\n",
        "while n < 5:\n",
        "    n = n + 1\n",
        "    x = x + 1\n",
        "    n = n + 2\n",
        "    x = x + n\n",
        "print(n, x)\n",
        "```\n",
        "\n",
        "* A. 4 7 \n",
        "* B. 5 7 \n",
        "* C. 7 15 \n",
        "\n",
        "[exercise 8 answer](#ans8)"
      ]
    },
    {
      "cell_type": "code",
      "metadata": {
        "id": "uec2gkptF9z1"
      },
      "source": [
        ""
      ],
      "execution_count": null,
      "outputs": []
    },
    {
      "cell_type": "markdown",
      "metadata": {
        "id": "2xAfjFUmG6Ng"
      },
      "source": [
        "## The 3n+1 Sequence \n",
        "\n",
        "As an example of indefinite iteration, let's look at a sequence that has fascinated mathematicians for many years. The rule  for creating the sequence is to start from some positive integer, call it ``n``, and to generate the next term of the sequence from ``n``, either by halving ``n``, whenever ``n`` is even, or else by multiplying it by three and adding 1 when it is odd.  The sequence terminates when ``n`` reaches 1.\n",
        "\n",
        "This Python function captures that algorithm.  Try running this program several times supplying different values for n."
      ]
    },
    {
      "cell_type": "code",
      "metadata": {
        "id": "otJ7uJcmG9kw"
      },
      "source": [
        "def seq3np1(n):\n",
        "    \"\"\" Print the 3n+1 sequence from n, terminating when it reaches 1.\"\"\"\n",
        "    while n != 1:\n",
        "        print(n)\n",
        "        if n % 2 == 0:        # n is even\n",
        "            n = n // 2\n",
        "        else:                 # n is odd\n",
        "            n = n * 3 + 1\n",
        "    print(n)                  # the last print is 1\n",
        "\n",
        "seq3np1(3)"
      ],
      "execution_count": null,
      "outputs": []
    },
    {
      "cell_type": "markdown",
      "metadata": {
        "id": "q4a5IOoWHab8"
      },
      "source": [
        "The condition for this loop is ``n != 1``.  The loop will continue running until ``n == 1`` (which will make the condition false).\n",
        "\n",
        "Each time through the loop, the program prints the value of ``n`` and then checks whether it is even or odd using the remainder operator. If it is even, the value of ``n`` is divided by 2 using integer division. If it is odd, the value is replaced by ``n * 3 + 1``. Try some other examples.\n",
        "\n",
        "Since ``n`` sometimes increases and sometimes decreases, there is no obvious proof that ``n`` will ever reach 1, or that the program terminates. For some particular values of ``n``, we can prove termination. For example, if the starting value is a power of two, then the value of ``n`` will be even each time through the loop until it reaches 1.\n",
        "\n",
        "You might like to have some fun and see if you can find a small starting number that needs more than a hundred steps before it terminates.\n"
      ]
    },
    {
      "cell_type": "markdown",
      "metadata": {
        "id": "9KUxnQfoHfTo"
      },
      "source": [
        "Particular values aside, the interesting question is whether we can prove that this sequence terminates for *all* positive values of ``n``. So far, no one has been able to prove it *or* disprove it!\n",
        "\n",
        "Think carefully about what would be needed for a proof or disproof of the hypothesis *\"All positive integers will eventually converge to 1\"*.  With fast computers we have been able to test every integer up to very large values, and so far, they all eventually end up at 1.  But this doesn't mean that there might not be some as-yet untested number which does not reduce to 1.\n",
        "\n",
        "You'll notice that if you don't stop when you reach one, the sequence gets into its own loop:  1, 4, 2, 1, 4, 2, 1, 4, and so on.  One possibility is that there might be other cycles that we just haven't found.\n",
        "\n"
      ]
    },
    {
      "cell_type": "markdown",
      "metadata": {
        "id": "JTJmDF9PHo8n"
      },
      "source": [
        "### Choosing between `for` and `while`\n",
        "\n",
        "Use a ``for`` loop if you know the maximum number of times that you'll need to execute the body.  For example, if you're traversing a list of elements, or can formulate a suitable call to ``range``, then choose the ``for`` loop.\n",
        "\n",
        "So any problem like \"iterate this weather model run for 1000 cycles\", or \"search this list of words\", \"check all integers up to 10000 to see which are prime\" suggest that a ``for`` loop is best.\n",
        "\n",
        "By contrast, if you are required to repeat some computation until some condition is met, as we did in this 3n + 1 problem, you'll need a ``while`` loop.\n",
        "\n",
        "As we noted before, the first case is called **definite iteration** --- we have some definite bounds for what is needed.   The latter case is called **indefinite iteration** --- we are not sure how many iterations we'll need --- we cannot even establish an upper bound!"
      ]
    },
    {
      "cell_type": "markdown",
      "metadata": {
        "id": "jfgk3jxrIBr9"
      },
      "source": [
        "## Other uses of `while` \n",
        "\n",
        "**Sentinel Values** \n",
        "\n",
        "Indefinite loops are much more common in the real world than definite loops.\n",
        "\n",
        "* If you are selling tickets to an event, you don't know in advance how many tickets you will sell. You keep selling tickets as long as people come to the door and there's room in the hall.\n",
        "* When the baggage crew unloads a plane, they don't know in advance how many suitcases there are. They just keep unloading while there are bags left in the cargo hold. (Why *your* suitcase is always the last one is an entirely different problem.)\n",
        "* When you go through the checkout line at the grocery, the clerks don't know in advance how many items there are. They just keep ringing up items as long as there are more on the conveyor belt.\n",
        "\n",
        "Let's implement the last of these in Python, by asking the user for prices and keeping a running total and count of items. When the last item is entered, the program gives the grand total, number of items, and average price. We'll need these variables:\n",
        "\n",
        "* ``total`` - this will start at zero\n",
        "* ``count`` - the number of items, which also starts at zero\n",
        "* ``moreItems`` - a boolean that tells us whether more items are waiting; this starts as True\n",
        "\n",
        "The pseudocode (code written half in English, half in Python) for the body of the loop looks something like this::\n",
        "\n",
        "    while moreItems\n",
        "        ask for price\n",
        "        add price to total\n",
        "        add one to count\n",
        "\n",
        "This pseudocode has no option to set ``moreItems`` to ``False``, so it would run forever. In a grocery store, there's a little plastic bar that you put after your last item to separate your groceries from those of the person behind you; that's how the clerk knows you have no more items. We don't have a \"little plastic bar\" data type in Python, so we'll do the next best thing: we will use a ``price`` of zero to mean \"this is my last item.\" In this program, zero is a **sentinel value**, a value used to signal the end of the loop. Here's the code:"
      ]
    },
    {
      "cell_type": "code",
      "metadata": {
        "id": "f8MopJ9wIj4n"
      },
      "source": [
        "def checkout():\n",
        "    total = 0\n",
        "    count = 0\n",
        "    moreItems = True\n",
        "    while moreItems:\n",
        "        price = float(input('Enter price of item (0 when done): '))\n",
        "        if price != 0:\n",
        "            count = count + 1\n",
        "            total = total + price\n",
        "            print('Subtotal: $', total)\n",
        "        else:\n",
        "            moreItems = False\n",
        "    average = total / count\n",
        "    print('Total items:', count)\n",
        "    print('Total $', total)\n",
        "    print('Average price per item: $', average)\n",
        "\n",
        "checkout()\n",
        "\n"
      ],
      "execution_count": null,
      "outputs": []
    },
    {
      "cell_type": "markdown",
      "metadata": {
        "id": "csg54DcKJJnn"
      },
      "source": [
        "**Validating Input** \n",
        "\n",
        "You can also use a ``while`` loop when you want to **validate** input;  when you want to make sure the user has entered valid input for a prompt. Let's say you want a function that asks a yes-or-no question. In this case, you want to make sure that the person using your program enters either a Y for yes or N for no (in either upper or lower case). Here is a program that uses a ``while`` loop to keep asking until it receives a valid answer. As a preview of coming attractions, it uses the ``upper()`` method which is described in string method to convert a string to upper case. When you run the following code, try typing something other than Y or N to see how the code reacts:"
      ]
    },
    {
      "cell_type": "code",
      "metadata": {
        "id": "065EQa4NJKqj"
      },
      "source": [
        "def get_yes_or_no(message):\n",
        "    valid_input = False\n",
        "    while not valid_input:\n",
        "        answer = input(message)\n",
        "        answer = answer.upper() # convert to upper case\n",
        "        if answer == 'Y' or answer == 'N':\n",
        "            valid_input = True\n",
        "        else:\n",
        "            print('Please enter Y for yes or N for no.')\n",
        "    return answer\n",
        "\n",
        "response = get_yes_or_no('Do you like lima beans? Y)es or N)o: ')\n",
        "if response == 'Y':\n",
        "    print('Great! They are very healthy.')\n",
        "else:\n",
        "    print('Too bad. If cooked right, they are quite tasty.')\n"
      ],
      "execution_count": null,
      "outputs": []
    },
    {
      "cell_type": "markdown",
      "metadata": {
        "id": "lx0FUbifJVC7"
      },
      "source": [
        "## Simple Tables\n",
        "\n",
        "One of the things loops are good for is generating tabular data.  Before computers were readily available, people had to calculate logarithms, sines and cosines, and other mathematical functions by hand. To make that easier, mathematics books contained long tables listing the values of these functions. Creating the tables was slow and boring, and they tended to be full of errors.\n",
        "\n",
        "When computers appeared on the scene, one of the initial reactions was, *\"This is great! We can use the computers to generate the tables, so there will be no errors.\"* That turned out to be true (mostly) but shortsighted. Soon thereafter, computers and calculators were so pervasive that the tables became obsolete.\n",
        "\n",
        "Well, almost. For some operations, computers use tables of values to get an approximate answer and then perform computations to improve the approximation. In some cases, there have been errors in the underlying tables, most famously in the table the Intel Pentium processor chip used to perform floating-point division.\n",
        "\n",
        "Although a power of 2 table is not as useful as it once was, it still makes a good example of iteration. The following program outputs a sequence of values in the left column and 2 raised to the power of that value in the right column:\n"
      ]
    },
    {
      "cell_type": "code",
      "metadata": {
        "id": "09FNRxJ2JpcH"
      },
      "source": [
        "print(\"n\", '\\t', \"2**n\")     #table column headings\n",
        "print(\"---\", '\\t', \"-----\")\n",
        "\n",
        "for x in range(13):        # generate values for columns\n",
        "    print(x, '\\t', 2 ** x)\n",
        "\n"
      ],
      "execution_count": null,
      "outputs": []
    },
    {
      "cell_type": "markdown",
      "metadata": {
        "id": "UI7p-p0GJ-Bc"
      },
      "source": [
        "The string ``'\\t'`` represents a **tab character**. The backslash character in``'\\t'`` indicates the beginning of an **escape sequence**.  Escape sequences are used to represent invisible characters like tabs and newlines. The sequence ``\\n`` represents a **newline**.\n",
        "\n",
        "An escape sequence can appear anywhere in a string.  In this example, the tab escape sequence is the only thing in the string. How do you think you represent a backslash in a string?\n",
        "\n",
        "As characters and strings are displayed on the screen, an invisible marker called the **cursor** keeps track of where the next character will go. After a ``print`` function is executed, the cursor normally goes to the beginning of the next line.\n",
        "\n",
        "The tab character shifts the cursor to the right until it reaches one of the tab stops. Tabs are useful for making columns of text line up, as in the output of the previous program. Because of the tab characters between the columns, the position of the second column does not depend on the number of digits in the first column.\n"
      ]
    },
    {
      "cell_type": "markdown",
      "metadata": {
        "id": "_ksmL40RlJQU"
      },
      "source": [
        "\n",
        "---\n",
        "\n"
      ]
    },
    {
      "cell_type": "markdown",
      "metadata": {
        "id": "_QIQEywPlLDe"
      },
      "source": [
        "# Answers to Exercises "
      ]
    },
    {
      "cell_type": "markdown",
      "metadata": {
        "id": "trARwXCNlNUl"
      },
      "source": [
        "## <a name=\"ans1\"></a> Exercise 1 \n",
        "\n",
        "Answer:  **A**  ((5*3) &gt; 10) and ((4+6) == 11)\n",
        "\n",
        "Yes, * and + have higher precedence, followed by &gt; and ==, and then the keyword &quot;and&quot;\n",
        "\n",
        "[Back to Exercises](#exer1)"
      ]
    },
    {
      "cell_type": "markdown",
      "metadata": {
        "id": "bHcCou3RqloT"
      },
      "source": [
        "## <a name=\"ans2\"></a> Exercise 2\n",
        "\n",
        "Answer - **B**  \n",
        "Python executes the body of the if-block as well as the statement that follows the if-block.\n",
        "\n",
        "[Back to Exercises](#exer2)"
      ]
    },
    {
      "cell_type": "markdown",
      "metadata": {
        "id": "vrVO033ztQ58"
      },
      "source": [
        "## <a name=\"ans3\"></a> Exercise 3 \n",
        "\n",
        "Answer - **B**, Yes, II will give the same result.\n",
        "\n",
        "[Back to Exercises](#exer3)"
      ]
    },
    {
      "cell_type": "markdown",
      "metadata": {
        "id": "TQO1Lou-v0IB"
      },
      "source": [
        "## <a name=\"ans4\"></a> Exercise 4 \n",
        "\n"
      ]
    },
    {
      "cell_type": "code",
      "metadata": {
        "id": "ovS1m3vKv4kv"
      },
      "source": [
        "def grade(mark):\n",
        "    if mark >= 90:\n",
        "        return \"A\"\n",
        "    else:\n",
        "        if mark >= 80:\n",
        "            return \"B\"\n",
        "        else:\n",
        "            if mark >= 70:\n",
        "                return \"C\"\n",
        "            else:\n",
        "                if mark >= 60:\n",
        "                    return \"D\"\n",
        "                else:\n",
        "                    return \"F\""
      ],
      "execution_count": null,
      "outputs": []
    },
    {
      "cell_type": "code",
      "metadata": {
        "id": "5E-CXkyTlahR"
      },
      "source": [
        "\n",
        "unittest.main(argv=[''], verbosity=2, exit=False)"
      ],
      "execution_count": null,
      "outputs": []
    },
    {
      "cell_type": "markdown",
      "metadata": {
        "id": "E6ilzDuhwzA9"
      },
      "source": [
        "[Back to Exercises](#exer4)"
      ]
    },
    {
      "cell_type": "markdown",
      "metadata": {
        "id": "QtNbeZMv0uQL"
      },
      "source": [
        "## <a name=\"ans5\"></a> Exercise 5 \n",
        "\n",
        "Answer - **B**  \n",
        "Yes, Python will process the items from left to right so the first time the value of number is 5 and the second time it is 4.\n",
        "\n",
        "[Back to Exercises](#exer5)"
      ]
    },
    {
      "cell_type": "markdown",
      "metadata": {
        "id": "HAUTlaP1BWfb"
      },
      "source": [
        "## <a name=\"ans6\"></a> Exercise 6 \n",
        "\n",
        "Answer **C**  \n",
        "range(2, 10, 3)  \n",
        "The first number is the starting point, the second is past the last allowed, and the third is the amount to increment by.\n",
        "\n",
        "[Back to Exercises](#exer6)"
      ]
    },
    {
      "cell_type": "markdown",
      "metadata": {
        "id": "IRADSTALFVNf"
      },
      "source": [
        "## <a name=\"ans7\"></a> Exercise 7 \n",
        "\n",
        "Answer **A**  \n",
        "The loop will run as long as n is positive.  In this case, we can see that n will never become non-positive.\n",
        "\n",
        "[Back to Exercises](#exer7)"
      ]
    },
    {
      "cell_type": "markdown",
      "metadata": {
        "id": "ml4uhev5GFkM"
      },
      "source": [
        "## <a name=\"ans8\"></a> Exercise 8 \n",
        "\n",
        "Answer **C** \n",
        "\n",
        "After n becomes 5 and the test would be False, but the test does not actually come until after the end of the loop - only then stopping execution of the repetition of the loop.\n",
        "\n",
        "[Back to Exercises](#exer8)"
      ]
    },
    {
      "cell_type": "code",
      "metadata": {
        "id": "leSgua-Sw2KJ"
      },
      "source": [
        ""
      ],
      "execution_count": null,
      "outputs": []
    }
  ]
}