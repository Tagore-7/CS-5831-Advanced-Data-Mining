{
  "nbformat": 4,
  "nbformat_minor": 0,
  "metadata": {
    "colab": {
      "name": "Intro.Python.part7.ipynb",
      "provenance": [],
      "collapsed_sections": [],
      "toc_visible": true
    },
    "kernelspec": {
      "name": "python3",
      "display_name": "Python 3"
    }
  },
  "cells": [
    {
      "cell_type": "markdown",
      "metadata": {
        "id": "0SU80btJMPwb"
      },
      "source": [
        "# Lists \n",
        "\n",
        "Materials adapted from *[How to Think Like a Computer Scientist](https://runestone.academy/runestone/static/thinkcspy/index.html)* \n",
        "\n",
        "This colab notebook is paired with the page on Canvas: **7-Lists**\n",
        "\n",
        "A **list** is a sequential collection of Python data values, where each value is identified by an index. The values that make up a list are called its **elements**. Lists are similar to strings, which are ordered collections of characters, except that the elements of a list can have any type and for any one list, the items can be of different types."
      ]
    },
    {
      "cell_type": "markdown",
      "metadata": {
        "id": "hTKbgCPmM5cJ"
      },
      "source": [
        "## List Values \n",
        "\n",
        "There are several ways to create a new list.  The simplest is to enclose the elements in square brackets ( ``[`` and ``]``).\n",
        "\n",
        "```python \n",
        "[10, 20, 30, 40]\n",
        "[\"spam\", \"bungee\", \"oreo\"]\n",
        "```\n",
        "\n",
        "The first example is a list of four integers. The second is a list of three strings. As we said above, the elements of a list don't have to be the same type.  The following list contains a string, a float, an integer, and another list.\n",
        "\n",
        "```python \n",
        "[\"hello\", 2.0, 5, [10, 20]]\n",
        "```\n",
        "\n",
        "A list within another list is said to be **nested** and the inner list is often called a **sublist**. Finally, there is a special list that contains no elements. It is called the empty list and is denoted ``[]``.\n",
        "\n",
        "As you would expect, we can also assign list values to variables and pass lists as parameters to functions.  "
      ]
    },
    {
      "cell_type": "code",
      "metadata": {
        "id": "mBI7RRSuk6sP",
        "outputId": "e2edbf0f-bfea-4f5e-b14c-61d85daac71b",
        "colab": {
          "base_uri": "https://localhost:8080/",
          "height": 68
        }
      },
      "source": [
        "vocabulary = [\"iteration\", \"selection\", \"control\"]\n",
        "numbers = [17, 123]\n",
        "empty = []\n",
        "mixedlist = [\"hello\", 2.0, 5*2, [10, 20]]\n",
        "\n",
        "print(numbers)\n",
        "print(mixedlist)\n",
        "newlist = [ numbers, vocabulary ]\n",
        "print(newlist)"
      ],
      "execution_count": null,
      "outputs": [
        {
          "output_type": "stream",
          "text": [
            "[17, 123]\n",
            "['hello', 2.0, 10, [10, 20]]\n",
            "[[17, 123], ['iteration', 'selection', 'control']]\n"
          ],
          "name": "stdout"
        }
      ]
    },
    {
      "cell_type": "markdown",
      "metadata": {
        "id": "qJVihs2FNkXz"
      },
      "source": [
        "## List Length \n",
        "\n",
        "As with strings, the function ``len`` returns the length of a list (the number of items in the list).  However, since lists can have items which are themselves lists, it important to note that ``len`` only returns the top-most length.  In other words, sublists are considered to be a single item when counting the length of the list."
      ]
    },
    {
      "cell_type": "code",
      "metadata": {
        "id": "-Zyw8g05M9Ir",
        "outputId": "fc410008-1c99-445f-84d3-eeed72f4b2a7",
        "colab": {
          "base_uri": "https://localhost:8080/",
          "height": 51
        }
      },
      "source": [
        "alist =  [\"hello\", 2.0, 5, [10, 20]]\n",
        "print(len(alist))\n",
        "print(len(['spam!', 1, ['Brie', 'Roquefort', 'Pol le Veq'], [1, 2, 3]]))"
      ],
      "execution_count": null,
      "outputs": [
        {
          "output_type": "stream",
          "text": [
            "4\n",
            "4\n"
          ],
          "name": "stdout"
        }
      ]
    },
    {
      "cell_type": "markdown",
      "metadata": {
        "id": "9yHPtkohNuv1"
      },
      "source": [
        "### <a name=\"exer1\"></a>Exercise 1 \n",
        "\n",
        "What is printed by the following statements? \n",
        "\n",
        "(1)   \n",
        "```python\n",
        "alist = [3, 67, \"cat\", 3.14, False]\n",
        "print(len(alist))\n",
        "```\n",
        "\n",
        "* A. 4 \n",
        "* B. 5 \n",
        "\n",
        "(2)   \n",
        "```python \n",
        "alist = [3, 67, \"cat\", [56, 57, \"dog\"], [ ], 3.14, False]\n",
        "print(len(alist))\n",
        "```\n",
        "\n",
        "* A. 7 \n",
        "* B. 8 \n",
        "\n",
        "[exercise 1 answers](#ans1)"
      ]
    },
    {
      "cell_type": "markdown",
      "metadata": {
        "id": "faXj_IQAO6ZQ"
      },
      "source": [
        "## Accessing Elements \n",
        "\n",
        "The syntax for accessing the elements of a list is the same as the syntax for accessing the characters of a string.  We use the index operator ( ``[]`` -- not to be confused with an empty list). The expression inside the brackets specifies the index. Remember that the indices start at 0.  Any integer expression can be used as an index and as with strings, negative index values will locate items from the right instead of from the left."
      ]
    },
    {
      "cell_type": "code",
      "metadata": {
        "id": "nH9fMSQrO7VA",
        "outputId": "1d50c2b6-2d66-4f74-fe8a-cfc310b69f6d",
        "colab": {
          "base_uri": "https://localhost:8080/",
          "height": 85
        }
      },
      "source": [
        "numbers = [17, 123, 87, 34, 66, 8398, 44]\n",
        "print(numbers[2])\n",
        "print(numbers[9 - 8])\n",
        "print(numbers[-2])\n",
        "print(numbers[len(numbers) - 1])"
      ],
      "execution_count": null,
      "outputs": [
        {
          "output_type": "stream",
          "text": [
            "87\n",
            "123\n",
            "8398\n",
            "44\n"
          ],
          "name": "stdout"
        }
      ]
    },
    {
      "cell_type": "markdown",
      "metadata": {
        "id": "1wVAvWMtO9lc"
      },
      "source": [
        "### <a name=\"exer2\"></a> Exercise 2\n",
        "\n",
        "What is printed by the following statements? \n",
        "\n",
        "```python \n",
        "alist = [3, 67, \"cat\", [56, 57, \"dog\"], [ ], 3.14, False]\n",
        "print(alist[5]\n",
        "```\n",
        "\n",
        "* A. [] \n",
        "* B. 3.14\n",
        "* C. False \n",
        "\n",
        "[exercise 2 answers](#ans2)"
      ]
    },
    {
      "cell_type": "markdown",
      "metadata": {
        "id": "HEa_peE7PMhG"
      },
      "source": [
        "### Exercise 3 \n",
        "\n",
        "What is printed by the following statements? \n",
        "\n",
        "```python \n",
        "alist = [3, 67, \"cat\", [56, 57, \"dog\"], [ ], 3.14, False]\n",
        "print(alist[2][0])\n",
        "```\n",
        "\n",
        "* A. 56 \n",
        "* B. c\n",
        "* C. cat \n",
        "* D. Error, you can not have two index values unless you are slicing. \n",
        "\n",
        "[exercise 3 answers](#ans3)"
      ]
    },
    {
      "cell_type": "markdown",
      "metadata": {
        "id": "bQhZDYagQDvT"
      },
      "source": [
        "## List Membership \n",
        "\n",
        "``in`` and ``not in`` are boolean operators that test membership in a sequence. We used them previously with strings and they also work here."
      ]
    },
    {
      "cell_type": "code",
      "metadata": {
        "id": "nR_CWafnNpLr",
        "outputId": "44f14654-e3ed-434e-ff49-009ae21379a6",
        "colab": {
          "base_uri": "https://localhost:8080/",
          "height": 51
        }
      },
      "source": [
        "fruit = [\"apple\", \"orange\", \"banana\", \"cherry\"]\n",
        "\n",
        "print(\"apple\" in fruit)\n",
        "print(\"pear\" in fruit)"
      ],
      "execution_count": null,
      "outputs": [
        {
          "output_type": "stream",
          "text": [
            "True\n",
            "False\n"
          ],
          "name": "stdout"
        }
      ]
    },
    {
      "cell_type": "markdown",
      "metadata": {
        "id": "ib34nxc0RW01"
      },
      "source": [
        "## Concatenation and Repetition \n",
        "\n",
        "Again, as with strings, the ``+`` operator concatenates lists.   Similarly, the ``*`` operator repeats the items in a list a given number of times."
      ]
    },
    {
      "cell_type": "code",
      "metadata": {
        "id": "X6uppJZ7RX2v"
      },
      "source": [
        "fruit = [\"apple\", \"orange\", \"banana\", \"cherry\"]\n",
        "print([1, 2] + [3, 4])\n",
        "print(fruit + [6, 7, 8, 9])\n",
        "\n",
        "print([0] * 4)\n",
        "print([1, 2, [\"hello\", \"goodbye\"]] * 2)"
      ],
      "execution_count": null,
      "outputs": []
    },
    {
      "cell_type": "markdown",
      "metadata": {
        "id": "0q16jl08RZvw"
      },
      "source": [
        "It is important to see that these operators create new lists from the elements of the operand lists.  If you concatenate a list with 2 items and a list with 4 items, you will get a new list with 6 items (not a list with two sublists).  Similarly, repetition of a list of 2 items 4 times will give a list with 8 items.\n",
        "\n",
        "In Python, every object has a unique identification tag.  Likewise, there is a built-in function that can be called on any object to return its unique id.  The function is appropriately called ``id`` and takes a single parameter, the object that you are interested in knowing about.  You can see in the example below that a real id is usually a very large integer value (corresponding to an address in memory)."
      ]
    },
    {
      "cell_type": "code",
      "metadata": {
        "id": "_xARtXJTRcVH",
        "outputId": "32282da9-37b1-437f-ce96-aedbc24d691d",
        "colab": {
          "base_uri": "https://localhost:8080/",
          "height": 34
        }
      },
      "source": [
        "alist = [4, 5, 6]\n",
        "id(alist)"
      ],
      "execution_count": null,
      "outputs": [
        {
          "output_type": "execute_result",
          "data": {
            "text/plain": [
              "140538856801992"
            ]
          },
          "metadata": {
            "tags": []
          },
          "execution_count": 5
        }
      ]
    },
    {
      "cell_type": "markdown",
      "metadata": {
        "id": "KkNQRlViSTRa"
      },
      "source": [
        "### <a name=\"exer4\"></a>Exercise 4 \n",
        "\n",
        "What is printed by the following statements? \n",
        "\n",
        "```python \n",
        "alist = [1, 3, 5]\n",
        "blist = [2, 4, 6] \n",
        "print(alist + blist)\n",
        "```\n",
        "\n",
        "* A. 6 \n",
        "* B. [1, 2, 3, 4, 5, 6]\n",
        "* C. [1, 3, 5, 2, 4, 6]\n",
        "* D. [3, 7, 11]\n",
        "\n",
        "[exercise 4 answers](#ans4)"
      ]
    },
    {
      "cell_type": "markdown",
      "metadata": {
        "id": "3dfXcjXoSeKb"
      },
      "source": [
        "### <a name=\"exer5\"></a>Exercise 5 \n",
        "\n",
        "What is printed by the following statements? \n",
        "\n",
        "```python \n",
        "alist = [1, 3, 5]\n",
        "print(alist * 3)\n",
        "```\n",
        "\n",
        "* A. 9 \n",
        "* B. [3, 9, 15]\n",
        "* C. [1, 1, 1, 3, 3, 3, 5, 5, 5]\n",
        "* D. [1, 3, 5, 1, 3, 5, 1, 3, 5]\n",
        "\n",
        "[exercise 5 answers](#ans5)"
      ]
    },
    {
      "cell_type": "markdown",
      "metadata": {
        "id": "KMvJU_-PTyDg"
      },
      "source": [
        "## List Slices \n",
        "\n",
        "The slice operation we saw with strings also work on lists.  Remember that the first index is the starting point for the slice and the second number is one index past the end of the slice (up to but not including that element).  Recall also that if you omit the first index (before the colon), the slice starts at the beginning of the sequence. If you omit the second index, the slice goes to the end of the sequence."
      ]
    },
    {
      "cell_type": "code",
      "metadata": {
        "id": "v-lFBtJfUIpR",
        "outputId": "2dc76c3f-2369-4229-cd7f-a9b5c6afc05f",
        "colab": {
          "base_uri": "https://localhost:8080/",
          "height": 85
        }
      },
      "source": [
        "a_list = ['a', 'b', 'c', 'd', 'e', 'f']\n",
        "print(a_list[1:3])\n",
        "print(a_list[:4])\n",
        "print(a_list[3:])\n",
        "print(a_list[:])"
      ],
      "execution_count": null,
      "outputs": [
        {
          "output_type": "stream",
          "text": [
            "['b', 'c']\n",
            "['a', 'b', 'c', 'd']\n",
            "['d', 'e', 'f']\n",
            "['a', 'b', 'c', 'd', 'e', 'f']\n"
          ],
          "name": "stdout"
        }
      ]
    },
    {
      "cell_type": "markdown",
      "metadata": {
        "id": "JokwOlxwUZZM"
      },
      "source": [
        "## List Slices \n",
        "\n",
        "The slice operation we saw with strings also work on lists.  Remember that the first index is the starting point for the slice and the second number is one index past the end of the slice (up to but not including that element).  Recall also that if you omit the first index (before the colon), the slice starts at the beginning of the sequence. If you omit the second index, the slice goes to the end of the sequence."
      ]
    },
    {
      "cell_type": "code",
      "metadata": {
        "id": "h9UutJGOUcL8",
        "outputId": "6c2c3550-bb29-44e7-e21b-4bbf1ae38299",
        "colab": {
          "base_uri": "https://localhost:8080/",
          "height": 85
        }
      },
      "source": [
        "a_list = ['a', 'b', 'c', 'd', 'e', 'f']\n",
        "print(a_list[1:3])\n",
        "print(a_list[:4])\n",
        "print(a_list[3:])\n",
        "print(a_list[:])"
      ],
      "execution_count": null,
      "outputs": [
        {
          "output_type": "stream",
          "text": [
            "['b', 'c']\n",
            "['a', 'b', 'c', 'd']\n",
            "['d', 'e', 'f']\n",
            "['a', 'b', 'c', 'd', 'e', 'f']\n"
          ],
          "name": "stdout"
        }
      ]
    },
    {
      "cell_type": "markdown",
      "metadata": {
        "id": "ofg3qm1JUe9o"
      },
      "source": [
        "## Lists are Mutable \n",
        "\n",
        "Unlike strings, lists are **mutable**.  This means we can change an item in a list by accessing it directly as part of the assignment statement. Using the indexing operator (square brackets) on the left side of an assignment, we can update one of the list items."
      ]
    },
    {
      "cell_type": "code",
      "metadata": {
        "id": "379U0zsxUyDz",
        "outputId": "d2e6361d-8182-48ed-96dd-396305146b14",
        "colab": {
          "base_uri": "https://localhost:8080/",
          "height": 51
        }
      },
      "source": [
        "fruit = [\"banana\", \"apple\", \"cherry\"]\n",
        "print(fruit)\n",
        "\n",
        "fruit[0] = \"pear\"\n",
        "fruit[-1] = \"orange\"\n",
        "print(fruit)"
      ],
      "execution_count": null,
      "outputs": [
        {
          "output_type": "stream",
          "text": [
            "['banana', 'apple', 'cherry']\n",
            "['pear', 'apple', 'orange']\n"
          ],
          "name": "stdout"
        }
      ]
    },
    {
      "cell_type": "markdown",
      "metadata": {
        "id": "em9rcHQ5U0Cf"
      },
      "source": [
        "An assignment to an element of a list is called **item assignment**. Item assignment does not work for strings.  Recall that strings are immutable.\n",
        "\n",
        "By combining assignment with the slice operator we can update several elements at once."
      ]
    },
    {
      "cell_type": "code",
      "metadata": {
        "id": "uNywmTURVtln",
        "outputId": "207f99b1-ae4e-4989-98e8-a8cca23c18f2",
        "colab": {
          "base_uri": "https://localhost:8080/",
          "height": 34
        }
      },
      "source": [
        "alist = ['a', 'b', 'c', 'd', 'e', 'f']\n",
        "alist[1:3] = ['x', 'y']\n",
        "print(alist)"
      ],
      "execution_count": null,
      "outputs": [
        {
          "output_type": "stream",
          "text": [
            "['a', 'x', 'y', 'd', 'e', 'f']\n"
          ],
          "name": "stdout"
        }
      ]
    },
    {
      "cell_type": "markdown",
      "metadata": {
        "id": "BLrsgDqmV8NO"
      },
      "source": [
        "We can also remove elements from a list by assigning the empty list to them.\n"
      ]
    },
    {
      "cell_type": "code",
      "metadata": {
        "id": "tOstBZ6zWKOr",
        "outputId": "74f29c3d-727f-47fa-b587-e816db2945dc",
        "colab": {
          "base_uri": "https://localhost:8080/",
          "height": 34
        }
      },
      "source": [
        "alist = ['a', 'b', 'c', 'd', 'e', 'f']\n",
        "alist[1:3] = []\n",
        "print(alist)"
      ],
      "execution_count": null,
      "outputs": [
        {
          "output_type": "stream",
          "text": [
            "['a', 'd', 'e', 'f']\n"
          ],
          "name": "stdout"
        }
      ]
    },
    {
      "cell_type": "markdown",
      "metadata": {
        "id": "aITI1xmRWM7z"
      },
      "source": [
        "We can even insert elements into a list by squeezing them into an empty slice at the desired location."
      ]
    },
    {
      "cell_type": "code",
      "metadata": {
        "id": "sJ6QZnhPWOzr",
        "outputId": "a45088c0-6f58-46d8-8150-771f18ec08a6",
        "colab": {
          "base_uri": "https://localhost:8080/",
          "height": 51
        }
      },
      "source": [
        "alist = ['a', 'd', 'f']\n",
        "alist[1:1] = ['b', 'c']\n",
        "print(alist)\n",
        "alist[4:4] = ['e']\n",
        "print(alist)"
      ],
      "execution_count": null,
      "outputs": [
        {
          "output_type": "stream",
          "text": [
            "['a', 'b', 'c', 'd', 'f']\n",
            "['a', 'b', 'c', 'd', 'e', 'f']\n"
          ],
          "name": "stdout"
        }
      ]
    },
    {
      "cell_type": "markdown",
      "metadata": {
        "id": "4ez8oSihWsO8"
      },
      "source": [
        "### <a name=\"exer6\"></a>Exercise 6 \n",
        "\n",
        "What is printed by the following statements? \n",
        "\n",
        "```python \n",
        "alist = [4, 2, 8, 6, 5]\n",
        "alist[2] = True\n",
        "print(alist)\n",
        "```\n",
        "\n",
        "* A. [4, 2, True, 8, 6, 5]\n",
        "* B. [4, 2, True, 6, 5]\n",
        "* C. Error, it is illegal to assign \n",
        "\n",
        "[exercise 6 answer](#ans6)"
      ]
    },
    {
      "cell_type": "markdown",
      "metadata": {
        "id": "za_8v2arXZyC"
      },
      "source": [
        "## List Deletion \n",
        "\n",
        "Using slices to delete list elements can be awkward and therefore error-prone. Python provides an alternative that is more readable. The ``del`` statement removes an element from a list by using its position.\n"
      ]
    },
    {
      "cell_type": "code",
      "metadata": {
        "id": "6-pKsR1AXrYq",
        "outputId": "108e2556-0c75-40e8-c8b3-bd8e7a045f1f",
        "colab": {
          "base_uri": "https://localhost:8080/",
          "height": 51
        }
      },
      "source": [
        "a = ['one', 'two', 'three']\n",
        "del a[1]\n",
        "print(a)\n",
        "\n",
        "alist = ['a', 'b', 'c', 'd', 'e', 'f']\n",
        "del alist[1:5]\n",
        "print(alist)"
      ],
      "execution_count": null,
      "outputs": [
        {
          "output_type": "stream",
          "text": [
            "['one', 'three']\n",
            "['a', 'f']\n"
          ],
          "name": "stdout"
        }
      ]
    },
    {
      "cell_type": "markdown",
      "metadata": {
        "id": "Yrb-KpglXu1T"
      },
      "source": [
        "As you might expect, ``del`` handles negative indices and causes a runtime error if the index is out of range. In addition, you can use a slice as an index for ``del``. As usual, slices select all the elements up to, but not including, the second index, but do not cause runtime errors if the index limits go too far."
      ]
    },
    {
      "cell_type": "markdown",
      "metadata": {
        "id": "jw-m8gSVbDOZ"
      },
      "source": [
        "## Objects and References \n",
        "\n",
        "If we execute these assignment statements,\n",
        "\n",
        "```python \n",
        "a = \"banana\"\n",
        "b = \"banana\"\n",
        "```\n",
        "\n",
        "we know that ``a`` and ``b`` will refer to a string with the letters ``\"banana\"``. But we don't know yet whether they point to the *same* string.\n",
        "\n",
        "There are two possible ways the Python interpreter could arrange its internal states:\n",
        "\n",
        "<img src=\"https://pages.mtu.edu/~lebrown/CADeT/Intro2Python/refdiag1.png\">\n",
        "\n",
        "or \n",
        "\n",
        "<img src=\"https://pages.mtu.edu/~lebrown/CADeT/Intro2Python/refdiag2.png\">\n",
        "\n",
        "In one case, ``a`` and ``b`` refer to two different string objects that have the same value. In the second case, they refer to the same object. Remember that an object is something a variable can refer to.\n",
        "\n",
        "We already know that objects can be identified using their unique identifier.  We can also test whether two names refer to the same object using the *is* operator.  The *is* operator will return true if the two references are to the same object.  In other words, the references are the same.  Try our example from above."
      ]
    },
    {
      "cell_type": "code",
      "metadata": {
        "id": "VvsAtbT3blhS",
        "outputId": "4b560af4-fe7a-4306-dc27-ffb4797af55f",
        "colab": {
          "base_uri": "https://localhost:8080/",
          "height": 34
        }
      },
      "source": [
        "a = \"banana\"\n",
        "b = \"banana\"\n",
        "\n",
        "print(a is b)"
      ],
      "execution_count": null,
      "outputs": [
        {
          "output_type": "stream",
          "text": [
            "True\n"
          ],
          "name": "stdout"
        }
      ]
    },
    {
      "cell_type": "markdown",
      "metadata": {
        "id": "ZXlv-TyQcGIW"
      },
      "source": [
        "The answer is ``True``.  This tells us that both ``a`` and ``b`` refer to the same object, and that it is the second of the two reference diagrams that describes the relationship. Since strings are *immutable*, Python can optimize resources by making two names that refer to the same string literal value refer to the same object.\n",
        "\n",
        "This is not the case with lists.  Consider the following example.  Here, ``a`` and ``b`` refer to two different lists, each of which happens to have the same element values.\n"
      ]
    },
    {
      "cell_type": "code",
      "metadata": {
        "id": "sk-ZjfUMcG7Q"
      },
      "source": [
        "a = [81, 82, 83]\n",
        "b = [81, 82, 83]\n",
        "\n",
        "print(a is b)\n",
        "\n",
        "print(a == b)"
      ],
      "execution_count": null,
      "outputs": []
    },
    {
      "cell_type": "markdown",
      "metadata": {
        "id": "natj8vazcI21"
      },
      "source": [
        "The reference diagram for this example looks like this:\n",
        "\n",
        "<img src=\"https://pages.mtu.edu/~lebrown/CADeT/Intro2Python/refdiag3.png\">\n",
        "\n",
        "``a`` and ``b`` have the same value but do not refer to the same object.\n",
        "\n",
        "There is one other important thing to notice about this reference diagram.  The variable ``a`` is a reference to a **collection of references**.  Those references actually refer to the integer values in the list.  In other words, a list is a collection of references to objects.  Interestingly, even though ``a`` and ``b`` are two different lists (two different collections of references), the integer object ``81`` is shared by both.  Like strings, integers are also immutable so Python optimizes and lets everyone share the same object for some commonly used small integers.\n"
      ]
    },
    {
      "cell_type": "markdown",
      "metadata": {
        "id": "GUo6VR3fcWDo"
      },
      "source": [
        "## Aliasing \n",
        "\n",
        "Since variables refer to objects, if we assign one variable to another, both variables refer to the same object:"
      ]
    },
    {
      "cell_type": "code",
      "metadata": {
        "id": "TIKrFcoHckdj",
        "outputId": "b8b66dee-961d-468e-eeca-f817d87969a2",
        "colab": {
          "base_uri": "https://localhost:8080/",
          "height": 34
        }
      },
      "source": [
        "a = [81, 82, 83]\n",
        "b = a\n",
        "print(a is b)"
      ],
      "execution_count": null,
      "outputs": [
        {
          "output_type": "stream",
          "text": [
            "True\n"
          ],
          "name": "stdout"
        }
      ]
    },
    {
      "cell_type": "markdown",
      "metadata": {
        "id": "4W996WiOeUKF"
      },
      "source": [
        "In this case, the reference diagram looks like this:\n",
        "\n",
        "<img src=\"https://pages.mtu.edu/~lebrown/CADeT/Intro2Python/refdiag4.png\">\n",
        "\n",
        "Because the same list has two different names, ``a`` and ``b``, we say that it\n",
        "is **aliased**. Changes made with one alias affect the other. \n",
        "\n",
        "Although this behavior can be useful, it is sometimes unexpected or undesirable. In general, it is safer to avoid aliasing when you are working with mutable objects. Of course, for immutable objects, there’s no problem. That’s why Python is free to alias strings and integers when it sees an opportunity to economize."
      ]
    },
    {
      "cell_type": "markdown",
      "metadata": {
        "id": "xCZw9GqeefsX"
      },
      "source": [
        "### <a name=\"exer7\"></a>Exercise 7 \n",
        "\n",
        "What is printed by the following statements? \n",
        "\n",
        "```python \n",
        "alist = [4, 2, 8, 6, 5]\n",
        "blist = alist\n",
        "blist[3] = 999\n",
        "print(alist)\n",
        "```\n",
        "\n",
        "* A. [4, 2, 8, 6, 5]\n",
        "* B. [4, 2, 8, 999, 5]\n",
        "\n",
        "[exercise 7 answers](#ans7)"
      ]
    },
    {
      "cell_type": "markdown",
      "metadata": {
        "id": "zyX6rIaZfAv6"
      },
      "source": [
        "## Cloning Lists \n",
        "\n",
        "If we want to modify a list and also keep a copy of the original, we need to be able to make a copy of the list itself, not just the reference. This process is sometimes called **cloning**, to avoid the ambiguity of the word copy.\n",
        "\n",
        "The easiest way to clone a list is to use the slice operator.\n",
        "\n",
        "Taking any slice of ``a`` creates a new list. In this case the slice happens to consist of the whole list."
      ]
    },
    {
      "cell_type": "code",
      "metadata": {
        "id": "ZqaJDcszfMQW"
      },
      "source": [
        "a = [81, 82, 83]\n",
        "\n",
        "b = a[:]       # make a clone using slice\n",
        "print(a == b)\n",
        "print(a is b)\n",
        "\n",
        "b[0] = 5\n",
        "\n",
        "print(a)\n",
        "print(b)"
      ],
      "execution_count": null,
      "outputs": []
    },
    {
      "cell_type": "markdown",
      "metadata": {
        "id": "V0h20Iq_fPU8"
      },
      "source": [
        "Now we are free to make changes to ``b`` without worrying about ``a``.  \n"
      ]
    },
    {
      "cell_type": "markdown",
      "metadata": {
        "id": "EDQjspTWhyTp"
      },
      "source": [
        "## Repetition and References \n",
        "\n",
        "We have already seen the repetition operator working on strings as well as lists. For example,"
      ]
    },
    {
      "cell_type": "code",
      "metadata": {
        "id": "mKb03aXFiCEN",
        "outputId": "ab634561-187b-4dfe-d537-4a015e8faa68",
        "colab": {
          "base_uri": "https://localhost:8080/",
          "height": 34
        }
      },
      "source": [
        "origlist = [45, 76, 34, 55]\n",
        "print(origlist * 3)"
      ],
      "execution_count": null,
      "outputs": [
        {
          "output_type": "stream",
          "text": [
            "[45, 76, 34, 55, 45, 76, 34, 55, 45, 76, 34, 55]\n"
          ],
          "name": "stdout"
        }
      ]
    },
    {
      "cell_type": "markdown",
      "metadata": {
        "id": "KLX0RyP0iI3a"
      },
      "source": [
        "With a list, the repetition operator creates copies of the references.  Although this may seem simple enough, when we allow a list to refer to another list, a subtle problem can arise.\n",
        "\n",
        "Consider the following extension on the previous example."
      ]
    },
    {
      "cell_type": "code",
      "metadata": {
        "id": "BvZyQuMOeeo_"
      },
      "source": [
        "origlist = [45, 76, 34, 55]\n",
        "print(origlist * 3)\n",
        "\n",
        "newlist = [origlist] * 3\n",
        "\n",
        "print(newlist)"
      ],
      "execution_count": null,
      "outputs": []
    },
    {
      "cell_type": "markdown",
      "metadata": {
        "id": "MpfiHja7iRl4"
      },
      "source": [
        "``newlist`` is a list of three references to ``origlist`` that were created by the repetition operator.  The reference diagram is shown below.\n",
        "\n",
        "<img src=\"https://pages.mtu.edu/~lebrown/CADeT/Intro2Python/refrep1.png\">\n",
        "\n",
        "Now, what happens if we modify a value in ``origlist``."
      ]
    },
    {
      "cell_type": "code",
      "metadata": {
        "id": "g3oTlv7xiQhM",
        "outputId": "bed48713-f5d2-4605-844d-87e071f3ceed",
        "colab": {
          "base_uri": "https://localhost:8080/",
          "height": 51
        }
      },
      "source": [
        "origlist = [45, 76, 34, 55]\n",
        "\n",
        "newlist = [origlist] * 3\n",
        "\n",
        "print(newlist)\n",
        "\n",
        "origlist[1] = 99\n",
        "\n",
        "print(newlist)"
      ],
      "execution_count": null,
      "outputs": [
        {
          "output_type": "stream",
          "text": [
            "[[45, 76, 34, 55], [45, 76, 34, 55], [45, 76, 34, 55]]\n",
            "[[45, 99, 34, 55], [45, 99, 34, 55], [45, 99, 34, 55]]\n"
          ],
          "name": "stdout"
        }
      ]
    },
    {
      "cell_type": "markdown",
      "metadata": {
        "id": "qISqljYyjGRf"
      },
      "source": [
        "``newlist`` shows the change in three places.  This can easily be seen by noting that in the reference diagram, there is only one ``origlist``, so any changes to it appear in all three references from ``newlist``.\n",
        "\n",
        "<img src=\"https://pages.mtu.edu/~lebrown/CADeT/Intro2Python/refrep2.png\">\n"
      ]
    },
    {
      "cell_type": "markdown",
      "metadata": {
        "id": "5u8EmoiVkS94"
      },
      "source": [
        "### <a name=\"exer8\"></a> Exercise 8 \n",
        "\n",
        "What is printed by the following statements?\n",
        "\n",
        "```python \n",
        "alist = [4, 2, 8, 6, 5]\n",
        "blist = alist * 2\n",
        "blist[3] = 999\n",
        "print(alist)\n",
        "```\n",
        "\n",
        "* A. [4, 2, 8, 999, 5, 4, 2, 8, 6, 5] \n",
        "* B. [4, 2, 8, 999, 5] \n",
        "* C. [4, 2, 8, 6, 5]\n",
        "\n",
        "[exercise 8 answer](#ans8)"
      ]
    },
    {
      "cell_type": "markdown",
      "metadata": {
        "id": "pv_Clm9nkz8Y"
      },
      "source": [
        "### <a name=\"exer9\"></a> Exercise 9 \n",
        "\n",
        "What is printed by the following statements? \n",
        "\n",
        "```python\n",
        "alist = [4, 2, 8, 6, 5]\n",
        "blist = [alist] * 2\n",
        "alist[3] = 999\n",
        "print(blist)\n",
        "``` \n",
        "\n",
        "* A.  [4, 2, 8, 999, 5, 4, 2, 8, 999, 5]\n",
        "* B.  [[4, 2, 8, 999, 5], [4, 2, 8, 999, 5]]\n",
        "* C.  [4, 2, 8, 6, 5]\n",
        "* D.  [[4, 2, 8, 999, 5], [4, 2, 8, 6, 5]]\n",
        "\n",
        "[exercise 9 answer](#ans9)"
      ]
    },
    {
      "cell_type": "markdown",
      "metadata": {
        "id": "29s-0AYClptS"
      },
      "source": [
        "## List Methods \n",
        "\n",
        "The dot operator can also be used to access built-in methods of list objects.  ``append`` is a list method which adds the argument passed to it to the end of the list. Continuing with this example, we show several other list methods.  Many of them are easy to understand. "
      ]
    },
    {
      "cell_type": "code",
      "metadata": {
        "id": "2cHK-gQ7l2mI",
        "outputId": "2b339a2b-c13e-4d5a-c01b-41fe24bbf076",
        "colab": {
          "base_uri": "https://localhost:8080/",
          "height": 187
        }
      },
      "source": [
        "mylist = []\n",
        "mylist.append(5)\n",
        "mylist.append(27)\n",
        "mylist.append(3)\n",
        "mylist.append(12)\n",
        "print(mylist)\n",
        "\n",
        "mylist.insert(1, 12)\n",
        "print(mylist)\n",
        "print(mylist.count(12))\n",
        "\n",
        "print(mylist.index(3))\n",
        "print(mylist.count(5))\n",
        "\n",
        "mylist.reverse()\n",
        "print(mylist)\n",
        "\n",
        "mylist.sort()\n",
        "print(mylist)\n",
        "\n",
        "mylist.remove(5)\n",
        "print(mylist)\n",
        "\n",
        "lastitem = mylist.pop()\n",
        "print(lastitem)\n",
        "print(mylist)"
      ],
      "execution_count": null,
      "outputs": [
        {
          "output_type": "stream",
          "text": [
            "[5, 27, 3, 12]\n",
            "[5, 12, 27, 3, 12]\n",
            "2\n",
            "3\n",
            "1\n",
            "[12, 3, 27, 12, 5]\n",
            "[3, 5, 12, 12, 27]\n",
            "[3, 12, 12, 27]\n",
            "27\n",
            "[3, 12, 12]\n"
          ],
          "name": "stdout"
        }
      ]
    },
    {
      "cell_type": "markdown",
      "metadata": {
        "id": "kEQdbaqLl5f2"
      },
      "source": [
        "There are two ways to use the ``pop`` method.  The first, with no parameter, will remove and return the last item of the list.  If you provide a parameter for the position, ``pop`` will remove and return the item at that position.  Either way the list is changed.\n",
        "\n",
        "The following table provides a summary of the list methods shown above.  The column labeled `result` gives an explanation as to what the return value is as it relates to the new value of the list.  The word **mutator** means that the list is changed by the method but nothing is returned (actually ``None`` is returned).  A **hybrid** method is one that not only changes the list but also returns a value as its result.  Finally, if the result is simply a return, then the list is unchanged by the method.\n",
        "\n",
        "Be sure to experiment with these methods to gain a better understanding of what they do.\n",
        "\n",
        "\n",
        "| Method    |  Parameters     |  Result     |  Description  |\n",
        "|-----------|-----------------|-------------|---------------|\n",
        "| append    | item            | mutator     |  Adds a new item to the end of a list |\n",
        "| insert    | position, item  | mutator     |  Inserts a new item at the position given |\n",
        "| pop       | none            | hybrid      | Removes and returns the last item |\n",
        "| pop       | position        | hybrid      | Removes and returns the item at position |\n",
        "| sort      | none            | mutator     | Modifies a list to be sorted |\n",
        "| reverse   | none            | mutator     | Modifies a list to be in reverse order |\n",
        "| index     | item            | return idx  | Returns the position of first occurrence of item |\n",
        "| count     | item            | return ct   | Returns the number of occurrences of item |\n",
        "| remove    | item            | mutator     | Removes the first occurrence of item |\n",
        "\n",
        "\n",
        "\n",
        "\n",
        "Details for these and others can be found in the [Python Documentation](http://docs.python.org/py3k/library/stdtypes.html#sequence-types-str-bytes-bytearray-list-tuple-range).\n",
        "\n",
        "It is important to remember that methods like ``append``, ``sort``,  and ``reverse`` all return ``None``.  This means that re-assigning ``mylist`` to the result of sorting ``mylist`` will result in losing the entire list.  Calls like these will likely never appear as part of an assignment statement (see line 8 below)."
      ]
    },
    {
      "cell_type": "code",
      "metadata": {
        "id": "PwIXQX_em3C3"
      },
      "source": [
        "mylist = []\n",
        "mylist.append(5)\n",
        "mylist.append(27)\n",
        "mylist.append(3)\n",
        "mylist.append(12)\n",
        "print(mylist)\n",
        "\n",
        "mylist = mylist.sort()   #probably an error\n",
        "print(mylist)"
      ],
      "execution_count": null,
      "outputs": []
    },
    {
      "cell_type": "markdown",
      "metadata": {
        "id": "7e1iVmLOm-VP"
      },
      "source": [
        "### Examples \n",
        "\n",
        "Play around with using several list methods. "
      ]
    },
    {
      "cell_type": "code",
      "metadata": {
        "id": "vEgdCypgnErn"
      },
      "source": [
        "alist = [4, 2, 8, 6, 5]\n",
        "alist.append(True)\n",
        "alist.append(False)\n",
        "print(alist)"
      ],
      "execution_count": null,
      "outputs": []
    },
    {
      "cell_type": "code",
      "metadata": {
        "id": "iVcbSaSFnGTx"
      },
      "source": [
        "alist = [4, 2, 8, 6, 5]\n",
        "alist.insert(2, True)\n",
        "alist.insert(0, False)\n",
        "print(alist)"
      ],
      "execution_count": null,
      "outputs": []
    },
    {
      "cell_type": "code",
      "metadata": {
        "id": "-UyHIEnEnIVZ"
      },
      "source": [
        "alist = [4, 2, 8, 6, 5]\n",
        "temp = alist.pop(2)\n",
        "temp = alist.pop()\n",
        "print(alist)"
      ],
      "execution_count": null,
      "outputs": []
    },
    {
      "cell_type": "code",
      "metadata": {
        "id": "PwC_RJdEnKYU"
      },
      "source": [
        "alist = [4, 2, 8, 6, 5]\n",
        "alist = alist.pop(0)\n",
        "print(alist)"
      ],
      "execution_count": null,
      "outputs": []
    },
    {
      "cell_type": "markdown",
      "metadata": {
        "id": "u5wuSz73nXgz"
      },
      "source": [
        "## Lists and `for` loops \n",
        "\n",
        "It is also possible to perform **list traversal** using iteration by item as well as iteration by index.\n",
        "\n",
        "\n"
      ]
    },
    {
      "cell_type": "code",
      "metadata": {
        "id": "4LfYKPV9n-HY",
        "outputId": "58f2585c-9144-4aad-c630-f4d174519adb",
        "colab": {
          "base_uri": "https://localhost:8080/",
          "height": 85
        }
      },
      "source": [
        "fruits = [\"apple\", \"orange\", \"banana\", \"cherry\"]\n",
        "\n",
        "for afruit in fruits:     # by item\n",
        "    print(afruit)"
      ],
      "execution_count": null,
      "outputs": [
        {
          "output_type": "stream",
          "text": [
            "apple\n",
            "orange\n",
            "banana\n",
            "cherry\n"
          ],
          "name": "stdout"
        }
      ]
    },
    {
      "cell_type": "markdown",
      "metadata": {
        "id": "NaRhfa_EoAbh"
      },
      "source": [
        "It almost reads like natural language: For (every) fruit in (the list of) fruits, print (the name of the) fruit.\n",
        "\n",
        "We can also use the indices to access the items in an iterative fashion."
      ]
    },
    {
      "cell_type": "code",
      "metadata": {
        "id": "S_7sZaljoCoW",
        "outputId": "8883cd39-5cd3-48b6-a622-f1ec33d91712",
        "colab": {
          "base_uri": "https://localhost:8080/",
          "height": 85
        }
      },
      "source": [
        "fruits = [\"apple\", \"orange\", \"banana\", \"cherry\"]\n",
        "\n",
        "for position in range(len(fruits)):     # by index\n",
        "    print(fruits[position])"
      ],
      "execution_count": null,
      "outputs": [
        {
          "output_type": "stream",
          "text": [
            "apple\n",
            "orange\n",
            "banana\n",
            "cherry\n"
          ],
          "name": "stdout"
        }
      ]
    },
    {
      "cell_type": "markdown",
      "metadata": {
        "id": "NjcBxZdwoEva"
      },
      "source": [
        "In this example, each time through the loop, the variable ``position`` is used as an index into the list, printing the ``position``-eth element. Note that we used ``len`` as the upper bound on the range so that we can iterate correctly no matter how many items are in the list.\n",
        "\n",
        "Any sequence expression can be used in a ``for`` loop.  For example, the ``range`` function returns a sequence of integers."
      ]
    },
    {
      "cell_type": "code",
      "metadata": {
        "id": "pftYUkqooHYJ"
      },
      "source": [
        "for number in range(20):\n",
        "    if number % 3 == 0:\n",
        "        print(number)"
      ],
      "execution_count": null,
      "outputs": []
    },
    {
      "cell_type": "markdown",
      "metadata": {
        "id": "6f02LkcRoJFk"
      },
      "source": [
        "This example prints all the multiples of 3 between 0 and 19.\n",
        "\n",
        "Since lists are mutable, it is often desirable to traverse a list, modifying each of its elements as you go. The following code squares all the numbers from ``1`` to ``5`` using iteration by position."
      ]
    },
    {
      "cell_type": "code",
      "metadata": {
        "id": "3BAA09wnoLdw",
        "outputId": "e8e9d06f-9dda-4206-8655-c8fc569fc074",
        "colab": {
          "base_uri": "https://localhost:8080/",
          "height": 51
        }
      },
      "source": [
        "numbers = [1, 2, 3, 4, 5]\n",
        "print(numbers)\n",
        "\n",
        "for i in range(len(numbers)):\n",
        "    numbers[i] = numbers[i] ** 2\n",
        "\n",
        "print(numbers)"
      ],
      "execution_count": null,
      "outputs": [
        {
          "output_type": "stream",
          "text": [
            "[1, 2, 3, 4, 5]\n",
            "[1, 4, 9, 16, 25]\n"
          ],
          "name": "stdout"
        }
      ]
    },
    {
      "cell_type": "markdown",
      "metadata": {
        "id": "r6iDZVXhoN11"
      },
      "source": [
        "Take a moment to think about ``range(len(numbers))`` until you understand how it works. We are interested here in both the *value* and its *index* within the list, so that we can assign a new value to it."
      ]
    },
    {
      "cell_type": "markdown",
      "metadata": {
        "id": "XM-EbJlxovvG"
      },
      "source": [
        "## Using Lists as Parameters \n",
        "\n",
        "Functions which take lists as arguments and change them during execution are called **modifiers** and the changes they make are called **side effects**.Passing a list as an argument actually passes a reference to the list, not a copy of the list. Since lists are mutable, changes made to the  elements referenced by the parameter change the same list that the argument is referencing.  For example, the function below takes a list as an argument and multiplies each element in the list by 2:"
      ]
    },
    {
      "cell_type": "code",
      "metadata": {
        "id": "6L7UqnVLowt_",
        "outputId": "c56bb0de-b0df-4b4d-ec43-cec6c82b3949",
        "colab": {
          "base_uri": "https://localhost:8080/",
          "height": 51
        }
      },
      "source": [
        "def doubleStuff(aList):\n",
        "    \"\"\" Overwrite each element in aList with double its value. \"\"\"\n",
        "    for position in range(len(aList)):\n",
        "        aList[position] = 2 * aList[position]\n",
        "\n",
        "things = [2, 5, 9]\n",
        "print(things)\n",
        "doubleStuff(things)\n",
        "print(things)\n"
      ],
      "execution_count": null,
      "outputs": [
        {
          "output_type": "stream",
          "text": [
            "[2, 5, 9]\n",
            "[4, 10, 18]\n"
          ],
          "name": "stdout"
        }
      ]
    },
    {
      "cell_type": "markdown",
      "metadata": {
        "id": "f4Y68C8AozTU"
      },
      "source": [
        "The parameter ``aList`` and the variable ``things`` are aliases for the\n",
        "same object.\n",
        "\n",
        "<img src=\"https://pages.mtu.edu/~lebrown/CADeT/Intro2Python/references4.png\">\n",
        "\n",
        "Since the list object is shared by two references, there is only one copy. If a function modifies the elements of a list parameter, the caller sees the change since the change is occurring to the original.\n",
        "\n",
        "A **pure function** does not produce side effects. It communicates with the calling program only through parameters (which it does not modify) and a return value. Here is the ``doubleStuff`` function from the previous section written as a pure function. To use the pure function version of ``double_stuff`` to modify ``things``, you would assign the return value back to ``things``."
      ]
    },
    {
      "cell_type": "code",
      "metadata": {
        "id": "nRYQ6MBQpNRi",
        "outputId": "b14f7ccb-b43b-43f6-f57d-d7bdb9990f1f",
        "colab": {
          "base_uri": "https://localhost:8080/",
          "height": 51
        }
      },
      "source": [
        "def doubleStuff(a_list):\n",
        "    \"\"\" Return a new list in which contains doubles of the elements in a_list. \"\"\"\n",
        "    new_list = []\n",
        "    for value in a_list:\n",
        "        new_elem = 2 * value\n",
        "        new_list.append(new_elem)\n",
        "    return new_list\n",
        "\n",
        "things = [2, 5, 9]\n",
        "print(things)\n",
        "things = doubleStuff(things)\n",
        "print(things)\n"
      ],
      "execution_count": null,
      "outputs": [
        {
          "output_type": "stream",
          "text": [
            "[2, 5, 9]\n",
            "[4, 10, 18]\n"
          ],
          "name": "stdout"
        }
      ]
    },
    {
      "cell_type": "markdown",
      "metadata": {
        "id": "mEZTja_6pbPu"
      },
      "source": [
        "Anything that can be done with modifiers can also be done with pure functions. In fact, some programming languages only allow pure functions. There is some evidence that programs that use pure functions are faster to develop and less error-prone than programs that use modifiers. Nevertheless, modifiers are convenient at times, and in some cases, functional programs are less efficient.\n",
        "\n",
        "In general, we recommend that you write pure functions whenever it is reasonable to do so and resort to modifiers only if there is a compelling advantage. This approach might be called a *functional programming style*.\n",
        "\n",
        "The pure version of ``doubleStuff`` above made use of an  important **pattern** for your toolbox. Whenever you need to write a function that creates and returns a list, the pattern is usually::\n",
        "\n",
        "```\n",
        "initialize a result variable to be an empty list\n",
        "loop\n",
        "    create a new element \n",
        "    append it to result\n",
        "return the result\n",
        "```\n",
        "\n",
        "Let us show another use of this pattern.  Assume you already have a function ``is_prime(x)`` that can test if x is prime.  Now, write a function to return a list of all prime numbers less than n::\n",
        "\n",
        "```python\n",
        "def primes_upto(n):\n",
        "    \"\"\" Return a list of all prime numbers less than n. \"\"\"\n",
        "    result = []\n",
        "    for i in range(2, n):\n",
        "        if is_prime(i):\n",
        "            result.append(i)\n",
        "    return result\n",
        "```"
      ]
    },
    {
      "cell_type": "markdown",
      "metadata": {
        "id": "y0n9laLwrYq4"
      },
      "source": [
        "## List Comprehensions \n",
        "\n",
        "The previous example creates a list from a sequence of values based on some selection criteria.  An easy way to do this type of processing in Python is to use a **list comprehension**.  List comprehensions are concise ways to create lists.  The general syntax is::\n",
        "\n",
        "```\n",
        "   [<expression> for <item> in <sequence> if  <condition>]\n",
        "```\n",
        "\n",
        "where the if clause is optional.  For example,\n"
      ]
    },
    {
      "cell_type": "code",
      "metadata": {
        "id": "zkFZ6NUyrfUh",
        "outputId": "663fb7ac-09cb-49c6-dc1a-fda4098bb7b7",
        "colab": {
          "base_uri": "https://localhost:8080/",
          "height": 34
        }
      },
      "source": [
        "mylist = [1,2,3,4,5]\n",
        "\n",
        "yourlist = [item ** 2 for item in mylist]\n",
        "\n",
        "print(yourlist)"
      ],
      "execution_count": null,
      "outputs": [
        {
          "output_type": "stream",
          "text": [
            "[1, 4, 9, 16, 25]\n"
          ],
          "name": "stdout"
        }
      ]
    },
    {
      "cell_type": "markdown",
      "metadata": {
        "id": "TBWAtNVMrhWT"
      },
      "source": [
        "The expression describes each element of the list that is being built.  The ``for`` clause iterates through each item in a sequence.  The items are filtered by the ``if`` clause if there is one.  In the example above, the ``for`` statement lets ``item`` take on all the values in the list ``mylist``.  Each item is then squared before it is added to the list that is being built.  The result is a list of squares of the values in ``mylist``.\n",
        "\n",
        "To write the ``primes_upto`` function we will use the ``is_prime`` function to filter the sequence of integers coming from the ``range`` function.  In other words, for every integer from 2 up to but not including ``n``, if the integer is prime, keep it in the list."
      ]
    },
    {
      "cell_type": "code",
      "metadata": {
        "id": "slwDvJEGrj09"
      },
      "source": [
        "def primes_upto(n):\n",
        "    \"\"\" Return a list of all prime numbers less than n using a list comprehension. \"\"\"\n",
        "\n",
        "    result = [num for num in range(2,n) if is_prime(num)]\n",
        "    return result"
      ],
      "execution_count": null,
      "outputs": []
    },
    {
      "cell_type": "markdown",
      "metadata": {
        "id": "W4TRt2durnUb"
      },
      "source": [
        "### <a name=\"exer10\"></a> Exercise 10 \n",
        "\n",
        "What is printed by the following statements?\n",
        "\n",
        "```python\n",
        "alist = [4,2,8,6,5]\n",
        "blist = [num*2 for num in alist if num%2==1]\n",
        "print(blist)\n",
        "```\n",
        "\n",
        "* A. [4, 2, 8, 6, 5]\n",
        "* B. [8, 4, 16, 12, 10]\n",
        "* C. 10 \n",
        "* D. [10]\n",
        "\n",
        "[exercise 10 answer](#ans10)"
      ]
    },
    {
      "cell_type": "markdown",
      "metadata": {
        "id": "u7UVNYf9ssvb"
      },
      "source": [
        "## Nested Lists \n",
        "\n",
        "A nested list is a list that appears as an element in another list. In this list, the element with index 3 is a nested list.   If we print(``nested[3]``), we get ``[10, 20]``. To extract an element from the nested list, we can proceed in two steps.  First, extract the nested list, then extract the item of interest.  It is also possible to combine those steps using bracket operators that evaluate from left to right."
      ]
    },
    {
      "cell_type": "code",
      "metadata": {
        "id": "ntA-sdeesvHB",
        "outputId": "5fad574e-3aca-4b88-aa54-0f23be255a4d",
        "colab": {
          "base_uri": "https://localhost:8080/",
          "height": 68
        }
      },
      "source": [
        "nested = [\"hello\", 2.0, 5, [10, 20]]\n",
        "innerlist = nested[3]\n",
        "print(innerlist)\n",
        "item = innerlist[1]\n",
        "print(item)\n",
        "\n",
        "print(nested[3][1])\n"
      ],
      "execution_count": null,
      "outputs": [
        {
          "output_type": "stream",
          "text": [
            "[10, 20]\n",
            "20\n",
            "20\n"
          ],
          "name": "stdout"
        }
      ]
    },
    {
      "cell_type": "markdown",
      "metadata": {
        "id": "Jt6P-c7ksxLh"
      },
      "source": [
        "## Strings and Lists \n",
        "\n",
        "Two of the most useful methods on strings involve lists of strings. The ``split`` method breaks a string into a list of words.  By default, any number of whitespace characters is considered a word boundary."
      ]
    },
    {
      "cell_type": "code",
      "metadata": {
        "id": "NvxFovPVs-eL",
        "outputId": "fb976154-a113-451b-b452-d39cb580e010",
        "colab": {
          "base_uri": "https://localhost:8080/",
          "height": 34
        }
      },
      "source": [
        "song = \"The rain in Spain...\"\n",
        "wds = song.split()\n",
        "print(wds)"
      ],
      "execution_count": null,
      "outputs": [
        {
          "output_type": "stream",
          "text": [
            "['The', 'rain', 'in', 'Spain...']\n"
          ],
          "name": "stdout"
        }
      ]
    },
    {
      "cell_type": "markdown",
      "metadata": {
        "id": "w0pskYGStEt5"
      },
      "source": [
        "An optional argument called a **delimiter** can be used to specify which characters to use as word boundaries. The following example uses the string ``ai`` as the delimiter:"
      ]
    },
    {
      "cell_type": "code",
      "metadata": {
        "id": "PeP-Tng6tL4l",
        "outputId": "8aa10691-c655-4a08-ad73-b56d8a0fb2c8",
        "colab": {
          "base_uri": "https://localhost:8080/",
          "height": 34
        }
      },
      "source": [
        "song = \"The rain in Spain...\"\n",
        "wds = song.split('ai')\n",
        "print(wds)"
      ],
      "execution_count": null,
      "outputs": [
        {
          "output_type": "stream",
          "text": [
            "['The r', 'n in Sp', 'n...']\n"
          ],
          "name": "stdout"
        }
      ]
    },
    {
      "cell_type": "markdown",
      "metadata": {
        "id": "Fu980k6RtQx5"
      },
      "source": [
        "Notice that the delimiter doesn't appear in the result.\n",
        "\n",
        "The inverse of the ``split`` method is ``join``.  You choose a desired **separator** string, (often called the *glue*)  and join the list with the glue between each of the elements."
      ]
    },
    {
      "cell_type": "code",
      "metadata": {
        "id": "fT8opvV_teaP",
        "outputId": "356df0ab-c61a-4142-f8c7-4270e7239823",
        "colab": {
          "base_uri": "https://localhost:8080/",
          "height": 85
        }
      },
      "source": [
        "wds = [\"red\", \"blue\", \"green\"]\n",
        "glue = ';'\n",
        "s = glue.join(wds)\n",
        "print(s)\n",
        "print(wds)\n",
        "\n",
        "print(\"***\".join(wds))\n",
        "print(\"\".join(wds))"
      ],
      "execution_count": null,
      "outputs": [
        {
          "output_type": "stream",
          "text": [
            "red;blue;green\n",
            "['red', 'blue', 'green']\n",
            "red***blue***green\n",
            "redbluegreen\n"
          ],
          "name": "stdout"
        }
      ]
    },
    {
      "cell_type": "markdown",
      "metadata": {
        "id": "mdC43Q96tfcX"
      },
      "source": [
        "The list that you glue together (``wds`` in this example) is not modified.  Also,  you can use empty glue or multi-character strings as glue."
      ]
    },
    {
      "cell_type": "markdown",
      "metadata": {
        "id": "UiNG6_lHt1pM"
      },
      "source": [
        "**List Type Conversion** \n",
        "\n",
        "Python has a built-in type conversion function called  ``list`` that tries to turn whatever you give it into a list.  For example, try the following:\n"
      ]
    },
    {
      "cell_type": "code",
      "metadata": {
        "id": "Tqp2m3bMt6s1",
        "outputId": "9004b22b-6fbc-4b04-84ce-587ad76caef8",
        "colab": {
          "base_uri": "https://localhost:8080/",
          "height": 34
        }
      },
      "source": [
        "xs = list(\"Crunchy Frog\")\n",
        "print(xs)"
      ],
      "execution_count": null,
      "outputs": [
        {
          "output_type": "stream",
          "text": [
            "['C', 'r', 'u', 'n', 'c', 'h', 'y', ' ', 'F', 'r', 'o', 'g']\n"
          ],
          "name": "stdout"
        }
      ]
    },
    {
      "cell_type": "markdown",
      "metadata": {
        "id": "JBSf4VEOt-Ml"
      },
      "source": [
        "The string \"Crunchy Frog\" is turned into a list by taking each character in the string and placing it in a list.  In general, any sequence can be turned into a list using this function.  The result will be a list containing the elements in the original sequence.  It is not legal to use the ``list`` conversion function on any argument that is not a sequence.\n",
        "\n",
        "It is also important to point out that the ``list`` conversion function will place each element of the original sequence in the new list.  When working with strings, this is very different than the result of the ``split`` method.  Whereas ``split`` will break a string into a list of \"words\", ``list`` will always break it into a list of characters."
      ]
    },
    {
      "cell_type": "markdown",
      "metadata": {
        "id": "2vqMquzlufZR"
      },
      "source": [
        "## Tuples and Mutability \n",
        "\n",
        "So far you have seen two types of sequential collections: strings, which are made up of characters; and lists, which are made up of elements of any type.  One of the differences we noted is that the elements of a list can be modified, but the characters in a string cannot. In other words, strings are **immutable** and lists are **mutable**.\n",
        "\n",
        "A **tuple**, like a list, is a sequence of items of any type. Unlike lists, however, tuples are immutable. Syntactically, a tuple is a comma-separated sequence of values.  Although it is not necessary, it is conventional to  enclose tuples in parentheses:\n",
        "\n",
        "```python\n",
        "julia = (\"Julia\", \"Roberts\", 1967, \"Duplicity\", 2009, \"Actress\", \"Atlanta, Georgia\")\n",
        "```\n",
        "\n",
        "Tuples are useful for representing what other languages often call *records* --- some related information that belongs together, like your student record.  There is no description of what each of these *fields* means, but we can guess.  A tuple lets us \"chunk\" together related information and use it as a single thing.\n",
        "\n",
        "Tuples support the same sequence operations as strings and lists.  For example, the index operator selects an element from a tuple.   A tuple can be the sequence in a for-loop.\n",
        "\n",
        "As with strings, if we try to use item assignment to modify one of the elements of the tuple, we get an error.\n",
        "\n",
        "```python \n",
        "julia[0] = 'X'\n",
        "TypeError: 'tuple' object does not support item assignment\n",
        "```\n",
        "\n",
        "Of course, even if we can't modify the elements of a tuple, we can make a variable reference a new tuple holding different information.  To construct the new tuple, it is convenient that we can slice parts of the old tuple and join up the bits to make the new tuple.  So ``julia`` has a new recent film, and we might want to change her tuple.  We can easily slice off the parts we want and concatenate them with the new tuple.\n"
      ]
    },
    {
      "cell_type": "code",
      "metadata": {
        "id": "mLsVLQ5yugbL",
        "outputId": "ff3bd6e9-e743-4a4c-9991-139b6c37456f",
        "colab": {
          "base_uri": "https://localhost:8080/",
          "height": 204
        }
      },
      "source": [
        "julia = (\"Julia\", \"Roberts\", 1967, \"Duplicity\", 2009, \"Actress\", \"Atlanta, Georgia\")\n",
        "print(julia[2])\n",
        "print(julia[2:6])\n",
        "\n",
        "print(len(julia))\n",
        "\n",
        "for field in julia:\n",
        "    print(field)\n",
        "\n",
        "julia = julia[:3] + (\"Eat Pray Love\", 2010) + julia[5:]\n",
        "print(julia)\n"
      ],
      "execution_count": null,
      "outputs": [
        {
          "output_type": "stream",
          "text": [
            "1967\n",
            "(1967, 'Duplicity', 2009, 'Actress')\n",
            "7\n",
            "Julia\n",
            "Roberts\n",
            "1967\n",
            "Duplicity\n",
            "2009\n",
            "Actress\n",
            "Atlanta, Georgia\n",
            "('Julia', 'Roberts', 1967, 'Eat Pray Love', 2010, 'Actress', 'Atlanta, Georgia')\n"
          ],
          "name": "stdout"
        }
      ]
    },
    {
      "cell_type": "markdown",
      "metadata": {
        "id": "3pCC0L-Turoz"
      },
      "source": [
        "To create a tuple with a single element (but you're probably not likely to do that too often), we have to include the final comma, because without the final comma, Python treats the ``(5)`` below as an integer in parentheses:"
      ]
    },
    {
      "cell_type": "code",
      "metadata": {
        "id": "EnJiKQR2utYu",
        "outputId": "4a2ff567-3fa6-4f9f-bfed-883d5c834b5c",
        "colab": {
          "base_uri": "https://localhost:8080/",
          "height": 34
        }
      },
      "source": [
        "tup = (5,)\n",
        "print(type(tup))\n",
        "\n",
        "x = (5)"
      ],
      "execution_count": null,
      "outputs": [
        {
          "output_type": "stream",
          "text": [
            "<class 'tuple'>\n"
          ],
          "name": "stdout"
        }
      ]
    },
    {
      "cell_type": "markdown",
      "metadata": {
        "id": "tyjBhc3NvQci"
      },
      "source": [
        "## Tuple Assignment \n",
        "\n",
        "Python has a very powerful **tuple assignment** feature that allows a tuple of variables  on the left of an assignment to be assigned values from a tuple on the right of the assignment.\n",
        "\n",
        "```python \n",
        "(name, surname, birth_year, movie, movie_year, profession, birth_place) = julia\n",
        "```\n",
        "\n",
        "This does the equivalent of seven assignment statements, all on one easy line.  One requirement is that the number of variables on the left must match the number of elements in the tuple. \n",
        "\n",
        "Once in a while, it is useful to swap the values of two variables.  With conventional assignment statements, we have to use a temporary variable. For example, to swap ``a`` and ``b``:\n",
        "\n",
        "```python\n",
        "temp = a\n",
        "a = b\n",
        "b = temp\n",
        "```\n",
        "\n",
        "Tuple assignment solves this problem neatly:\n",
        "\n",
        "```python\n",
        "(a, b) = (b, a)\n",
        "```\n",
        "\n",
        "The left side is a tuple of variables; the right side is a tuple of values. Each value is assigned to its respective variable. All the expressions on the right side are evaluated before any of the assignments. This feature makes tuple assignment quite versatile.\n",
        "\n",
        "Naturally, the number of variables on the left and the number of values on the right have to be the same.\n",
        "\n",
        "```\n",
        ">>> (a, b, c, d) = (1, 2, 3)\n",
        "ValueError: need more than 3 values to unpack\n",
        "```\n"
      ]
    },
    {
      "cell_type": "markdown",
      "metadata": {
        "id": "smbiPj0LwKog"
      },
      "source": [
        "## Tuples as Return Values \n",
        "\n",
        "Functions can return tuples as return values. This is very useful --- we often want to know some batsman's highest and lowest score, or we want to find the mean and the standard  deviation, or we want to know the year, the month, and the day, or if we're doing some ecological modeling we may want to know the number of rabbits and the number of wolves on an island at a given time.  In each case, a function (which  can only return a single value), can create a single tuple holding multiple elements. \n",
        "\n",
        "For example, we could write a function that returns both the area and the circumference of a circle of radius r."
      ]
    },
    {
      "cell_type": "code",
      "metadata": {
        "id": "BViHz-OswLn4",
        "outputId": "6303586c-86a3-46b2-e432-7f60f762d7a4",
        "colab": {
          "base_uri": "https://localhost:8080/",
          "height": 34
        }
      },
      "source": [
        "def circleInfo(r):\n",
        "    \"\"\" Return (circumference, area) of a circle of radius r \"\"\"\n",
        "    c = 2 * 3.14159 * r\n",
        "    a = 3.14159 * r * r\n",
        "    return (c, a)\n",
        "\n",
        "print(circleInfo(10))"
      ],
      "execution_count": null,
      "outputs": [
        {
          "output_type": "stream",
          "text": [
            "(62.8318, 314.159)\n"
          ],
          "name": "stdout"
        }
      ]
    },
    {
      "cell_type": "markdown",
      "metadata": {
        "id": "dY-tdLzPwiZZ"
      },
      "source": [
        "### <a name=\"exer11\"></a>Exercise 11 \n",
        "\n",
        "Write a Python function that will take a the list of 100 random integers between 0 and 1000 and return the maximum value. (Note: there is a builtin function named `max` but pretend you cannot use it.)\n"
      ]
    },
    {
      "cell_type": "code",
      "metadata": {
        "id": "as9T8swxwk1k"
      },
      "source": [
        "import random \n",
        "\n",
        "def max(lst): \n",
        "    \"\"\"given a list, max returns the maximum element in the list \"\"\"\n",
        "\n",
        "    return None\n",
        "\n",
        "lst = [] \n",
        "# build a list with 100 random integers, hint:  random.randint( )\n",
        "\n",
        "\n",
        "print(max(lst))\n",
        "\n"
      ],
      "execution_count": null,
      "outputs": []
    },
    {
      "cell_type": "markdown",
      "metadata": {
        "id": "5-Xu0NRaw7Um"
      },
      "source": [
        "[exercise 11 answer](#ans11)"
      ]
    },
    {
      "cell_type": "markdown",
      "metadata": {
        "id": "fePe7UIGywCK"
      },
      "source": [
        "### <a name=\"exer12\"></a> Exercise 12 \n",
        "\n",
        "Write a function to count how many odd numbers are in a list.  Run it on your list of 100 random integers from Exercise 11.\n",
        "\n"
      ]
    },
    {
      "cell_type": "code",
      "metadata": {
        "id": "JzpLo5FYy2lF"
      },
      "source": [
        "def count_odd(lst):\n",
        "    \"\"\"given a list, returns the number of odd numbers are in the list\"\"\"\n",
        "\n",
        "    return None\n",
        "\n",
        "print(count_odd(lst))"
      ],
      "execution_count": null,
      "outputs": []
    },
    {
      "cell_type": "markdown",
      "metadata": {
        "id": "j2ih_EUGzINl"
      },
      "source": [
        "[exercise 12 answer](#ans12)"
      ]
    },
    {
      "cell_type": "markdown",
      "metadata": {
        "id": "53MCFhWWzkvG"
      },
      "source": [
        "### <a name=\"exer13\"></a> Exercise 13 \n",
        "\n",
        "Sum all the elements in a list up to but not including the first even number."
      ]
    },
    {
      "cell_type": "code",
      "metadata": {
        "id": "C6ax3axyzobx"
      },
      "source": [
        "def my_sum(lst):\n",
        "    \n",
        "    return sum\n",
        "\n",
        "print(my_sum(lst))"
      ],
      "execution_count": null,
      "outputs": []
    },
    {
      "cell_type": "markdown",
      "metadata": {
        "id": "BipSVmNjzwx0"
      },
      "source": [
        "[exercise 13 answer](#ans13)"
      ]
    },
    {
      "cell_type": "markdown",
      "metadata": {
        "id": "ta6XM3k3OHBD"
      },
      "source": [
        "---\n"
      ]
    },
    {
      "cell_type": "markdown",
      "metadata": {
        "id": "Kq81s4RwOIhO"
      },
      "source": [
        "## Answers to Exercises "
      ]
    },
    {
      "cell_type": "markdown",
      "metadata": {
        "id": "hyxK8_B3ON-q"
      },
      "source": [
        "### <a name=\"ans1\"></a>Exercise 1 \n",
        "\n",
        "(1) B. 5  \n",
        "(2) A. 7 \n",
        "\n",
        "[Back to Exercises](#exer1)"
      ]
    },
    {
      "cell_type": "markdown",
      "metadata": {
        "id": "gbqTzUaDPh5q"
      },
      "source": [
        "### <a name=\"ans2\"></a>Exercise 2 \n",
        "\n",
        "B. 3.14,  3.14 is at index 5 since we start counting at 0 and sublists count as one item. \n",
        "\n",
        "[Back to Exercises](#exer2)"
      ]
    },
    {
      "cell_type": "markdown",
      "metadata": {
        "id": "eM30A3_lPyGK"
      },
      "source": [
        "### <a name=\"ans3\"></a>Exercise 3\n",
        "\n",
        "B. c,   the first character of the string at index 2 is c. \n",
        "\n",
        "[Back to Exercises](#exer3)"
      ]
    },
    {
      "cell_type": "markdown",
      "metadata": {
        "id": "h4DhNUGvTNYX"
      },
      "source": [
        "### <a name=\"ans4\"></a> Exercise 4\n",
        "\n",
        "C. [1, 3, 5, 2, 4, 6]   \n",
        "a new list with all the items of the first list followed by all those from the second.\n",
        "\n",
        "[Back to Exercises](#exer4)"
      ]
    },
    {
      "cell_type": "markdown",
      "metadata": {
        "id": "gpONa3_MTcQ8"
      },
      "source": [
        "### <a name=\"ans5\"></a> Exercise 5\n",
        "\n",
        "D.  the items of the list are repeated 3 times, one after another.\n",
        "\n",
        "[Back to Exercises](#exer5)"
      ]
    },
    {
      "cell_type": "markdown",
      "metadata": {
        "id": "JBww7fAqWxAt"
      },
      "source": [
        "### <a name=\"ans6\"></a> Exercise 6 \n",
        "\n",
        "B. the value True is placed in the list at index 2. It replaces 8.\n",
        "\n",
        "[Back to Exercises](#exer6)"
      ]
    },
    {
      "cell_type": "markdown",
      "metadata": {
        "id": "odQRPE98eo59"
      },
      "source": [
        "### <a name=\"ans7\"></a> Exercise 7 \n",
        "\n",
        "B.  since alist and blist both reference the same list, changes to one also change the other.\n",
        "\n",
        "[Back to Exercises](#exer7)"
      ]
    },
    {
      "cell_type": "markdown",
      "metadata": {
        "id": "fSKsqrn2kmYJ"
      },
      "source": [
        "### <a name=\"ans8\"></a> Exercise 8 \n",
        "\n",
        "C.  alist was unchanged by the assignment statement. blist was a copy of the references in alist.\n",
        "\n",
        "[Back to Exercises](#exer8)"
      ]
    },
    {
      "cell_type": "markdown",
      "metadata": {
        "id": "Ga0zDA9flKMU"
      },
      "source": [
        "### <a name=\"ans9\"></a> Exercise 9 \n",
        "\n",
        "B. [[4, 2, 8, 999, 5], [4, 2, 8, 999, 5]] \n",
        "`blist` contains two references both to `alist`\n",
        "\n",
        "[Back to Exercises](#exer9)"
      ]
    },
    {
      "cell_type": "markdown",
      "metadata": {
        "id": "4e978y9Er56a"
      },
      "source": [
        "### <a name=\"ans10\"></a> Exercise 10 \n",
        "\n",
        "D.  5 is the only odd number in `alist`. It is doubled before being placed in `blist`.\n",
        "\n",
        "[Back to Exercises](#exer10)"
      ]
    },
    {
      "cell_type": "markdown",
      "metadata": {
        "id": "JF-W0JlXw_4a"
      },
      "source": [
        "### <a name=\"ans11\"></a> Exercise 11 \n",
        "\n"
      ]
    },
    {
      "cell_type": "code",
      "metadata": {
        "id": "0W734pYixE7F",
        "outputId": "70516c6f-e0c5-4834-ed09-fda3e5a272ba",
        "colab": {
          "base_uri": "https://localhost:8080/",
          "height": 34
        }
      },
      "source": [
        "import random\n",
        "\n",
        "def max(lst):\n",
        "    max = 0\n",
        "    for e in lst:\n",
        "        if e > max:\n",
        "            max = e\n",
        "    return max\n",
        "\n",
        "lst = []\n",
        "for i in range(100):\n",
        "    lst.append(random.randint(0, 1000))\n",
        "\n",
        "print(max(lst))"
      ],
      "execution_count": null,
      "outputs": [
        {
          "output_type": "stream",
          "text": [
            "992\n"
          ],
          "name": "stdout"
        }
      ]
    },
    {
      "cell_type": "markdown",
      "metadata": {
        "id": "9phJpM0bxX0F"
      },
      "source": [
        "or "
      ]
    },
    {
      "cell_type": "code",
      "metadata": {
        "id": "ZcKN2-ktldLr",
        "outputId": "01f10ca8-b45d-497d-da43-d399d0f7a4d9",
        "colab": {
          "base_uri": "https://localhost:8080/",
          "height": 34
        }
      },
      "source": [
        "lst = [random.randint(0,1000) for _ in range(10)]\n",
        "print(max(lst))"
      ],
      "execution_count": null,
      "outputs": [
        {
          "output_type": "stream",
          "text": [
            "932\n"
          ],
          "name": "stdout"
        }
      ]
    },
    {
      "cell_type": "markdown",
      "metadata": {
        "id": "GuPAJrrnxhDe"
      },
      "source": [
        "[Back to Exercises](#exer11) "
      ]
    },
    {
      "cell_type": "markdown",
      "metadata": {
        "id": "CXrb9njozLaX"
      },
      "source": [
        "### <a name=\"ans12\"></a> Exercise 12 \n",
        "\n"
      ]
    },
    {
      "cell_type": "code",
      "metadata": {
        "id": "iPno7guCxczy",
        "outputId": "f62110e0-edca-4c2d-a288-091500d29816",
        "colab": {
          "base_uri": "https://localhost:8080/",
          "height": 34
        }
      },
      "source": [
        "def count_odd(lst):\n",
        "    odd = 0\n",
        "    for e in lst:\n",
        "        if e % 2 != 0:\n",
        "            odd = odd + 1\n",
        "    return odd\n",
        "\n",
        "print(count_odd(lst))"
      ],
      "execution_count": null,
      "outputs": [
        {
          "output_type": "stream",
          "text": [
            "5\n"
          ],
          "name": "stdout"
        }
      ]
    },
    {
      "cell_type": "markdown",
      "metadata": {
        "id": "XR6OAm3LzVSf"
      },
      "source": [
        "[Back to Exercises](#exer12)"
      ]
    },
    {
      "cell_type": "markdown",
      "metadata": {
        "id": "83cg9F0Lz0C_"
      },
      "source": [
        "### <a name=\"ans13\"></a> Exercise 13 \n",
        "\n"
      ]
    },
    {
      "cell_type": "code",
      "metadata": {
        "id": "IjfiXvyozYDG",
        "outputId": "5dfd1d15-f0b6-43f6-f607-55c62252d924",
        "colab": {
          "base_uri": "https://localhost:8080/",
          "height": 34
        }
      },
      "source": [
        "def my_sum(lst):\n",
        "    sum = 0\n",
        "    index = 0\n",
        "    while index < len(lst) and lst[index] % 2 != 0:\n",
        "        sum = sum + lst[index]\n",
        "        index = index + 1\n",
        "    return sum\n",
        "\n",
        "print(my_sum(lst))"
      ],
      "execution_count": null,
      "outputs": [
        {
          "output_type": "stream",
          "text": [
            "49\n"
          ],
          "name": "stdout"
        }
      ]
    },
    {
      "cell_type": "code",
      "metadata": {
        "id": "ySnOPy8-z6CG"
      },
      "source": [
        ""
      ],
      "execution_count": null,
      "outputs": []
    }
  ]
}