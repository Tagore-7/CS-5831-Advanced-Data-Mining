{
  "nbformat": 4,
  "nbformat_minor": 0,
  "metadata": {
    "colab": {
      "name": "Intro.Python.part6.ipynb",
      "provenance": [],
      "collapsed_sections": [],
      "toc_visible": true
    },
    "kernelspec": {
      "name": "python3",
      "display_name": "Python 3"
    }
  },
  "cells": [
    {
      "cell_type": "markdown",
      "metadata": {
        "id": "-vsS7cqp-nb5"
      },
      "source": [
        "# Strings \n",
        "\n",
        "Materials adapted from *[How to Think Like a Computer Scientist](https://runestone.academy/runestone/static/thinkcspy/index.html)* \n",
        "\n",
        "This colab notebook is paired with the page on Canvas: **6-Strings**\n",
        "\n",
        "So far we have seen built-in types like: ``int``, ``float``, ``bool``, ``str`` and we've seen lists.  ``int``, ``float``, and ``bool`` are considered to be simple or primitive data types because their values are not composed of any smaller parts.  They cannot be broken down. On the other hand, strings and lists are different from the others because they are made up of smaller pieces.  In the case of strings, they are made up of smaller strings each containing one **character**.  \n",
        "\n",
        "Types that are comprised of smaller pieces are called **collection data types**. Depending on what we are doing, we may want to treat a collection data type as a single entity (the whole), or we may want to access its parts. This ambiguity is useful.\n",
        "\n",
        "Strings can be defined as sequential collections of characters.  This means that the individual characters that make up the string are assumed to be in a particular order from left to right.\n",
        "\n",
        "A string that contains no characters, often referred to as the **empty string**, is still considered to be a string.  It is simply a sequence of zero characters and is represented by '' or \"\" (two single or two double quotes with nothing in between)."
      ]
    },
    {
      "cell_type": "markdown",
      "metadata": {
        "id": "V81PPj2z_qV8"
      },
      "source": [
        "## Operation on Strings \n",
        "\n",
        "In general, you cannot perform mathematical operations on strings, even if the strings look like numbers. The following are illegal (assuming that ``message`` has type string):\n",
        "\n",
        "```{python}\n",
        "message - 1\n",
        "\"Hello\" / 123\n",
        "message * \"Hello\"\n",
        "\"15\" + 2\n",
        "``` \n",
        "\n",
        "Interestingly, the ``+`` operator does work with strings, but for strings, the``+`` operator represents **concatenation**, not addition.  Concatenation means joining the two operands by linking them end-to-end. For example:"
      ]
    },
    {
      "cell_type": "code",
      "metadata": {
        "id": "ZKuyn7oA2wXQ"
      },
      "source": [
        "fruit = \"banana\"\n",
        "bakedGood = \" nut bread\"\n",
        "print(fruit + bakedGood)"
      ],
      "execution_count": null,
      "outputs": []
    },
    {
      "cell_type": "markdown",
      "metadata": {
        "id": "xF0ZxrZ1_5gF"
      },
      "source": [
        "The output of this program is `\"banana nut bread\"`. The space before the word `\"nut\"` is part of the string and is necessary to produce the space between the concatenated strings. Take out the space and run it again.\n",
        "\n",
        "The `*` operator also works on strings. It performs repetition. For example, `'Fun'*3` is `'FunFunFun'`. One of the operands has to be a string and the other has to be an integer."
      ]
    },
    {
      "cell_type": "code",
      "metadata": {
        "id": "qAU5Cvb5_t-7"
      },
      "source": [
        "print(\"Go\" * 6)\n",
        "\n",
        "name = \"Packers\"\n",
        "print(name * 3)\n",
        "\n",
        "print(name + \"Go\" * 3)\n",
        "\n",
        "print((name + \"Go\") * 3)"
      ],
      "execution_count": null,
      "outputs": []
    },
    {
      "cell_type": "markdown",
      "metadata": {
        "id": "QYPn_A92AAz1"
      },
      "source": [
        "This interpretation of ``+`` and ``*`` makes sense by analogy with addition and multiplication. Just as ``4*3`` is equivalent to ``4+4+4``, we expect ``\"Go\"*3`` to be the same as ``\"Go\"+\"Go\"+\"Go\"``, and it is.  Note also in the last example that the order of operations for ``*`` and ``+`` is the same as it was for arithmetic. The repetition is done before the concatenation.  If you want to cause the concatenation to be done first, you will need to use parenthesis."
      ]
    },
    {
      "cell_type": "markdown",
      "metadata": {
        "id": "wSRgmEr1Aqn6"
      },
      "source": [
        "### <a name=\"exer1\"></a>Exercise 1\n",
        "\n",
        "What is printed by the following statements?\n",
        "\n",
        "```{python}\n",
        "s = \"python\"\n",
        "t = \"rocks\"\n",
        "print(s + t)\n",
        "```\n",
        "\n",
        "* A. python rocks \n",
        "* B. python \n",
        "* C. pythonrocks\n",
        "* D. Error, you can not add two strings together. \n",
        "\n",
        "[exercse 1 answers](#ans1)"
      ]
    },
    {
      "cell_type": "markdown",
      "metadata": {
        "id": "Z-K5i8L0Bfx4"
      },
      "source": [
        "### Exercise 2 \n",
        "\n",
        "What is printed by the following statements?\n",
        "\n",
        "```python\n",
        "s = \"python\"\n",
        "excl = \"!\"\n",
        "print(s+excl*3)\n",
        "```\n",
        "\n",
        "* A. python!!! \n",
        "* B. python!python!python! \n",
        "* C. pythonpythonpython! \n",
        "* D. Error, you cannot perform concatenation and repetition at the same time.\n",
        "\n",
        "[exercise 2 answers](#ans2)"
      ]
    },
    {
      "cell_type": "markdown",
      "metadata": {
        "id": "hffb_2CgCA9G"
      },
      "source": [
        "## Index Operator: Working with the Characters of a String \n",
        "\n",
        "The **indexing operator** (Python uses square brackets to enclose the index)  selects a single character from a string.  The characters are accessed by their position or  index value.  For example, in the string shown below, the 14 characters are indexed left to right from position 0 to position 13.  \n",
        "\n",
        "<img src=\"https://pages.mtu.edu/~lebrown/CADeT/Intro2Python/indexvalues.png\">\n",
        "\n",
        "It is also the case that the positions are named from right to left using negative numbers where -1 is the rightmost index and so on. Note that the character at index 6 (or -8) is the blank character.\n"
      ]
    },
    {
      "cell_type": "code",
      "metadata": {
        "id": "xayv0J5R_-8W"
      },
      "source": [
        "school = \"Luther College\"\n",
        "m = school[2]\n",
        "print(m)\n",
        "\n",
        "lastchar = school[-1]\n",
        "print(lastchar)\n",
        "\n"
      ],
      "execution_count": null,
      "outputs": []
    },
    {
      "cell_type": "markdown",
      "metadata": {
        "id": "rJAmeG1xDmUU"
      },
      "source": [
        "The expression ``school[2]`` selects the character at index 2 from ``school``, and creates a new string containing just this one character. The variable ``m`` refers to the result. \n",
        "\n",
        "Remember that computer scientists often start counting from zero. The letter at index zero of ``\"Luther College\"`` is ``L``.  So at position ``[2]`` we have the letter ``t``.\n",
        "\n",
        "If you want the zero-eth letter of a string, you just put 0, or any expression with the value 0, in the brackets.  Give it a try.\n",
        "\n",
        "The expression in brackets is called an **index**. An index specifies a member of an ordered collection.  In this case the collection of characters in the string. The index *indicates* which character you want. It can be any integer expression so long as it evaluates to a valid index value.\n",
        "\n",
        "Note that indexing returns a *string* --- Python has no special type for a single character. It is just a string of length 1.\n"
      ]
    },
    {
      "cell_type": "markdown",
      "metadata": {
        "id": "inH06iiPEGqW"
      },
      "source": [
        "### <a name=\"exer3\"></a>Exercise 3 \n",
        "\n",
        " What is printed by the following statements?\n",
        "\n",
        " * A. t \n",
        " * B. h \n",
        " * C. c \n",
        " * D. Error, you can not use the [] operator with a string. \n",
        "\n",
        "[exercise 3 answers](#ans3)"
      ]
    },
    {
      "cell_type": "markdown",
      "metadata": {
        "id": "xA29GiH-EqTY"
      },
      "source": [
        "### <a name=\"exer4\"></a> Exercise 4 \n",
        "\n",
        "What is printed by the following statements?\n",
        "\n",
        "```{python}\n",
        "s = \"python rocks\"\n",
        "print(s[2] + s[-5])\n",
        "```\n",
        "\n",
        "* A. tr \n",
        "* B. ps \n",
        "* C. nn \n",
        "* D. Error, you can not use the [] operator with the + operator. \n",
        "\n",
        "[exercise 4 answers](#ans4)"
      ]
    },
    {
      "cell_type": "markdown",
      "metadata": {
        "id": "IyIBMWZHF8ng"
      },
      "source": [
        "## String Methods \n",
        "\n",
        "We previously saw that each turtle instance has its own attributes and a number of methods that can be applied to the instance.  For example, we wrote ``tess.right(90)`` when we wanted the turtle object ``tess`` to perform the ``right`` method to turn to the right 90 degrees.  The \"dot notation\" is the way we connect the name of an object to the name of a method it can perform.\n",
        "\n",
        "Strings are also objects.  Each string instance has its own attributes and methods.  The most important attribute of the string is the collection of characters.  There are a wide variety of methods.  Try the following program.\n"
      ]
    },
    {
      "cell_type": "code",
      "metadata": {
        "id": "2IlftuGVF-O3"
      },
      "source": [
        "ss = \"Hello, World\"\n",
        "print(ss.upper())\n",
        "\n",
        "tt = ss.lower()\n",
        "print(tt)"
      ],
      "execution_count": null,
      "outputs": []
    },
    {
      "cell_type": "markdown",
      "metadata": {
        "id": "G_AaTbDEGADm"
      },
      "source": [
        "In this example, ``upper`` is a method that can be invoked on any string object to create a new string in which all the characters are in uppercase.  ``lower`` works in a similar fashion changing all characters in the string to lowercase.  (The original string ``ss`` remains unchanged.  A new string ``tt`` is created.)\n",
        "\n",
        "In addition to ``upper`` and ``lower``, the following table provides a summary of some other useful string methods.\n",
        "\n",
        "| Method     | Parameters         | Description | \n",
        "|------------|--------------------|-------------|\n",
        "| upper      | none               | Returns a string in all uppercase |\n",
        "| lower      | none               | Returns a string in all lowercase |\n",
        "| capitalize | none               | Returns a string with first character capitalized, the rest lower |\n",
        "| strip      | none               | Returns a string with the leading and trailing whitespace removed |\n",
        "| lstrip     | none               | Returns a string with the leading whitespace removed |\n",
        "| rstrip     | none               | Returns a string with the trailing whitespace removed |\n",
        "| count      | item               | Returns the number of occurrences of item |\n",
        "| replace    | old, new           | Replaces all occurrences of old substring with new |\n",
        "| center     | width              | Returns a string centered in a field of width spaces |\n",
        "| ljust      | width              | Returns a string left justified in a field of width spaces |\n",
        "| rjust      | width              | Returns a string right justified in a field of width spaces |\n",
        "| find       | item               | Returns the leftmost index where the substring item is found, or -1 if not found |\n",
        "| rfind      | item               | Returns the rightmost index where the substring item is found, or -1 if not found |\n",
        "| index      | item               | Like find except causes a runtime error if item is not found |\n",
        "| rindex     | item               | Like rfind except causes a runtime error if item is not found |\n",
        "| format     | substitutions      | Involved! See [documentation](https://docs.python.org/3/library/stdtypes.html#string-methods) |\n",
        "\n",
        "You should experiment with these methods so that you understand what they do.  Note once again that the methods that return strings do not change the original.  You can also consult the [Python documentation for strings](https://docs.python.org/3/library/stdtypes.html#string-methods)."
      ]
    },
    {
      "cell_type": "code",
      "metadata": {
        "id": "J6legDk6HWk-"
      },
      "source": [
        "ss = \"    Hello, World    \"\n",
        "\n",
        "els = ss.count(\"l\")\n",
        "print(els)\n",
        "\n",
        "print(\"***\" + ss.strip() + \"***\")\n",
        "print(\"***\" + ss.lstrip() + \"***\")\n",
        "print(\"***\" + ss.rstrip() + \"***\")\n",
        "\n",
        "news = ss.replace(\"o\", \"***\")\n",
        "print(news)"
      ],
      "execution_count": null,
      "outputs": []
    },
    {
      "cell_type": "code",
      "metadata": {
        "id": "PhDmQ80fHa7Q"
      },
      "source": [
        "food = \"banana bread\"\n",
        "print(food.capitalize())\n",
        "\n",
        "print(\"*\" + food.center(25) + \"*\")\n",
        "print(\"*\" + food.ljust(25) + \"*\")     # stars added to show bounds\n",
        "print(\"*\" + food.rjust(25) + \"*\")\n",
        "\n",
        "print(food.find(\"e\"))\n",
        "print(food.find(\"na\"))\n",
        "print(food.find(\"b\"))\n",
        "\n",
        "print(food.rfind(\"e\"))\n",
        "print(food.rfind(\"na\"))\n",
        "print(food.rfind(\"b\"))"
      ],
      "execution_count": null,
      "outputs": []
    },
    {
      "cell_type": "markdown",
      "metadata": {
        "id": "Xhxu-DUsHSSk"
      },
      "source": [
        "### <a name=\"exer5\"></a>Exercise 5 \n",
        "\n",
        "What is printed by the following statements?\n",
        "\n",
        "* A. 0 \n",
        "* B. 2 \n",
        "* C. 3 \n",
        "\n",
        "[exercise 5 answers](#ans5)"
      ]
    },
    {
      "cell_type": "markdown",
      "metadata": {
        "id": "BfTgZ09GH-eO"
      },
      "source": [
        "### <a name=\"exer6\"></a> Exercise 6 \n",
        "\n",
        "What is printed by the following statements?\n",
        "\n",
        "* A. yyyyy \n",
        "* B. 55555\n",
        "* C. n \n",
        "* D. Error, you can not combine all those things together. \n",
        "\n",
        "[exercise 6 answers](#ans6)"
      ]
    },
    {
      "cell_type": "markdown",
      "metadata": {
        "id": "AuHmNoCxIi1Y"
      },
      "source": [
        "### String Format Method \n",
        "\n",
        "In grade school quizzes a common convention is to use fill-in-the blanks. For instance,\n",
        "\n",
        ">Hello _____!\n",
        "\n",
        "\n",
        "and you can fill in the name of the person greeted, and combine given text with a chosen insertion. *We use this as an analogy:* Python has a similar\n",
        "construction, better called fill-in-the-braces. The string method ``format``,  makes substitutions into places in a string enclosed in braces. Run this code:\n"
      ]
    },
    {
      "cell_type": "code",
      "metadata": {
        "id": "X8iK0U7KJI9a"
      },
      "source": [
        "person = input('Your name: ')\n",
        "greeting = 'Hello {}!'.format(person)\n",
        "print(greeting)"
      ],
      "execution_count": null,
      "outputs": []
    },
    {
      "cell_type": "markdown",
      "metadata": {
        "id": "hBlYMkZ6JMW6"
      },
      "source": [
        "There are several new ideas here!\n",
        "\n",
        "The string for the ``format`` method has a special form, with braces embedded. Such a string is called a *format string*.  Places where braces are embedded are replaced by the value of an expression taken from the parameter list for the ``format`` method. There are many variations on the syntax between the braces. In this case we use the syntax where the first (and only) location in the string with braces has a substitution made from the first (and only) parameter.\n",
        "\n",
        "In the code above, this new string is assigned to the identifier ``greeting``, and then the string is printed.\n",
        "\n",
        "The identifier ``greeting`` was introduced to break the operations into a clearer sequence of steps. However, since the value of ``greeting`` is only referenced once, it can be eliminated with the more concise version:"
      ]
    },
    {
      "cell_type": "code",
      "metadata": {
        "id": "hd55ble_JO0e"
      },
      "source": [
        "person = input('Enter your name: ')\n",
        "print('Hello {}!'.format(person))\n"
      ],
      "execution_count": null,
      "outputs": []
    },
    {
      "cell_type": "markdown",
      "metadata": {
        "id": "WLnNTKkiJTYp"
      },
      "source": [
        "There can be multiple substitutions, with data of any type.\n",
        "Next we use floats.  Try original price $2.50  with a 7% discount:"
      ]
    },
    {
      "cell_type": "code",
      "metadata": {
        "id": "QSQvaMtWJit7"
      },
      "source": [
        "origPrice = float(input('Enter the original price: $'))\n",
        "discount = float(input('Enter discount percentage: '))\n",
        "newPrice = (1 - discount/100)*origPrice\n",
        "calculation = '${} discounted by {}% is ${}.'.format(origPrice, discount, newPrice)\n",
        "print(calculation)"
      ],
      "execution_count": null,
      "outputs": []
    },
    {
      "cell_type": "markdown",
      "metadata": {
        "id": "ykjORUN5JpZ1"
      },
      "source": [
        "The parameters are inserted into the braces in order.\n",
        "\n",
        "If you used the data suggested, this result is not satisfying. Prices should appear with exactly two places beyond the decimal point, but that is not the default way to display floats.\n",
        "\n",
        "Format strings can give further information inside the braces showing how to specially format data. In particular floats can be shown with a specific number of decimal places. For two decimal places, put ``:.2f`` inside the braces for the monetary values:"
      ]
    },
    {
      "cell_type": "code",
      "metadata": {
        "id": "I4xCQh40JwHP"
      },
      "source": [
        "origPrice = float(input('Enter the original price: $'))\n",
        "discount = float(input('Enter discount percentage: '))\n",
        "newPrice = (1 - discount/100)*origPrice\n",
        "calculation = '${:.2f} discounted by {}% is ${:.2f}.'.format(origPrice, discount, newPrice)\n",
        "print(calculation)"
      ],
      "execution_count": null,
      "outputs": []
    },
    {
      "cell_type": "markdown",
      "metadata": {
        "id": "IB3XDVtdJ41q"
      },
      "source": [
        "The 2 in the format modifier can be replaced by another integer to round to that specified number of digits.\n",
        "\n",
        "This kind of format string depends directly on the order of the parameters to the format method. There are other approaches that we will skip here, explicitly numbering substitutions and taking substitutions from a dictionary.\n",
        "\n",
        "\n",
        "\n",
        "\n"
      ]
    },
    {
      "cell_type": "markdown",
      "metadata": {
        "id": "6LbYqQDTKaXO"
      },
      "source": [
        "### <a name=\"exer7\"></a>Exercise 7 \n",
        "\n",
        "What is printed by the following statements?\n",
        "\n",
        "```python \n",
        "x = 2\n",
        "y = 6\n",
        "print('sum of {} and {} is {}; product: {}.'.format( x, y, x+y, x*y))\n",
        "```\n",
        "\n",
        "* A.  Nothing - it causes an error\n",
        "* B. sum of {} and {} is {}; product: {}. 2 6 8 12 \n",
        "* C. sum of 2 and 6 is 8; product: 12. \n",
        "* D. sum of {2} and {6} is {8}; product: {12}. \n",
        "\n",
        "[exercise 7 answers](#ans7)"
      ]
    },
    {
      "cell_type": "markdown",
      "metadata": {
        "id": "jOd9lEqMMIZQ"
      },
      "source": [
        "## Length \n",
        "\n",
        "The ``len`` function, when applied to a string, returns the number of characters in a string.\n"
      ]
    },
    {
      "cell_type": "code",
      "metadata": {
        "id": "EI8mCLKVMNsK"
      },
      "source": [
        "fruit = \"Banana\"\n",
        "print(len(fruit))\n",
        "\n"
      ],
      "execution_count": null,
      "outputs": []
    },
    {
      "cell_type": "markdown",
      "metadata": {
        "id": "4WRvcjuIMQln"
      },
      "source": [
        "To get the last letter of a string, you might be tempted to try something like this:"
      ]
    },
    {
      "cell_type": "code",
      "metadata": {
        "id": "BAt9PIfbMg5g"
      },
      "source": [
        "fruit = \"Banana\"\n",
        "sz = len(fruit)\n",
        "last = fruit[sz]       # ERROR!\n",
        "print(last)"
      ],
      "execution_count": null,
      "outputs": []
    },
    {
      "cell_type": "markdown",
      "metadata": {
        "id": "LWINuvmXMq0e"
      },
      "source": [
        "That won't work. It causes the runtime error ``IndexError: string index out of range``. The reason is that there is no letter at index position 6 in ``\"Banana\"``.  Since we started counting at zero, the six indexes are numbered 0 to 5. To get the last character, we have to subtract 1 from the length.  Give it a try in the example above."
      ]
    },
    {
      "cell_type": "code",
      "metadata": {
        "id": "DJ8PmUv-MvMM"
      },
      "source": [
        "fruit = \"Banana\"\n",
        "sz = len(fruit)\n",
        "lastch = fruit[sz-1]\n",
        "print(lastch)"
      ],
      "execution_count": null,
      "outputs": []
    },
    {
      "cell_type": "markdown",
      "metadata": {
        "id": "r_3Hg3o6M7q9"
      },
      "source": [
        "Alternatively in Python, we can use **negative indices**, which count backward from the end of the string. The expression ``fruit[-1]`` yields the last letter, ``fruit[-2]`` yields the second to last, and so on.  Try it!   Most other languages do *not* allow the negative indices, but they are a handy feature of Python!"
      ]
    },
    {
      "cell_type": "markdown",
      "metadata": {
        "id": "o8EDsbxtNB_c"
      },
      "source": [
        "### <a name=\"exer8\"></a> Exercise 8 \n",
        "\n",
        "What is printed by the following statements?\n",
        "\n",
        "```python \n",
        "s = \"python rocks\"\n",
        "print(s[len(s)-5])\n",
        "```\n",
        "\n",
        "* A. o \n",
        "* B. r \n",
        "* C. s \n",
        "* D. Error, len(s) is 12 and there is no index 12. \n",
        "\n",
        "[exercise 8 answers](#ans8)"
      ]
    },
    {
      "cell_type": "markdown",
      "metadata": {
        "id": "h4LxeUEfN0by"
      },
      "source": [
        "## The Slice Operator \n",
        "\n",
        "A substring of a string is called a **slice**. Selecting a slice is similar to selecting a character:\n",
        "\n"
      ]
    },
    {
      "cell_type": "code",
      "metadata": {
        "id": "Sx2meGHdN3C9"
      },
      "source": [
        "singers = \"Peter, Paul, and Mary\"\n",
        "print(singers[0:5])\n",
        "print(singers[7:11])\n",
        "print(singers[17:21])"
      ],
      "execution_count": null,
      "outputs": []
    },
    {
      "cell_type": "markdown",
      "metadata": {
        "id": "5NRWpZWSN7u1"
      },
      "source": [
        "The `slice` operator ``[n:m]`` returns the part of the string from the n'th character to the m'th character, including the first but excluding the last. In other words,  start with the character at index n and go up to but do not include the character at index m. This behavior may seem counter-intuitive but if you recall the ``range`` function, it did not include its end point either.\n",
        "\n",
        "If you omit the first index (before the colon), the slice starts at the beginning of the string. If you omit the second index, the slice goes to the end of the string.\n",
        "\n",
        "There is no Index Out Of Range exception for a slice.  A slice is forgiving and shifts any offending index to something legal. \n",
        "\n"
      ]
    },
    {
      "cell_type": "code",
      "metadata": {
        "id": "LoXcOndSOQ9D"
      },
      "source": [
        "fruit = \"banana\"\n",
        "print(fruit[:3])\n",
        "print(fruit[3:])\n",
        "print(fruit[3:-10])\n",
        "print(fruit[3:99])"
      ],
      "execution_count": null,
      "outputs": []
    },
    {
      "cell_type": "markdown",
      "metadata": {
        "id": "umCb_0dpOV4Z"
      },
      "source": [
        "What do you think `fruit[:]` means?"
      ]
    },
    {
      "cell_type": "code",
      "metadata": {
        "id": "JSDg29V5OYxW"
      },
      "source": [
        ""
      ],
      "execution_count": null,
      "outputs": []
    },
    {
      "cell_type": "markdown",
      "metadata": {
        "id": "_ZUOB4GcOZZx"
      },
      "source": [
        "## String Comparison \n",
        "\n",
        "The comparison operators also work on strings. To see if two strings are equal you simply write a boolean expression using the equality operator."
      ]
    },
    {
      "cell_type": "code",
      "metadata": {
        "id": "FR-S2j-mO6J5"
      },
      "source": [
        "word = \"banana\"\n",
        "if word == \"banana\":\n",
        "    print(\"Yes, we have bananas!\")\n",
        "else:\n",
        "    print(\"Yes, we have NO bananas!\")"
      ],
      "execution_count": null,
      "outputs": []
    },
    {
      "cell_type": "markdown",
      "metadata": {
        "id": "niDXoE2bO81T"
      },
      "source": [
        "Other comparison operations are useful for putting words in\n",
        "[lexicographical order](http://en.wikipedia.org/wiki/Lexicographic_order).\n",
        "This is similar to the alphabetical order you would use with a dictionary,\n",
        "except that all the uppercase letters come before all the lowercase letters."
      ]
    },
    {
      "cell_type": "code",
      "metadata": {
        "id": "qFcMLFbVO_cF"
      },
      "source": [
        "word = \"zebra\"\n",
        "\n",
        "if word < \"banana\":\n",
        "    print(\"Your word, \" + word + \", comes before banana.\")\n",
        "elif word > \"banana\":\n",
        "    print(\"Your word, \" + word + \", comes after banana.\")\n",
        "else:\n",
        "    print(\"Yes, we have no bananas!\")"
      ],
      "execution_count": null,
      "outputs": []
    },
    {
      "cell_type": "markdown",
      "metadata": {
        "id": "4n0FdsoEPC6W"
      },
      "source": [
        "It is probably clear to you that the word `apple` would be less than (come before) the word ``banana``. After all, `a` is before `b` in the alphabet.  But what if we consider the words ``apple`` and ``Apple``? Are they the same? "
      ]
    },
    {
      "cell_type": "code",
      "metadata": {
        "id": "3A08zZ2TPCQ3"
      },
      "source": [
        "print(\"apple\" < \"banana\")\n",
        "\n",
        "print(\"apple\" == \"Apple\")\n",
        "print(\"apple\" < \"Apple\")"
      ],
      "execution_count": null,
      "outputs": []
    },
    {
      "cell_type": "markdown",
      "metadata": {
        "id": "2L8oViHpPWFC"
      },
      "source": [
        "It turns out, as you recall from our discussion of variable names, that uppercase and lowercase letters are considered to be different from one another.  The way the computer knows they are different is that each character is assigned a unique integer value.  \"A\" is 65, \"B\" is 66, and \"5\" is 53.  The way you can find out the so-called **ordinal value** for a given character is to use a character function called ``ord``."
      ]
    },
    {
      "cell_type": "code",
      "metadata": {
        "id": "aT-TvSbuPkNz"
      },
      "source": [
        "print(ord(\"A\"))\n",
        "print(ord(\"B\"))\n",
        "print(ord(\"5\"))\n",
        "\n",
        "print(ord(\"a\"))\n",
        "print(\"apple\" > \"Apple\")"
      ],
      "execution_count": null,
      "outputs": []
    },
    {
      "cell_type": "markdown",
      "metadata": {
        "id": "tOhrYGUWPwUF"
      },
      "source": [
        "When you compare characters or strings to one another, Python converts the characters into their equivalent ordinal values and compares the integers from left to right.  As you can see from the example above, \"a\" is greater than \"A\" so \"apple\" is greater than \"Apple\".\n",
        "\n",
        "Humans commonly ignore capitalization when comparing two words.  However, computers do not.  A common way to address this issue is to convert strings to a standard format, such as all lowercase, before performing the comparison. \n",
        "\n",
        "There is also a similar function called ``chr`` that converts integers into their character equivalent."
      ]
    },
    {
      "cell_type": "code",
      "metadata": {
        "id": "8KdRe6H2P0BI"
      },
      "source": [
        "print(chr(65))\n",
        "print(chr(66))\n",
        "\n",
        "print(chr(49))\n",
        "print(chr(53))\n",
        "\n",
        "print(\"The character for 32 is\", chr(32), \"!!!\")\n",
        "print(ord(\" \"))"
      ],
      "execution_count": null,
      "outputs": []
    },
    {
      "cell_type": "markdown",
      "metadata": {
        "id": "oTVf20SpP6y_"
      },
      "source": [
        "## Strings are Immutable \n",
        "\n",
        "One final thing that makes strings different from some other Python collection types is that you are not allowed to modify the individual characters in the collection.  It is tempting to use the ``[]`` operator on the left side of an assignment, with the intention of changing a character in a string.  For example, in the following code, we would like to change the first letter of ``greeting``.\n"
      ]
    },
    {
      "cell_type": "code",
      "metadata": {
        "id": "NqpOUW-oRa6k"
      },
      "source": [
        "greeting = \"Hello, world!\"\n",
        "greeting[0] = 'J'            # ERROR!\n",
        "print(greeting)"
      ],
      "execution_count": null,
      "outputs": []
    },
    {
      "cell_type": "markdown",
      "metadata": {
        "id": "3KFeX1cnRfqj"
      },
      "source": [
        "Instead of producing the output ``Jello, world!``, this code produces the runtime error ``TypeError: 'str' object does not support item assignment``.\n",
        "\n",
        "Strings are **immutable**, which means you cannot change an existing string. The best you can do is create a new string that is a variation on the original.\n",
        "\n",
        "\n"
      ]
    },
    {
      "cell_type": "code",
      "metadata": {
        "id": "WUa8kQJeRvhW"
      },
      "source": [
        "greeting = \"Hello, world!\"\n",
        "newGreeting = 'J' + greeting[1:]\n",
        "print(newGreeting)\n",
        "print(greeting)   "
      ],
      "execution_count": null,
      "outputs": []
    },
    {
      "cell_type": "markdown",
      "metadata": {
        "id": "VQp_EdRdRw_s"
      },
      "source": [
        "The solution here is to concatenate a new first letter onto a slice of ``greeting``. This operation has no effect on the original string."
      ]
    },
    {
      "cell_type": "markdown",
      "metadata": {
        "id": "D_N7AKU2SQ1J"
      },
      "source": [
        "## Traversal and the `for` Loop: By Item \n",
        "\n",
        "A lot of computations involve processing a collection one item at a time.  For strings this means that we would like to process one character at a time. Often we start at the beginning, select each character in turn, do something to it, and continue until the end. This pattern of processing is called a **traversal**.\n",
        "\n",
        "We have previously seen that the ``for`` statement can iterate over the items of a sequence (a list of names in the case below).\n"
      ]
    },
    {
      "cell_type": "code",
      "metadata": {
        "id": "252uGpiTSR0n"
      },
      "source": [
        "for aname in [\"Joe\", \"Amy\", \"Brad\", \"Angelina\", \"Zuki\", \"Thandi\", \"Paris\"]:\n",
        "    invitation = \"Hi \" + aname + \".  Please come to my party on Saturday!\"\n",
        "    print(invitation)"
      ],
      "execution_count": null,
      "outputs": []
    },
    {
      "cell_type": "markdown",
      "metadata": {
        "id": "7edrFK2ASTlX"
      },
      "source": [
        "Recall that the loop variable takes on each value in the sequence of names.  The body is performed once for each name.  The same was true for the sequence of integers created by the ``range`` function."
      ]
    },
    {
      "cell_type": "code",
      "metadata": {
        "id": "frmj4DLTSXup"
      },
      "source": [
        "for avalue in range(10):\n",
        "    print(avalue)"
      ],
      "execution_count": null,
      "outputs": []
    },
    {
      "cell_type": "markdown",
      "metadata": {
        "id": "85_4PbnHSgd_"
      },
      "source": [
        "Since a string is simply a sequence of characters, the ``for`` loop iterates over each character automatically.\n"
      ]
    },
    {
      "cell_type": "code",
      "metadata": {
        "id": "QGynzaydSmX4"
      },
      "source": [
        "for achar in \"Go Spot Go\":\n",
        "    print(achar)"
      ],
      "execution_count": null,
      "outputs": []
    },
    {
      "cell_type": "markdown",
      "metadata": {
        "id": "TEQO9cR4StvS"
      },
      "source": [
        "The loop variable ``achar`` is automatically reassigned each character in the string \"Go Spot Go\". We will refer to this type of sequence iteration as **iteration by item**.   Note that it is only possible to process the characters one at a time from left to right."
      ]
    },
    {
      "cell_type": "markdown",
      "metadata": {
        "id": "qBl1DfmzSzQj"
      },
      "source": [
        "### <a name=\"exer9\"></a> Exercise 9 \n",
        "\n",
        "How many times is the word HELLO printed by the following statements?\n",
        "\n",
        "```\n",
        "s = \"python rocks\"\n",
        "for ch in s:\n",
        "    print(\"HELLO\")\n",
        "``` \n",
        "\n",
        "* A. 10 \n",
        "* B. 11 \n",
        "* C. 12 \n",
        "* D. Error, the for statement needs to use the range function. \n",
        "\n",
        "[exercise 9 answer](#ans9)"
      ]
    },
    {
      "cell_type": "markdown",
      "metadata": {
        "id": "TPx7bblZTst6"
      },
      "source": [
        "## Traversal and the `for` Loop: By Index \n",
        "\n",
        "It is also possible to use the ``range`` function to systematically generate the indices of the characters.  The ``for`` loop can then be used to iterate over these positions.  These positions can be used together with the indexing operator to access the individual characters in the string."
      ]
    },
    {
      "cell_type": "code",
      "metadata": {
        "id": "89G7dqhnTurh"
      },
      "source": [
        "fruit = \"apple\"\n",
        "for idx in range(5):\n",
        "    currentChar = fruit[idx]\n",
        "    print(currentChar)"
      ],
      "execution_count": null,
      "outputs": []
    },
    {
      "cell_type": "markdown",
      "metadata": {
        "id": "v-4cIQ5uTx1-"
      },
      "source": [
        "The index positions in \"apple\" are 0,1,2,3 and 4.  This is exactly the same sequence of integers returned by ``range(5)``.  The first time through the for loop, ``idx`` will be 0 and the \"a\" will be printed.  Then, ``idx`` will be reassigned to 1 and \"p\" will be displayed.  This will repeat for all the range values up to but not including 5.  Since \"e\" has index 4, this will be exactly right to show all  of the characters.\n",
        "\n",
        "In order to make the iteration more general, we can use the ``len`` function to provide the bound for ``range``.  This is a very common pattern for traversing any sequence by position.    Make sure you understand why the range function behaves correctly when using ``len`` of the string as its parameter value."
      ]
    },
    {
      "cell_type": "code",
      "metadata": {
        "id": "HJ2Ph0qLT4Z0"
      },
      "source": [
        "fruit = \"apple\"\n",
        "for idx in range(len(fruit)):\n",
        "    print(fruit[idx])"
      ],
      "execution_count": null,
      "outputs": []
    },
    {
      "cell_type": "markdown",
      "metadata": {
        "id": "E48fg1phT9Ri"
      },
      "source": [
        "You may also note that iteration by position allows the programmer to control the direction of the traversal by changing the sequence of index values.  Recall that we can create ranges that count down as  well as up so the following code will print the characters from right to left."
      ]
    },
    {
      "cell_type": "code",
      "metadata": {
        "id": "yTZs_1PMUGmy"
      },
      "source": [
        "fruit = \"apple\"\n",
        "for idx in range(len(fruit)-1, -1, -1):\n",
        "    print(fruit[idx])"
      ],
      "execution_count": null,
      "outputs": []
    },
    {
      "cell_type": "markdown",
      "metadata": {
        "id": "3oh1f0bfURaf"
      },
      "source": [
        "## Traveral and the `while` Loop \n",
        "\n",
        "The ``while`` loop can also control the generation of the index values.  Remember that the programmer is responsible for setting up the initial condition, making sure that the condition is correct, and making sure that something changes inside the body to guarantee that the condition will eventually fail."
      ]
    },
    {
      "cell_type": "code",
      "metadata": {
        "id": "vDqhmaZhUcWx"
      },
      "source": [
        "fruit = \"apple\"\n",
        "\n",
        "position = 0\n",
        "while position < len(fruit):\n",
        "    print(fruit[position])\n",
        "    position = position + 1"
      ],
      "execution_count": null,
      "outputs": []
    },
    {
      "cell_type": "markdown",
      "metadata": {
        "id": "ZpP2giXMUlz7"
      },
      "source": [
        "The loop condition is ``position < len(fruit)``, so when ``position`` is equal to the length of the string, the condition is false, and the body of the loop is not executed. The last character accessed is the one with the index ``len(fruit)-1``, which is the last character in the string.\n"
      ]
    },
    {
      "cell_type": "markdown",
      "metadata": {
        "id": "u0yyY1BsUxc_"
      },
      "source": [
        "## The `in` and `not in` operators \n",
        "\n",
        "The ``in`` operator tests if one string is a substring of another:\n",
        "\n"
      ]
    },
    {
      "cell_type": "code",
      "metadata": {
        "id": "FvYBaqgjUy2Z"
      },
      "source": [
        "print('p' in 'apple')\n",
        "print('i' in 'apple')\n",
        "print('ap' in 'apple')\n",
        "print('pa' in 'apple')"
      ],
      "execution_count": null,
      "outputs": []
    },
    {
      "cell_type": "markdown",
      "metadata": {
        "id": "kC6iO-zkU6Hj"
      },
      "source": [
        "Note that a string is a substring of itself, and the empty string is a  substring of any other string. (Also note that computer scientists  like to think about these edge cases quite carefully!) \n"
      ]
    },
    {
      "cell_type": "code",
      "metadata": {
        "id": "iQzjSJzHU-wQ"
      },
      "source": [
        "print('a' in 'a')\n",
        "print('apple' in 'apple')\n",
        "print('' in 'a')\n",
        "print('' in 'apple')"
      ],
      "execution_count": null,
      "outputs": []
    },
    {
      "cell_type": "markdown",
      "metadata": {
        "id": "LRiYerxdVC-q"
      },
      "source": [
        "The ``not in`` operator returns the logical opposite result of ``in``."
      ]
    },
    {
      "cell_type": "code",
      "metadata": {
        "id": "HZe7ma6dVINu"
      },
      "source": [
        "print('x' not in 'apple')"
      ],
      "execution_count": null,
      "outputs": []
    },
    {
      "cell_type": "markdown",
      "metadata": {
        "id": "aNScbiz2Vebk"
      },
      "source": [
        "## The Accumulator Pattern with Strings\n",
        "\n",
        "Combining the ``in`` operator with string concatenation using ``+`` and the accumulator pattern, we can write a function that removes all the vowels from a string.  The idea is to start with a string and iterate over each character, checking to see if the character is a vowel.  As we process the characters, we will build up a new string consisting of only the nonvowel characters.  To do this, we use the accumulator pattern.\n",
        "\n",
        "Remember that the accumulator pattern allows us to keep a \"running total\".  With strings, we are not accumulating a numeric total.  Instead we are accumulating characters onto a string."
      ]
    },
    {
      "cell_type": "code",
      "metadata": {
        "id": "M0pgl2_TVfgP"
      },
      "source": [
        "def removeVowels(s):\n",
        "    vowels = \"aeiouAEIOU\"\n",
        "    sWithoutVowels = \"\"\n",
        "    for eachChar in s:\n",
        "        if eachChar not in vowels:\n",
        "            sWithoutVowels = sWithoutVowels + eachChar\n",
        "    return sWithoutVowels\n",
        "\n",
        "print(removeVowels(\"compsci\"))\n",
        "print(removeVowels(\"aAbEefIijOopUus\"))"
      ],
      "execution_count": null,
      "outputs": []
    },
    {
      "cell_type": "markdown",
      "metadata": {
        "id": "VFMgaqYjVxGn"
      },
      "source": [
        "Line 5 uses the ``not in`` operator to check whether the current character is not in the string ``vowels``. The alternative to using this operator would be to write a very large ``if`` statement that checks each of the individual vowel characters.  Note we would need to use logical ``and`` to be sure that the character is not any of the vowels.\n",
        "\n",
        "```python \n",
        "if eachChar != 'a'  and eachChar != 'e'  and eachChar != 'i'  and\n",
        "   eachChar != 'o'  and eachChar != 'u'  and eachChar != 'A'  and\n",
        "   eachChar != 'E'  and eachChar != 'I'  and eachChar != 'O'  and\n",
        "   eachChar != 'U':      \n",
        "   \n",
        "     sWithoutVowels = sWithoutVowels + eachChar\n",
        "```\n",
        "\n",
        "Look carefully at line 6 in the above program (``sWithoutVowels = sWithoutVowels + eachChar``).  We will do this for every character that is not a vowel.  This should look very familiar.  As we were describing earlier, it is an example of the accumulator pattern, this time using a string to \"accumulate\" the final result. In words it says that the new value of ``sWithoutVowels`` will be the old value of ``sWithoutVowels`` concatenated with the value of ``eachChar``.  We are building the result string character by character. \n",
        "\n",
        "Take a close look also at the initialization of ``sWithoutVowels``.  We start with an empty string and then begin adding new characters to the end.\n",
        "\n"
      ]
    },
    {
      "cell_type": "markdown",
      "metadata": {
        "id": "pfjbUOd3V24I"
      },
      "source": [
        "### <a name=\"exer10\"></a> Exercise 10 \n",
        "\n",
        "What is printed by the following statements: \n",
        "\n",
        "```python \n",
        "s = \"ball\"\n",
        "r = \"\"\n",
        "for item in s:\n",
        "    r = item.upper() + r\n",
        "print(r)\n",
        "```\n",
        "\n",
        "* A. Ball \n",
        "* B. BALL \n",
        "* C. LLAB \n",
        "\n",
        "[exercise 10 answers](#ans10)"
      ]
    },
    {
      "cell_type": "markdown",
      "metadata": {
        "id": "aB3q4turWv9L"
      },
      "source": [
        "## Looping and Counting \n",
        "\n",
        "We will finish this section  with a few more examples that show variations on the theme of iteration through the characters of a string.  We will implement a few of the methods that we described earlier to show how they can be done.\n",
        "\n",
        "\n",
        "The following program counts the number of times a particular letter, ``aChar``, appears in a string.  It is another example of the accumulator pattern that we have seen in previous chapters."
      ]
    },
    {
      "cell_type": "code",
      "metadata": {
        "id": "xpTBti6EWw_I"
      },
      "source": [
        "def count(text, aChar):\n",
        "    lettercount = 0\n",
        "    for c in text:\n",
        "        if c == aChar:\n",
        "            lettercount = lettercount + 1\n",
        "    return lettercount\n",
        "\n",
        "print(count(\"banana\",\"a\"))"
      ],
      "execution_count": null,
      "outputs": []
    },
    {
      "cell_type": "markdown",
      "metadata": {
        "id": "Nerw2ZDcWzmy"
      },
      "source": [
        "The function ``count`` takes a string as its parameter.  The ``for`` statement iterates through each character in the string and checks to see if the character is equal to the value of ``aChar``.  If so, the counting variable, ``lettercount``, is incremented by one. When all characters have been processed, the ``lettercount`` is returned."
      ]
    },
    {
      "cell_type": "markdown",
      "metadata": {
        "id": "curtRWMoW7yX"
      },
      "source": [
        "## A `find` function \n",
        "\n",
        "Here is an implementation for a restricted ``find`` method, where the target is a single character."
      ]
    },
    {
      "cell_type": "code",
      "metadata": {
        "id": "THA4ViowXQdw"
      },
      "source": [
        "def find(astring, achar):\n",
        "    \"\"\"\n",
        "    Find and return the index of achar in astring.\n",
        "    Return -1 if achar does not occur in astring.\n",
        "    \"\"\"\n",
        "    ix = 0\n",
        "    found = False\n",
        "    while ix < len(astring) and not found:\n",
        "        if astring[ix] == achar:\n",
        "            found = True\n",
        "        else:\n",
        "            ix = ix + 1\n",
        "    if found:\n",
        "        return ix\n",
        "    else:\n",
        "        return -1\n",
        "\n",
        "print(find(\"Compsci\", \"p\"))\n",
        "print(find(\"Compsci\", \"C\"))\n",
        "print(find(\"Compsci\", \"i\"))\n",
        "print(find(\"Compsci\", \"x\"))"
      ],
      "execution_count": null,
      "outputs": []
    },
    {
      "cell_type": "markdown",
      "metadata": {
        "id": "6cTrpEiEXSqN"
      },
      "source": [
        "In a sense, ``find`` is the opposite of the indexing operator. Instead of taking an index and extracting the corresponding character, it takes a character and finds the index where that character appears for the first time. If the character is not found, the function returns ``-1``.\n",
        "\n",
        "The ``while`` loop in this example uses a slightly more complex condition than we have seen in previous programs.  Here there are two parts to the condition.  We want to keep going if there are more characters to look through and we want to keep going if we have not found what we are  looking for.  The variable ``found`` is a boolean variable that keeps track of whether we have found the character we are searching for.  It is initialized to *False*.  If we find the character, we reassign ``found`` to *True*.\n",
        "\n",
        "The other part of the condition is the same as we used previously to traverse the characters of the string.  Since we have now combined these two parts with a logical ``and``, it is necessary for them both to be *True* to continue iterating.  If one part fails, the condition fails and the iteration stops.\n",
        "\n",
        "When the iteration stops, we must ask a question to find out the individual condition that caused the termination, and then return the proper value.  This is a pattern for dealing with while loops with compound conditions.\n",
        "\n",
        "*Note* This pattern of computation is sometimes called a eureka traversal because as soon as we find what we are looking for, we can cry Eureka!  and stop looking.  The way\twe stop looking is by setting ``found`` to True which causes the condition to fail."
      ]
    },
    {
      "cell_type": "markdown",
      "metadata": {
        "id": "GhQhpmKihpOS"
      },
      "source": [
        "## Optional parameters \n",
        "\n",
        "To find the locations of the second or third occurrence of a character in a string, we can modify the ``find`` function, adding a third parameter for the starting position in the search string:\n",
        "\n"
      ]
    },
    {
      "cell_type": "code",
      "metadata": {
        "id": "IH9l4COBhr8j"
      },
      "source": [
        "def find2(astring, achar, start):\n",
        "    \"\"\"\n",
        "    Find and return the index of achar in astring.\n",
        "    Return -1 if achar does not occur in astring.\n",
        "    \"\"\"\n",
        "    ix = start\n",
        "    found = False\n",
        "    while ix < len(astring) and not found:\n",
        "        if astring[ix] == achar:\n",
        "            found = True\n",
        "        else:\n",
        "            ix = ix + 1\n",
        "    if found:\n",
        "        return ix\n",
        "    else:\n",
        "        return -1\n",
        "\n",
        "print(find2('banana', 'a', 2))"
      ],
      "execution_count": null,
      "outputs": []
    },
    {
      "cell_type": "markdown",
      "metadata": {
        "id": "ZsL6M4d_htaf"
      },
      "source": [
        "The call ``find2('banana', 'a', 2)`` now returns ``3``, the index of the first occurrence of 'a' in 'banana' after index 2. What does ``find2('banana', 'n', 3)`` return? If you said, 4, there is a good chance you understand how ``find2`` works.  Try it.\n",
        "\n",
        "Better still, we can combine ``find`` and ``find2`` using an **optional parameter**."
      ]
    },
    {
      "cell_type": "code",
      "metadata": {
        "id": "CrmmkAr8hzin"
      },
      "source": [
        "def find3(astring, achar, start=0):\n",
        "    \"\"\"\n",
        "    Find and return the index of achar in astring.\n",
        "    Return -1 if achar does not occur in astring.\n",
        "    \"\"\"\n",
        "    ix = start\n",
        "    found = False\n",
        "    while ix < len(astring) and not found:\n",
        "        if astring[ix] == achar:\n",
        "            found = True\n",
        "        else:\n",
        "            ix = ix + 1\n",
        "    if found:\n",
        "        return ix\n",
        "    else:\n",
        "        return -1\n",
        "\n",
        "print(find3('banana', 'a', 2))\n",
        "\n"
      ],
      "execution_count": null,
      "outputs": []
    },
    {
      "cell_type": "markdown",
      "metadata": {
        "id": "Tr0ONc73h4Yx"
      },
      "source": [
        "The call ``find3('banana', 'a', 2)`` to this version of ``find`` behaves just like ``find2``, while in the call ``find3('banana', 'a')``, ``start`` will be set to the **default value** of ``0``.\n",
        "\n",
        "Adding another optional parameter to ``find`` makes it search from a starting position, up to but not including the end position.\n"
      ]
    },
    {
      "cell_type": "code",
      "metadata": {
        "id": "IDngqzkqiBIq"
      },
      "source": [
        "def find4(astring, achar, start=0, end=None):\n",
        "    \"\"\"\n",
        "    Find and return the index of achar in astring.\n",
        "    Return -1 if achar does not occur in astring.\n",
        "    \"\"\"\n",
        "    ix = start\n",
        "    if end == None:\n",
        "        end = len(astring)\n",
        "\n",
        "    found = False\n",
        "    while ix < end and not found:\n",
        "        if astring[ix] == achar:\n",
        "            found = True\n",
        "        else:\n",
        "            ix = ix + 1\n",
        "    if found:\n",
        "        return ix\n",
        "    else:\n",
        "        return -1\n",
        "\n",
        "ss = \"Python strings have some interesting methods.\"\n",
        "\n",
        "print(find4(ss, 's'))\n",
        "print(find4(ss, 's', 7))\n",
        "print(find4(ss, 's', 8))\n",
        "print(find4(ss, 's', 8, 13))\n",
        "print(find4(ss, '.'))\n",
        "\n"
      ],
      "execution_count": null,
      "outputs": []
    },
    {
      "cell_type": "markdown",
      "metadata": {
        "id": "ckCZyC0MiGoQ"
      },
      "source": [
        "The optional value for ``end`` is interesting.  We give it a default value ``None`` if the caller does not supply any argument.  In the body of the function we test what ``end`` is and if the caller did not supply any argument, we reassign ``end`` to be the length of the string. If the caller has supplied an argument for ``end``, however, the caller's value will be used in the loop.\n",
        "\n",
        "The semantics of ``start`` and ``end`` in this function are precisely the same as they are in the ``range`` function.\n"
      ]
    },
    {
      "cell_type": "markdown",
      "metadata": {
        "id": "NdfTsfxxipvn"
      },
      "source": [
        "### <a name=\"exer11\"></a> Exercise 11\n",
        "\n",
        "Write a function that mirrors its string argument, generating a string containing the original string and the string backwards.\n",
        "\n"
      ]
    },
    {
      "cell_type": "code",
      "metadata": {
        "id": "4S3_IKAfiyQ7"
      },
      "source": [
        "import unittest \n",
        "\n",
        "def reverse(mystr):\n",
        "    reversed = ''\n",
        "    # Fill in the rest \n",
        "\n",
        "    return reversed\n",
        "\n",
        "def mirror(mystr):\n",
        "    return mystr + reverse(mystr)\n",
        "\n",
        "class TestNotebook(unittest.TestCase):\n",
        "    \n",
        "    def test_mirror(self):\n",
        "        self.assertEqual(mirror('good'), 'gooddoog')\n",
        "\n",
        "    def test_mirror2(self):\n",
        "        self.assertEqual(mirror('Python'), 'PythonnohtyP')\n",
        "    \n",
        "    def test_mirror3(self):\n",
        "        self.assertEqual(mirror('a'), 'aa')\n",
        "    \n",
        "    def test_mirror4(self):\n",
        "        self.assertEqual(mirror(''), '')\n",
        "\n",
        "unittest.main(argv=[''], verbosity=2, exit=False)"
      ],
      "execution_count": null,
      "outputs": []
    },
    {
      "cell_type": "markdown",
      "metadata": {
        "id": "taUQFuDdi5I3"
      },
      "source": [
        "[exercise 11 answers](#ans11)"
      ]
    },
    {
      "cell_type": "markdown",
      "metadata": {
        "id": "zjvtPzBIBEz-"
      },
      "source": [
        "---"
      ]
    },
    {
      "cell_type": "markdown",
      "metadata": {
        "id": "Ydx7zvIbEN9M"
      },
      "source": [
        "## Answers to Exercises"
      ]
    },
    {
      "cell_type": "markdown",
      "metadata": {
        "id": "lv70fzYJBGKY"
      },
      "source": [
        "### <a name=\"ans1\"></a>Exercise 1\n",
        "\n",
        "C. pythonrocks \n",
        "\n",
        "Yes, the two strings are glued end to end.\n",
        "\n",
        "[Back to Exercises](#exer1)"
      ]
    },
    {
      "cell_type": "markdown",
      "metadata": {
        "id": "LjG0xc0IBxCX"
      },
      "source": [
        "### <a name=\"ans2\"></a>Exercise 2 \n",
        "\n",
        "A. python!!! \n",
        "\n",
        " Yes, repetition has precedence over concatenation\n",
        "\n",
        " [Back to Exercises](#exer2)"
      ]
    },
    {
      "cell_type": "markdown",
      "metadata": {
        "id": "ZvmeKK8tE9vA"
      },
      "source": [
        "### <a name=\"ans3\"></a>Exercise 3 \n",
        "\n",
        "B. h \n",
        "\n",
        "Yes, index locations start with 0. \n",
        "\n",
        "[Back to Exercises](#exer3)"
      ]
    },
    {
      "cell_type": "markdown",
      "metadata": {
        "id": "-3XzbnlbFKh3"
      },
      "source": [
        "### <a name=\"ans4\"></a> Exercise 4\n",
        "\n",
        "A. tr \n",
        "\n",
        "Yes, indexing operator has precedence over concatenation. \n",
        "\n",
        "[Back to Exercises](#exer4)"
      ]
    },
    {
      "cell_type": "markdown",
      "metadata": {
        "id": "ePn-jANCIHjf"
      },
      "source": [
        "### <a name=\"ans5\"></a> Exercise 5 \n",
        "\n",
        "C. 3 \n",
        "\n",
        "Yes, add the number of o characters and the number of p characters.\n",
        "\n",
        "[Back to Exercises](#exer5)"
      ]
    },
    {
      "cell_type": "markdown",
      "metadata": {
        "id": "Jmr4S5apIRwZ"
      },
      "source": [
        "### <a name=\"ans6\"></a> Exercise 6 \n",
        "\n",
        "A. yyyyy\n",
        "\n",
        "Yes, s[1] is y and the index of n is 5, so 5 y characters. It is important to realize that the index method has precedence over the repetition operator. Repetition is done last.\n",
        "\n",
        "[Back to Exercises](#exer6)"
      ]
    },
    {
      "cell_type": "markdown",
      "metadata": {
        "id": "XqAYZyQZLeAm"
      },
      "source": [
        "### <a name=\"ans7\"></a>Exercise 7 \n",
        "\n",
        "C. sum of 2 and 6 is 8; product: 12.\n",
        "\n",
        "Yes, correct substitutions! \n",
        "\n",
        "[Back to Exercises](#exer7)"
      ]
    },
    {
      "cell_type": "markdown",
      "metadata": {
        "id": "cTg73jzGNTJp"
      },
      "source": [
        "### <a name=\"ans8\"></a>Exercise 8 \n",
        "\n",
        "B. r \n",
        "\n",
        "Yes, len(s) is 12 and 12-5 is 7. Use 7 as index and remember to start counting with 0.\n",
        "\n",
        "[Back to Exercises](#exer8)"
      ]
    },
    {
      "cell_type": "markdown",
      "metadata": {
        "id": "bJbpJ09STD_x"
      },
      "source": [
        "### <a name=\"ans9\"></a> Exercise 9 \n",
        "\n",
        "C. 12 \n",
        "\n",
        "Yes, there are 12 characters, including the blank.\n",
        "\n",
        "[Back to Exercises](#exer9)"
      ]
    },
    {
      "cell_type": "markdown",
      "metadata": {
        "id": "64bEqzlpWHub"
      },
      "source": [
        "### <a name=\"ans10\"></a> Exercise 10 \n",
        "\n",
        "C. LLAB \n",
        "\n",
        "Yes, the order is reversed due to the order of the concatenation.\n",
        "\n",
        "[Back to Exercises](#exer10)"
      ]
    },
    {
      "cell_type": "markdown",
      "metadata": {
        "id": "Rj_3hmgKi9ya"
      },
      "source": [
        "### <a name=\"ans11\"></a> Exercise 11 \n",
        "\n",
        "\n"
      ]
    },
    {
      "cell_type": "code",
      "metadata": {
        "id": "o-ThzcWcBXf6"
      },
      "source": [
        " \n",
        "\n",
        "def reverse(mystr):\n",
        "    reversed = ''\n",
        "    for char in mystr:\n",
        "        reversed = char + reversed\n",
        "    return reversed\n",
        "\n",
        "def mirror(mystr):\n",
        "    return mystr + reverse(mystr)\n",
        "\n",
        "\n",
        "unittest.main(argv=[''], verbosity=2, exit=False)"
      ],
      "execution_count": null,
      "outputs": []
    },
    {
      "cell_type": "markdown",
      "metadata": {
        "id": "qHNkRw_bkPPM"
      },
      "source": [
        "[Back to Exercises](#exer11)"
      ]
    },
    {
      "cell_type": "code",
      "metadata": {
        "id": "KXSVgdjujMK-"
      },
      "source": [
        ""
      ],
      "execution_count": null,
      "outputs": []
    }
  ]
}